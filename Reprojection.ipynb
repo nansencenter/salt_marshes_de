{
 "cells": [
  {
   "cell_type": "code",
   "execution_count": 2,
   "id": "b3225537",
   "metadata": {},
   "outputs": [],
   "source": [
    "from nansat import Nansat\n",
    "from osgeo import gdal\n",
    "import numpy as np\n",
    "import pandas as pd\n",
    "import geopandas as gpd\n",
    "import rasterio\n",
    "import scipy\n",
    "import joblib\n",
    "from sklearn.ensemble import RandomForestClassifier\n",
    "from sklearn.model_selection import train_test_split, cross_val_score\n",
    "from sklearn.metrics import confusion_matrix, ConfusionMatrixDisplay, accuracy_score\n",
    "from sklearn.metrics import precision_score, recall_score, f1_score\n",
    "from sklearn.decomposition import PCA\n",
    "from sklearn.datasets import make_classification\n",
    "from sklearn.linear_model import LogisticRegression\n",
    "from sklearn.pipeline import make_pipeline\n",
    "from sklearn.preprocessing import StandardScaler\n",
    "from sklearn import preprocessing\n",
    "\n",
    "import matplotlib as mpl\n",
    "mpl.use('Qt5Agg')\n",
    "import matplotlib.pyplot as plt\n"
   ]
  },
  {
   "cell_type": "code",
   "execution_count": 3,
   "id": "6cfba1ec",
   "metadata": {},
   "outputs": [],
   "source": [
    "s2_path = r'C:\\Users\\ariane\\shared\\NERSC\\classification\\Subset_S2_20210716_resampled.tif'\n",
    "rpoints = 'C:/Users/ariane/shared/NERSC/classification/rasterpoints.shp'\n",
    "path = 'C:/Users/ariane/shared/NERSC/classification/'"
   ]
  },
  {
   "cell_type": "code",
   "execution_count": 4,
   "id": "671f3037",
   "metadata": {},
   "outputs": [
    {
     "name": "stdout",
     "output_type": "stream",
     "text": [
      "Variable                 Type             Data/Info\n",
      "---------------------------------------------------\n",
      "ConfusionMatrixDisplay   type             <class 'sklearn.metrics._<...>.ConfusionMatrixDisplay'>\n",
      "LogisticRegression       type             <class 'sklearn.linear_mo<...>stic.LogisticRegression'>\n",
      "Nansat                   type             <class 'nansat.nansat.Nansat'>\n",
      "PCA                      ABCMeta          <class 'sklearn.decomposition._pca.PCA'>\n",
      "RandomForestClassifier   ABCMeta          <class 'sklearn.ensemble.<...>.RandomForestClassifier'>\n",
      "StandardScaler           type             <class 'sklearn.preproces<...>ng._data.StandardScaler'>\n",
      "accuracy_score           function         <function accuracy_score at 0x000001D79649C280>\n",
      "arr                      ndarray          6x1091x960: 6284160 elems, type `uint16`, 12568320 bytes (11.986083984375 Mb)\n",
      "b2                       ndarray          1091x960: 1047360 elems, type `uint16`, 2094720 bytes (1.9976806640625 Mb)\n",
      "confusion_matrix         function         <function confusion_matrix at 0x000001D79649C310>\n",
      "cross_val_score          function         <function cross_val_score at 0x000001D796633E20>\n",
      "f1_score                 function         <function f1_score at 0x000001D79649C670>\n",
      "gdal                     module           <module 'osgeo.gdal' from<...>ackages\\\\osgeo\\\\gdal.py'>\n",
      "gpd                      module           <module 'geopandas' from <...>\\geopandas\\\\__init__.py'>\n",
      "joblib                   module           <module 'joblib' from 'C:<...>es\\\\joblib\\\\__init__.py'>\n",
      "make_classification      function         <function make_classifica<...>on at 0x000001D7979B2200>\n",
      "make_pipeline            function         <function make_pipeline at 0x000001D797B04280>\n",
      "meta                     dict             n=8\n",
      "mpl                      module           <module 'matplotlib' from<...>matplotlib\\\\__init__.py'>\n",
      "n                        ndarray          6x1091x960: 6284160 elems, type `uint16`, 12568320 bytes (11.986083984375 Mb)\n",
      "np                       module           <module 'numpy' from 'C:\\<...>ges\\\\numpy\\\\__init__.py'>\n",
      "path                     str              C:/Users/ariane/shared/NERSC/classification/\n",
      "pd                       module           <module 'pandas' from 'C:<...>es\\\\pandas\\\\__init__.py'>\n",
      "plt                      module           <module 'matplotlib.pyplo<...>\\\\matplotlib\\\\pyplot.py'>\n",
      "precision_score          function         <function precision_score at 0x000001D79649C9D0>\n",
      "preprocessing            module           <module 'sklearn.preproce<...>processing\\\\__init__.py'>\n",
      "rasterio                 module           <module 'rasterio' from '<...>\\\\rasterio\\\\__init__.py'>\n",
      "recall_score             function         <function recall_score at 0x000001D79649CA60>\n",
      "rpoints                  str              C:/Users/ariane/shared/NE<...>fication/rasterpoints.shp\n",
      "s2                       DatasetReader    <closed DatasetReader nam<...>_resampled.tif' mode='r'>\n",
      "s2_path                  str              C:\\Users\\ariane\\shared\\NE<...>S2_20210716_resampled.tif\n",
      "scipy                    module           <module 'scipy' from 'C:\\<...>ges\\\\scipy\\\\__init__.py'>\n",
      "train_test_split         function         <function train_test_split at 0x000001D796633760>\n"
     ]
    }
   ],
   "source": [
    "# Trying nansat functions\n",
    "# open file with satellite data\n",
    "\n",
    "# n = Nansat(s2_path)\n",
    "with rasterio.open(s2_path) as s2: \n",
    "    meta = s2.meta\n",
    "    arr = s2.read()\n",
    "n = arr\n",
    "b2 = n[1]\n",
    "\n",
    "%whos\n",
    "plt.imshow(b2, vmin=200, vmax=4000);plt.colorbar()\n",
    "plt.show()\n",
    "\n",
    "# n.write_figure('map.png', pltshow=True)"
   ]
  },
  {
   "cell_type": "code",
   "execution_count": 5,
   "id": "ba7890a5",
   "metadata": {},
   "outputs": [
    {
     "data": {
      "text/plain": [
       "{'driver': 'GTiff',\n",
       " 'dtype': 'uint16',\n",
       " 'nodata': None,\n",
       " 'width': 960,\n",
       " 'height': 1091,\n",
       " 'count': 6,\n",
       " 'crs': CRS.from_epsg(32632),\n",
       " 'transform': Affine(10.0, 0.0, 484550.0,\n",
       "        0.0, -10.0, 6057160.0)}"
      ]
     },
     "execution_count": 5,
     "metadata": {},
     "output_type": "execute_result"
    }
   ],
   "source": [
    "meta"
   ]
  },
  {
   "cell_type": "code",
   "execution_count": 12,
   "id": "0ba68c1b",
   "metadata": {},
   "outputs": [
    {
     "ename": "JSONDecodeError",
     "evalue": "Expecting value: line 1 column 1 (char 0)",
     "output_type": "error",
     "traceback": [
      "\u001b[1;31m---------------------------------------------------------------------------\u001b[0m",
      "\u001b[1;31mJSONDecodeError\u001b[0m                           Traceback (most recent call last)",
      "Input \u001b[1;32mIn [12]\u001b[0m, in \u001b[0;36m<cell line: 19>\u001b[1;34m()\u001b[0m\n\u001b[0;32m     11\u001b[0m \u001b[38;5;66;03m# d = Domain('+proj=stere +lat_0=58 +lon_0=5 +no_defs',\u001b[39;00m\n\u001b[0;32m     12\u001b[0m \u001b[38;5;66;03m#           '-te -300000 -300000 300000 300000 -tr 3000 3000')\u001b[39;00m\n\u001b[0;32m     13\u001b[0m \n\u001b[0;32m     14\u001b[0m \n\u001b[0;32m     15\u001b[0m \u001b[38;5;66;03m# change grid of our satellite data (reproject and resample)\u001b[39;00m\n\u001b[0;32m     16\u001b[0m \u001b[38;5;66;03m# n.reproject(d, 2)\u001b[39;00m\n\u001b[0;32m     17\u001b[0m s2_path_2 \u001b[38;5;241m=\u001b[39m \u001b[38;5;124m'\u001b[39m\u001b[38;5;124mC:/Users/ariane/shared/NERSC/classification/Subset_S2A_20210909_resampled.tif\u001b[39m\u001b[38;5;124m'\u001b[39m\n\u001b[1;32m---> 19\u001b[0m sep \u001b[38;5;241m=\u001b[39m \u001b[43mNansat\u001b[49m\u001b[43m(\u001b[49m\u001b[43ms2_path_2\u001b[49m\u001b[43m)\u001b[49m\n\u001b[0;32m     21\u001b[0m sep\u001b[38;5;241m.\u001b[39mreproject(d,\u001b[38;5;241m2\u001b[39m)\n",
      "File \u001b[1;32m~\\anaconda3\\envs\\nansenproject2\\lib\\site-packages\\nansat-1.5.2-py3.10-win-amd64.egg\\nansat\\nansat.py:159\u001b[0m, in \u001b[0;36mNansat.__init__\u001b[1;34m(self, filename, mapper, log_level, **kwargs)\u001b[0m\n\u001b[0;32m    157\u001b[0m \u001b[38;5;28mself\u001b[39m\u001b[38;5;241m.\u001b[39m_init_empty(filename, log_level)\n\u001b[0;32m    158\u001b[0m \u001b[38;5;66;03m# Create VRT object with mapping of variables\u001b[39;00m\n\u001b[1;32m--> 159\u001b[0m \u001b[38;5;28mself\u001b[39m\u001b[38;5;241m.\u001b[39mvrt \u001b[38;5;241m=\u001b[39m \u001b[38;5;28mself\u001b[39m\u001b[38;5;241m.\u001b[39m_get_mapper(mapper, \u001b[38;5;241m*\u001b[39m\u001b[38;5;241m*\u001b[39mkwargs)\n",
      "File \u001b[1;32m~\\anaconda3\\envs\\nansenproject2\\lib\\site-packages\\nansat-1.5.2-py3.10-win-amd64.egg\\nansat\\nansat.py:1164\u001b[0m, in \u001b[0;36mNansat._get_mapper\u001b[1;34m(self, mappername, **kwargs)\u001b[0m\n\u001b[0;32m   1162\u001b[0m \u001b[38;5;66;03m# create a Mapper object and get VRT dataset from it\u001b[39;00m\n\u001b[0;32m   1163\u001b[0m \u001b[38;5;28;01mtry\u001b[39;00m:\n\u001b[1;32m-> 1164\u001b[0m     tmp_vrt \u001b[38;5;241m=\u001b[39m nansatMappers[iMapper](\u001b[38;5;28mself\u001b[39m\u001b[38;5;241m.\u001b[39mfilename, gdal_dataset, metadata, \u001b[38;5;241m*\u001b[39m\u001b[38;5;241m*\u001b[39mkwargs)\n\u001b[0;32m   1165\u001b[0m     \u001b[38;5;28mself\u001b[39m\u001b[38;5;241m.\u001b[39mlogger\u001b[38;5;241m.\u001b[39minfo(\u001b[38;5;124m'\u001b[39m\u001b[38;5;124mMapper \u001b[39m\u001b[38;5;132;01m%s\u001b[39;00m\u001b[38;5;124m - success!\u001b[39m\u001b[38;5;124m'\u001b[39m \u001b[38;5;241m%\u001b[39m iMapper)\n\u001b[0;32m   1166\u001b[0m     \u001b[38;5;28mself\u001b[39m\u001b[38;5;241m.\u001b[39mmapper \u001b[38;5;241m=\u001b[39m iMapper\u001b[38;5;241m.\u001b[39mreplace(\u001b[38;5;124m'\u001b[39m\u001b[38;5;124mmapper_\u001b[39m\u001b[38;5;124m'\u001b[39m, \u001b[38;5;124m'\u001b[39m\u001b[38;5;124m'\u001b[39m)\n",
      "File \u001b[1;32m~\\anaconda3\\envs\\nansenproject2\\lib\\site-packages\\nansat-1.5.2-py3.10-win-amd64.egg\\nansat\\mappers\\mapper_cmems.py:38\u001b[0m, in \u001b[0;36mMapper.__init__\u001b[1;34m(self, *args, **kwargs)\u001b[0m\n\u001b[0;32m     34\u001b[0m filename \u001b[38;5;241m=\u001b[39m args[\u001b[38;5;241m0\u001b[39m]\n\u001b[0;32m     35\u001b[0m gdal_metadata \u001b[38;5;241m=\u001b[39m VRT\u001b[38;5;241m.\u001b[39m_remove_strings_in_metadata_keys(args[\u001b[38;5;241m2\u001b[39m],\n\u001b[0;32m     36\u001b[0m                                                     [\u001b[38;5;124m'\u001b[39m\u001b[38;5;124mNC_GLOBAL#\u001b[39m\u001b[38;5;124m'\u001b[39m, \u001b[38;5;124m'\u001b[39m\u001b[38;5;124mNANSAT_\u001b[39m\u001b[38;5;124m'\u001b[39m, \u001b[38;5;124m'\u001b[39m\u001b[38;5;124mGDAL_\u001b[39m\u001b[38;5;124m'\u001b[39m])\n\u001b[1;32m---> 38\u001b[0m gcmd_keywords_mapping \u001b[38;5;241m=\u001b[39m \u001b[43mget_gcmd_keywords_mapping\u001b[49m\u001b[43m(\u001b[49m\u001b[43m)\u001b[49m\n\u001b[0;32m     39\u001b[0m \u001b[38;5;28;01mfor\u001b[39;00m key, val \u001b[38;5;129;01min\u001b[39;00m \u001b[38;5;28mlist\u001b[39m(gcmd_keywords_mapping\u001b[38;5;241m.\u001b[39mitems()):\n\u001b[0;32m     40\u001b[0m     \u001b[38;5;28;01mif\u001b[39;00m \u001b[38;5;124m'\u001b[39m\u001b[38;5;124msource\u001b[39m\u001b[38;5;124m'\u001b[39m \u001b[38;5;129;01min\u001b[39;00m \u001b[38;5;28mlist\u001b[39m(gdal_metadata\u001b[38;5;241m.\u001b[39mkeys()) \u001b[38;5;129;01mand\u001b[39;00m key \u001b[38;5;129;01min\u001b[39;00m gdal_metadata[\u001b[38;5;124m'\u001b[39m\u001b[38;5;124msource\u001b[39m\u001b[38;5;124m'\u001b[39m]:\n",
      "File \u001b[1;32m~\\anaconda3\\envs\\nansenproject2\\lib\\site-packages\\nansat-1.5.2-py3.10-win-amd64.egg\\nansat\\mappers\\mapper_cmems.py:16\u001b[0m, in \u001b[0;36mget_gcmd_keywords_mapping\u001b[1;34m()\u001b[0m\n\u001b[0;32m     13\u001b[0m \u001b[38;5;28;01mdef\u001b[39;00m \u001b[38;5;21mget_gcmd_keywords_mapping\u001b[39m():\n\u001b[0;32m     14\u001b[0m     gcmd_keywords_mapping \u001b[38;5;241m=\u001b[39m {\n\u001b[0;32m     15\u001b[0m         \u001b[38;5;124m'\u001b[39m\u001b[38;5;124mMERCATOR PSY4QV3R1\u001b[39m\u001b[38;5;124m'\u001b[39m: {\n\u001b[1;32m---> 16\u001b[0m             \u001b[38;5;124m'\u001b[39m\u001b[38;5;124minstrument\u001b[39m\u001b[38;5;124m'\u001b[39m: json\u001b[38;5;241m.\u001b[39mdumps(\u001b[43mpti\u001b[49m\u001b[38;5;241;43m.\u001b[39;49m\u001b[43mget_gcmd_instrument\u001b[49m\u001b[43m(\u001b[49m\u001b[38;5;124;43m'\u001b[39;49m\u001b[38;5;124;43mcomputer\u001b[39;49m\u001b[38;5;124;43m'\u001b[39;49m\u001b[43m)\u001b[49m),\n\u001b[0;32m     17\u001b[0m             \u001b[38;5;124m'\u001b[39m\u001b[38;5;124mplatform\u001b[39m\u001b[38;5;124m'\u001b[39m: json\u001b[38;5;241m.\u001b[39mdumps(pti\u001b[38;5;241m.\u001b[39mget_gcmd_platform(\u001b[38;5;124m'\u001b[39m\u001b[38;5;124mmodels\u001b[39m\u001b[38;5;124m'\u001b[39m)),\n\u001b[0;32m     18\u001b[0m         },\n\u001b[0;32m     19\u001b[0m         \u001b[38;5;124m'\u001b[39m\u001b[38;5;124mNERSC-HYCOM model fields\u001b[39m\u001b[38;5;124m'\u001b[39m: {\n\u001b[0;32m     20\u001b[0m             \u001b[38;5;124m'\u001b[39m\u001b[38;5;124minstrument\u001b[39m\u001b[38;5;124m'\u001b[39m: json\u001b[38;5;241m.\u001b[39mdumps(pti\u001b[38;5;241m.\u001b[39mget_gcmd_instrument(\u001b[38;5;124m'\u001b[39m\u001b[38;5;124mcomputer\u001b[39m\u001b[38;5;124m'\u001b[39m)),\n\u001b[0;32m     21\u001b[0m             \u001b[38;5;124m'\u001b[39m\u001b[38;5;124mplatform\u001b[39m\u001b[38;5;124m'\u001b[39m: json\u001b[38;5;241m.\u001b[39mdumps(pti\u001b[38;5;241m.\u001b[39mget_gcmd_platform(\u001b[38;5;124m'\u001b[39m\u001b[38;5;124mmodels\u001b[39m\u001b[38;5;124m'\u001b[39m)),\n\u001b[0;32m     22\u001b[0m         },\n\u001b[0;32m     23\u001b[0m         \u001b[38;5;124m'\u001b[39m\u001b[38;5;124mMERCATOR BIOMER4V1R2\u001b[39m\u001b[38;5;124m'\u001b[39m: {\n\u001b[0;32m     24\u001b[0m             \u001b[38;5;124m'\u001b[39m\u001b[38;5;124minstrument\u001b[39m\u001b[38;5;124m'\u001b[39m: json\u001b[38;5;241m.\u001b[39mdumps(pti\u001b[38;5;241m.\u001b[39mget_gcmd_instrument(\u001b[38;5;124m'\u001b[39m\u001b[38;5;124mcomputer\u001b[39m\u001b[38;5;124m'\u001b[39m)),\n\u001b[0;32m     25\u001b[0m             \u001b[38;5;124m'\u001b[39m\u001b[38;5;124mplatform\u001b[39m\u001b[38;5;124m'\u001b[39m: json\u001b[38;5;241m.\u001b[39mdumps(pti\u001b[38;5;241m.\u001b[39mget_gcmd_platform(\u001b[38;5;124m'\u001b[39m\u001b[38;5;124mmodels\u001b[39m\u001b[38;5;124m'\u001b[39m)),\n\u001b[0;32m     26\u001b[0m         },\n\u001b[0;32m     27\u001b[0m     }\n\u001b[0;32m     28\u001b[0m     \u001b[38;5;28;01mreturn\u001b[39;00m gcmd_keywords_mapping\n",
      "File \u001b[1;32m~\\anaconda3\\envs\\nansenproject2\\lib\\site-packages\\pythesint-1.6.6-py3.10.egg\\pythesint\\vocabulary.py:45\u001b[0m, in \u001b[0;36mVocabulary.find_keyword\u001b[1;34m(self, item)\u001b[0m\n\u001b[0;32m     43\u001b[0m best_match \u001b[38;5;241m=\u001b[39m \u001b[38;5;28;01mNone\u001b[39;00m\n\u001b[0;32m     44\u001b[0m best_match_empty_cells \u001b[38;5;241m=\u001b[39m \u001b[38;5;241m0\u001b[39m\n\u001b[1;32m---> 45\u001b[0m \u001b[38;5;28;01mfor\u001b[39;00m d \u001b[38;5;129;01min\u001b[39;00m \u001b[38;5;28;43mself\u001b[39;49m\u001b[38;5;241;43m.\u001b[39;49m\u001b[43mget_list\u001b[49m\u001b[43m(\u001b[49m\u001b[43m)\u001b[49m:\n\u001b[0;32m     46\u001b[0m     match \u001b[38;5;241m=\u001b[39m \u001b[38;5;28;01mNone\u001b[39;00m\n\u001b[0;32m     47\u001b[0m     match_empty_cells \u001b[38;5;241m=\u001b[39m \u001b[38;5;241m0\u001b[39m\n",
      "File \u001b[1;32m~\\anaconda3\\envs\\nansenproject2\\lib\\site-packages\\pythesint-1.6.6-py3.10.egg\\pythesint\\json_vocabulary.py:22\u001b[0m, in \u001b[0;36mJSONVocabulary.get_list\u001b[1;34m(self)\u001b[0m\n\u001b[0;32m     20\u001b[0m     \u001b[38;5;28mself\u001b[39m\u001b[38;5;241m.\u001b[39mupdate()\n\u001b[0;32m     21\u001b[0m \u001b[38;5;28;01mwith\u001b[39;00m \u001b[38;5;28mopen\u001b[39m(\u001b[38;5;28mself\u001b[39m\u001b[38;5;241m.\u001b[39mget_filepath(), \u001b[38;5;124m'\u001b[39m\u001b[38;5;124mr\u001b[39m\u001b[38;5;124m'\u001b[39m) \u001b[38;5;28;01mas\u001b[39;00m opened_file:\n\u001b[1;32m---> 22\u001b[0m     result \u001b[38;5;241m=\u001b[39m \u001b[43mjson\u001b[49m\u001b[38;5;241;43m.\u001b[39;49m\u001b[43mload\u001b[49m\u001b[43m(\u001b[49m\u001b[43mopened_file\u001b[49m\u001b[43m)\u001b[49m\n\u001b[0;32m     23\u001b[0m \u001b[38;5;28;01mreturn\u001b[39;00m \u001b[38;5;28mself\u001b[39m\u001b[38;5;241m.\u001b[39msort_list(result)\n",
      "File \u001b[1;32m~\\anaconda3\\envs\\nansenproject2\\lib\\json\\__init__.py:293\u001b[0m, in \u001b[0;36mload\u001b[1;34m(fp, cls, object_hook, parse_float, parse_int, parse_constant, object_pairs_hook, **kw)\u001b[0m\n\u001b[0;32m    274\u001b[0m \u001b[38;5;28;01mdef\u001b[39;00m \u001b[38;5;21mload\u001b[39m(fp, \u001b[38;5;241m*\u001b[39m, \u001b[38;5;28mcls\u001b[39m\u001b[38;5;241m=\u001b[39m\u001b[38;5;28;01mNone\u001b[39;00m, object_hook\u001b[38;5;241m=\u001b[39m\u001b[38;5;28;01mNone\u001b[39;00m, parse_float\u001b[38;5;241m=\u001b[39m\u001b[38;5;28;01mNone\u001b[39;00m,\n\u001b[0;32m    275\u001b[0m         parse_int\u001b[38;5;241m=\u001b[39m\u001b[38;5;28;01mNone\u001b[39;00m, parse_constant\u001b[38;5;241m=\u001b[39m\u001b[38;5;28;01mNone\u001b[39;00m, object_pairs_hook\u001b[38;5;241m=\u001b[39m\u001b[38;5;28;01mNone\u001b[39;00m, \u001b[38;5;241m*\u001b[39m\u001b[38;5;241m*\u001b[39mkw):\n\u001b[0;32m    276\u001b[0m     \u001b[38;5;124;03m\"\"\"Deserialize ``fp`` (a ``.read()``-supporting file-like object containing\u001b[39;00m\n\u001b[0;32m    277\u001b[0m \u001b[38;5;124;03m    a JSON document) to a Python object.\u001b[39;00m\n\u001b[0;32m    278\u001b[0m \n\u001b[1;32m   (...)\u001b[0m\n\u001b[0;32m    291\u001b[0m \u001b[38;5;124;03m    kwarg; otherwise ``JSONDecoder`` is used.\u001b[39;00m\n\u001b[0;32m    292\u001b[0m \u001b[38;5;124;03m    \"\"\"\u001b[39;00m\n\u001b[1;32m--> 293\u001b[0m     \u001b[38;5;28;01mreturn\u001b[39;00m loads(fp\u001b[38;5;241m.\u001b[39mread(),\n\u001b[0;32m    294\u001b[0m         \u001b[38;5;28mcls\u001b[39m\u001b[38;5;241m=\u001b[39m\u001b[38;5;28mcls\u001b[39m, object_hook\u001b[38;5;241m=\u001b[39mobject_hook,\n\u001b[0;32m    295\u001b[0m         parse_float\u001b[38;5;241m=\u001b[39mparse_float, parse_int\u001b[38;5;241m=\u001b[39mparse_int,\n\u001b[0;32m    296\u001b[0m         parse_constant\u001b[38;5;241m=\u001b[39mparse_constant, object_pairs_hook\u001b[38;5;241m=\u001b[39mobject_pairs_hook, \u001b[38;5;241m*\u001b[39m\u001b[38;5;241m*\u001b[39mkw)\n",
      "File \u001b[1;32m~\\anaconda3\\envs\\nansenproject2\\lib\\json\\__init__.py:346\u001b[0m, in \u001b[0;36mloads\u001b[1;34m(s, cls, object_hook, parse_float, parse_int, parse_constant, object_pairs_hook, **kw)\u001b[0m\n\u001b[0;32m    341\u001b[0m     s \u001b[38;5;241m=\u001b[39m s\u001b[38;5;241m.\u001b[39mdecode(detect_encoding(s), \u001b[38;5;124m'\u001b[39m\u001b[38;5;124msurrogatepass\u001b[39m\u001b[38;5;124m'\u001b[39m)\n\u001b[0;32m    343\u001b[0m \u001b[38;5;28;01mif\u001b[39;00m (\u001b[38;5;28mcls\u001b[39m \u001b[38;5;129;01mis\u001b[39;00m \u001b[38;5;28;01mNone\u001b[39;00m \u001b[38;5;129;01mand\u001b[39;00m object_hook \u001b[38;5;129;01mis\u001b[39;00m \u001b[38;5;28;01mNone\u001b[39;00m \u001b[38;5;129;01mand\u001b[39;00m\n\u001b[0;32m    344\u001b[0m         parse_int \u001b[38;5;129;01mis\u001b[39;00m \u001b[38;5;28;01mNone\u001b[39;00m \u001b[38;5;129;01mand\u001b[39;00m parse_float \u001b[38;5;129;01mis\u001b[39;00m \u001b[38;5;28;01mNone\u001b[39;00m \u001b[38;5;129;01mand\u001b[39;00m\n\u001b[0;32m    345\u001b[0m         parse_constant \u001b[38;5;129;01mis\u001b[39;00m \u001b[38;5;28;01mNone\u001b[39;00m \u001b[38;5;129;01mand\u001b[39;00m object_pairs_hook \u001b[38;5;129;01mis\u001b[39;00m \u001b[38;5;28;01mNone\u001b[39;00m \u001b[38;5;129;01mand\u001b[39;00m \u001b[38;5;129;01mnot\u001b[39;00m kw):\n\u001b[1;32m--> 346\u001b[0m     \u001b[38;5;28;01mreturn\u001b[39;00m \u001b[43m_default_decoder\u001b[49m\u001b[38;5;241;43m.\u001b[39;49m\u001b[43mdecode\u001b[49m\u001b[43m(\u001b[49m\u001b[43ms\u001b[49m\u001b[43m)\u001b[49m\n\u001b[0;32m    347\u001b[0m \u001b[38;5;28;01mif\u001b[39;00m \u001b[38;5;28mcls\u001b[39m \u001b[38;5;129;01mis\u001b[39;00m \u001b[38;5;28;01mNone\u001b[39;00m:\n\u001b[0;32m    348\u001b[0m     \u001b[38;5;28mcls\u001b[39m \u001b[38;5;241m=\u001b[39m JSONDecoder\n",
      "File \u001b[1;32m~\\anaconda3\\envs\\nansenproject2\\lib\\json\\decoder.py:337\u001b[0m, in \u001b[0;36mJSONDecoder.decode\u001b[1;34m(self, s, _w)\u001b[0m\n\u001b[0;32m    332\u001b[0m \u001b[38;5;28;01mdef\u001b[39;00m \u001b[38;5;21mdecode\u001b[39m(\u001b[38;5;28mself\u001b[39m, s, _w\u001b[38;5;241m=\u001b[39mWHITESPACE\u001b[38;5;241m.\u001b[39mmatch):\n\u001b[0;32m    333\u001b[0m     \u001b[38;5;124;03m\"\"\"Return the Python representation of ``s`` (a ``str`` instance\u001b[39;00m\n\u001b[0;32m    334\u001b[0m \u001b[38;5;124;03m    containing a JSON document).\u001b[39;00m\n\u001b[0;32m    335\u001b[0m \n\u001b[0;32m    336\u001b[0m \u001b[38;5;124;03m    \"\"\"\u001b[39;00m\n\u001b[1;32m--> 337\u001b[0m     obj, end \u001b[38;5;241m=\u001b[39m \u001b[38;5;28;43mself\u001b[39;49m\u001b[38;5;241;43m.\u001b[39;49m\u001b[43mraw_decode\u001b[49m\u001b[43m(\u001b[49m\u001b[43ms\u001b[49m\u001b[43m,\u001b[49m\u001b[43m \u001b[49m\u001b[43midx\u001b[49m\u001b[38;5;241;43m=\u001b[39;49m\u001b[43m_w\u001b[49m\u001b[43m(\u001b[49m\u001b[43ms\u001b[49m\u001b[43m,\u001b[49m\u001b[43m \u001b[49m\u001b[38;5;241;43m0\u001b[39;49m\u001b[43m)\u001b[49m\u001b[38;5;241;43m.\u001b[39;49m\u001b[43mend\u001b[49m\u001b[43m(\u001b[49m\u001b[43m)\u001b[49m\u001b[43m)\u001b[49m\n\u001b[0;32m    338\u001b[0m     end \u001b[38;5;241m=\u001b[39m _w(s, end)\u001b[38;5;241m.\u001b[39mend()\n\u001b[0;32m    339\u001b[0m     \u001b[38;5;28;01mif\u001b[39;00m end \u001b[38;5;241m!=\u001b[39m \u001b[38;5;28mlen\u001b[39m(s):\n",
      "File \u001b[1;32m~\\anaconda3\\envs\\nansenproject2\\lib\\json\\decoder.py:355\u001b[0m, in \u001b[0;36mJSONDecoder.raw_decode\u001b[1;34m(self, s, idx)\u001b[0m\n\u001b[0;32m    353\u001b[0m     obj, end \u001b[38;5;241m=\u001b[39m \u001b[38;5;28mself\u001b[39m\u001b[38;5;241m.\u001b[39mscan_once(s, idx)\n\u001b[0;32m    354\u001b[0m \u001b[38;5;28;01mexcept\u001b[39;00m \u001b[38;5;167;01mStopIteration\u001b[39;00m \u001b[38;5;28;01mas\u001b[39;00m err:\n\u001b[1;32m--> 355\u001b[0m     \u001b[38;5;28;01mraise\u001b[39;00m JSONDecodeError(\u001b[38;5;124m\"\u001b[39m\u001b[38;5;124mExpecting value\u001b[39m\u001b[38;5;124m\"\u001b[39m, s, err\u001b[38;5;241m.\u001b[39mvalue) \u001b[38;5;28;01mfrom\u001b[39;00m \u001b[38;5;28mNone\u001b[39m\n\u001b[0;32m    356\u001b[0m \u001b[38;5;28;01mreturn\u001b[39;00m obj, end\n",
      "\u001b[1;31mJSONDecodeError\u001b[0m: Expecting value: line 1 column 1 (char 0)"
     ]
    }
   ],
   "source": [
    "# define grid for the region of interest\n",
    "# d = Domain('+proj=longlat', '-te 27 70.3 31 71.6 -tr 0.015 0.005')\n",
    "from nansat import *\n",
    "\n",
    "# open file with satelite data\n",
    "# n = Nansat(path+ r'Subset_S2_20210716_resampled.tif')\n",
    "n = gdal.Open(s2_path)\n",
    "\n",
    "d = Domain(ds = n)\n",
    "\n",
    "# d = Domain('+proj=stere +lat_0=58 +lon_0=5 +no_defs',\n",
    "#           '-te -300000 -300000 300000 300000 -tr 3000 3000')\n",
    "\n",
    "\n",
    "# change grid of our satellite data (reproject and resample)\n",
    "# n.reproject(d, 2)\n",
    "s2_path_2 = 'C:/Users/ariane/shared/NERSC/classification/Subset_S2A_20210909_resampled.tif'\n",
    "\n",
    "sep = Nansat(s2_path_2)\n",
    "\n",
    "sep.reproject(d,2)\n",
    "\n"
   ]
  },
  {
   "cell_type": "code",
   "execution_count": 3,
   "id": "744facb2-9249-4b8f-960d-b650a4eb50fa",
   "metadata": {},
   "outputs": [
    {
     "data": {
      "text/plain": [
       "'C:/Users/ariane/shared/NERSC/classification/Subset_S2_20210716_resampled.tif'"
      ]
     },
     "execution_count": 3,
     "metadata": {},
     "output_type": "execute_result"
    }
   ],
   "source": [
    "path+ r'Subset_S2_20210716_resampled.tif'"
   ]
  },
  {
   "cell_type": "code",
   "execution_count": null,
   "id": "4b14426d-1906-49ae-8484-7cb777c89eb4",
   "metadata": {},
   "outputs": [],
   "source": []
  }
 ],
 "metadata": {
  "kernelspec": {
   "display_name": "Python 3 (ipykernel)",
   "language": "python",
   "name": "python3"
  },
  "language_info": {
   "codemirror_mode": {
    "name": "ipython",
    "version": 3
   },
   "file_extension": ".py",
   "mimetype": "text/x-python",
   "name": "python",
   "nbconvert_exporter": "python",
   "pygments_lexer": "ipython3",
   "version": "3.10.6"
  }
 },
 "nbformat": 4,
 "nbformat_minor": 5
}
