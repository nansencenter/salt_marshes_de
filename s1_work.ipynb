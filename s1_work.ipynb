{
 "cells": [
  {
   "cell_type": "code",
   "execution_count": 1,
   "id": "066a6f6d-34da-4e2b-853d-ff17d93cb6e6",
   "metadata": {},
   "outputs": [],
   "source": [
    "from nansat import Nansat\n",
    "from nansat import *\n",
    "\n",
    "from s1denoise import Sentinel1Image\n",
    "import matplotlib.pyplot as plt\n",
    "%matplotlib inline"
   ]
  },
  {
   "cell_type": "code",
   "execution_count": 2,
   "id": "4414f832-04d4-4ada-95f6-3499d2dfe5ca",
   "metadata": {},
   "outputs": [
    {
     "name": "stderr",
     "output_type": "stream",
     "text": [
      "08:55:54|40|nansat|_get_dataset_metadata|GDAL could not open /container_dir1/subsets/S1B_IW_GRDH_1SDV_20210716T054037_20210716T054102_027815_0351B0_E546.zip, trying to read with Nansat mappers...\n"
     ]
    },
    {
     "data": {
      "text/plain": [
       "----------------------------------------\n",
       "/container_dir1/subsets/S1B_IW_GRDH_1SDV_20210716T054037_20210716T054102_027815_0351B0_E546.zip----------------------------------------\n",
       "Mapper: sentinel1_l1Band : 1 DN_VH\n",
       "  dataType: 2\n",
       "  name: DN_VH\n",
       "  SourceBand: 1\n",
       "  SourceFilename: /vsizip//container_dir1/subsets/S1B_IW_GRDH_1SDV_20210716T054037_20210716T054102_027815_0351B0_E546.zip/S1B_IW_GRDH_1SDV_20210716T054037_20210716T054102_027815_0351B0_E546.SAFE/measurement/s1b-iw-grd-vh-20210716t054037-20210716t054102-027815-0351b0-002.tiff\n",
       "Band : 2 DN_VV\n",
       "  dataType: 2\n",
       "  name: DN_VV\n",
       "  SourceBand: 1\n",
       "  SourceFilename: /vsizip//container_dir1/subsets/S1B_IW_GRDH_1SDV_20210716T054037_20210716T054102_027815_0351B0_E546.zip/S1B_IW_GRDH_1SDV_20210716T054037_20210716T054102_027815_0351B0_E546.SAFE/measurement/s1b-iw-grd-vv-20210716t054037-20210716t054102-027815-0351b0-001.tiff\n",
       "Band : 3 sigmaNought_VH\n",
       "  dataType: 7\n",
       "  name: sigmaNought_VH\n",
       "  SourceBand: 1\n",
       "  SourceFilename: /vsimem/NV8LKSSD5L.vrt\n",
       "Band : 4 noise_VH\n",
       "  dataType: 7\n",
       "  name: noise_VH\n",
       "  SourceBand: 1\n",
       "  SourceFilename: /vsimem/TRXG9SSOKX.vrt\n",
       "Band : 5 sigmaNought_VV\n",
       "  dataType: 7\n",
       "  name: sigmaNought_VV\n",
       "  SourceBand: 1\n",
       "  SourceFilename: /vsimem/02ER5TD9GL.vrt\n",
       "Band : 6 noise_VV\n",
       "  dataType: 7\n",
       "  name: noise_VV\n",
       "  SourceBand: 1\n",
       "  SourceFilename: /vsimem/GNHAZW84U2.vrt\n",
       "Band : 7 look_direction\n",
       "  colormap: jet\n",
       "  dataType: 6\n",
       "  long_name: Sensor Azimuth Angle\n",
       "  minmax: 0 360\n",
       "  name: look_direction\n",
       "  short_name: sensor_azimuth\n",
       "  SourceBand: 1\n",
       "  SourceFilename: /vsimem/52ZUQLR103.vrt\n",
       "  standard_name: sensor_azimuth_angle\n",
       "  units: degrees\n",
       "  wkv: sensor_azimuth_angle\n",
       "Band : 8 sigma0_VH\n",
       "  colormap: gray\n",
       "  dataType: 6\n",
       "  long_name: Normalized Radar Cross Section\n",
       "  minmax: 0 0.1\n",
       "  name: sigma0_VH\n",
       "  PixelFunctionType: Sentinel1Calibration\n",
       "  polarization: VH\n",
       "  short_name: sigma0\n",
       "  SourceBand: 1\n",
       "  SourceFilename: /vsimem/HU925THZOT.vrt\n",
       "  standard_name: surface_backwards_scattering_coefficient_of_radar_wave\n",
       "  suffix: VH\n",
       "  units: m/m\n",
       "  wkv: surface_backwards_scattering_coefficient_of_radar_wave\n",
       "Band : 9 beta0_VH\n",
       "  colormap: gray\n",
       "  dataType: 6\n",
       "  long_name: Reflectivity per unit area in slant range\n",
       "  minmax: 0 0.1\n",
       "  name: beta0_VH\n",
       "  PixelFunctionType: Sentinel1Calibration\n",
       "  polarization: VH\n",
       "  short_name: beta0\n",
       "  SourceBand: 1\n",
       "  SourceFilename: /vsimem/HU925THZOT.vrt\n",
       "  standard_name: surface_backwards_brightness_coefficient_of_radar_wave\n",
       "  suffix: VH\n",
       "  units: m/m\n",
       "  wkv: surface_backwards_brightness_coefficient_of_radar_wave\n",
       "Band : 10 sigma0_VV\n",
       "  colormap: gray\n",
       "  dataType: 6\n",
       "  long_name: Normalized Radar Cross Section\n",
       "  minmax: 0 0.1\n",
       "  name: sigma0_VV\n",
       "  PixelFunctionType: Sentinel1Calibration\n",
       "  polarization: VV\n",
       "  short_name: sigma0\n",
       "  SourceBand: 2\n",
       "  SourceFilename: /vsimem/HU925THZOT.vrt\n",
       "  standard_name: surface_backwards_scattering_coefficient_of_radar_wave\n",
       "  suffix: VV\n",
       "  units: m/m\n",
       "  wkv: surface_backwards_scattering_coefficient_of_radar_wave\n",
       "Band : 11 beta0_VV\n",
       "  colormap: gray\n",
       "  dataType: 6\n",
       "  long_name: Reflectivity per unit area in slant range\n",
       "  minmax: 0 0.1\n",
       "  name: beta0_VV\n",
       "  PixelFunctionType: Sentinel1Calibration\n",
       "  polarization: VV\n",
       "  short_name: beta0\n",
       "  SourceBand: 2\n",
       "  SourceFilename: /vsimem/HU925THZOT.vrt\n",
       "  standard_name: surface_backwards_brightness_coefficient_of_radar_wave\n",
       "  suffix: VV\n",
       "  units: m/m\n",
       "  wkv: surface_backwards_brightness_coefficient_of_radar_wave\n",
       "Band : 12 incidence_angle\n",
       "  colormap: jet\n",
       "  dataType: 7\n",
       "  long_name: Incidence Angle\n",
       "  minmax: 0 90\n",
       "  name: incidence_angle\n",
       "  short_name: incidence_angle\n",
       "  SourceBand: 1\n",
       "  SourceFilename: /vsimem/C69N3GMQJE.vrt\n",
       "  standard_name: angle_of_incidence\n",
       "  units: degrees\n",
       "  wkv: angle_of_incidence\n",
       "Band : 13 elevation_angle\n",
       "  dataType: 7\n",
       "  name: elevation_angle\n",
       "  SourceBand: 1\n",
       "  SourceFilename: /vsimem/N3ADDFPVLL.vrt\n",
       "  wkv: angle_of_elevation\n",
       "----------------------------------------\n",
       "Domain:[26725 x 16681]\n",
       "----------------------------------------\n",
       "Projection(gcps):\n",
       "GEOGCS[\"WGS 84\",\n",
       "    DATUM[\"WGS_1984\",\n",
       "        SPHEROID[\"WGS 84\",6378137,298.257223563]],\n",
       "    PRIMEM[\"Greenwich\",0],\n",
       "    UNIT[\"degree\",0.0174532925199433]]\n",
       "----------------------------------------\n",
       "Corners (lon, lat):\n",
       "\t ( 11.17,  55.46)  (  6.99,  55.88)\n",
       "\t ( 10.62,  53.97)  (  6.59,  54.39)"
      ]
     },
     "execution_count": 2,
     "metadata": {},
     "output_type": "execute_result"
    }
   ],
   "source": [
    "s1_path = '/container_dir1/subsets/S1B_IW_GRDH_1SDV_20210716T054037_20210716T054102_027815_0351B0_E546.zip'\n",
    "s1 = Nansat(s1_path)\n",
    "#s1 = Sentinel1Image(s1_path)\n",
    "s1"
   ]
  },
  {
   "cell_type": "code",
   "execution_count": 3,
   "id": "d91eefca-2d1d-4877-8d28-990dc974b836",
   "metadata": {},
   "outputs": [],
   "source": [
    "s_vh = s1[3]"
   ]
  },
  {
   "cell_type": "code",
   "execution_count": null,
   "id": "8bf4005f-5111-4f9b-ae33-f762627cff59",
   "metadata": {},
   "outputs": [
    {
     "data": {
      "text/plain": [
       "<matplotlib.image.AxesImage at 0x7f0ccdc96e90>"
      ]
     },
     "execution_count": 4,
     "metadata": {},
     "output_type": "execute_result"
    }
   ],
   "source": [
    "plt.imshow(s_vh)\n",
    "#plt.show()"
   ]
  },
  {
   "cell_type": "code",
   "execution_count": 4,
   "id": "eadad051-fbfe-4207-8d38-3aa86ed852f7",
   "metadata": {},
   "outputs": [],
   "source": [
    "### Define domain\n",
    "#n = gdal.Open(s2_path)\n",
    "#d = Domain(ds = n)\n",
    "\n",
    "d = Domain('+proj=longlat', '-te 8.76 54.56 8.91 54.66 -tr 0.001 0.001')"
   ]
  },
  {
   "cell_type": "code",
   "execution_count": 5,
   "id": "39777f95-e602-4c51-a914-f1591efb4cab",
   "metadata": {},
   "outputs": [],
   "source": [
    "### Reproject data\n",
    "s_vh.reproject(d,2)"
   ]
  },
  {
   "cell_type": "code",
   "execution_count": 7,
   "id": "7e972652-651b-41f8-a3c7-6e3d3d1fda8a",
   "metadata": {},
   "outputs": [
    {
     "data": {
      "text/plain": [
       "<matplotlib.image.AxesImage at 0x7f3001af08d0>"
      ]
     },
     "execution_count": 7,
     "metadata": {},
     "output_type": "execute_result"
    },
    {
     "data": {
      "image/png": "[encoded data removed]",
      "text/plain": [
       "<Figure size 432x288 with 1 Axes>"
      ]
     },
     "metadata": {
      "needs_background": "light"
     },
     "output_type": "display_data"
    }
   ],
   "source": [
    "plt.imshow(s_vh)\n",
    "#plt.show()"
   ]
  }
 ],
 "metadata": {
  "kernelspec": {
   "display_name": "Python 3",
   "language": "python",
   "name": "python3"
  },
  "language_info": {
   "codemirror_mode": {
    "name": "ipython",
    "version": 3
   },
   "file_extension": ".py",
   "mimetype": "text/x-python",
   "name": "python",
   "nbconvert_exporter": "python",
   "pygments_lexer": "ipython3",
   "version": "3.7.12"
  }
 },
 "nbformat": 4,
 "nbformat_minor": 5
}
