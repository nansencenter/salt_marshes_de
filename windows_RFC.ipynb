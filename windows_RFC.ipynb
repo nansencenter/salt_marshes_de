{
 "cells": [
  {
   "cell_type": "code",
   "execution_count": 2,
   "id": "4043c055",
   "metadata": {},
   "outputs": [],
   "source": [
    "from nansat import Nansat\n",
    "from osgeo import gdal\n",
    "import numpy as np\n",
    "import pandas as pd\n",
    "import geopandas as gpd\n",
    "import rasterio\n",
    "import scipy\n",
    "import joblib\n",
    "from sklearn.ensemble import RandomForestClassifier\n",
    "from sklearn.model_selection import train_test_split, cross_val_score\n",
    "from sklearn.metrics import confusion_matrix, ConfusionMatrixDisplay, accuracy_score\n",
    "from sklearn.metrics import precision_score, recall_score, f1_score\n",
    "from sklearn.decomposition import PCA\n",
    "from sklearn.datasets import make_classification\n",
    "from sklearn.linear_model import LogisticRegression\n",
    "from sklearn.pipeline import make_pipeline\n",
    "from sklearn.preprocessing import StandardScaler\n",
    "from sklearn import preprocessing\n",
    "\n",
    "import matplotlib as mpl\n",
    "# mpl.use('Qt5Agg')\n",
    "import matplotlib.pyplot as plt"
   ]
  },
  {
   "cell_type": "code",
   "execution_count": 115,
   "id": "f14ee7b5",
   "metadata": {},
   "outputs": [],
   "source": [
    "s2_path = r'C:/Users/ariane/shared/NERSC/classification/Subset_S2_20210716_resampled.tif'\n",
    "rpoints = 'C:/Users/ariane/shared/NERSC/classification/rasterpoints.shp'\n",
    "path = 'C:/Users/ariane/shared/NERSC/classification/'"
   ]
  },
  {
   "cell_type": "code",
   "execution_count": 116,
   "id": "cd082bbf",
   "metadata": {},
   "outputs": [
    {
     "name": "stdout",
     "output_type": "stream",
     "text": [
      "['Water' 'Seabed' 'Road' 'Pioneer' 'LSM' 'USM' 'Agriculture']\n"
     ]
    },
    {
     "data": {
      "text/html": [
       "<div>\n",
       "<style scoped>\n",
       "    .dataframe tbody tr th:only-of-type {\n",
       "        vertical-align: middle;\n",
       "    }\n",
       "\n",
       "    .dataframe tbody tr th {\n",
       "        vertical-align: top;\n",
       "    }\n",
       "\n",
       "    .dataframe thead th {\n",
       "        text-align: right;\n",
       "    }\n",
       "</style>\n",
       "<table border=\"1\" class=\"dataframe\">\n",
       "  <thead>\n",
       "    <tr style=\"text-align: right;\">\n",
       "      <th></th>\n",
       "      <th>classtxt</th>\n",
       "      <th>classid</th>\n",
       "      <th>B2</th>\n",
       "      <th>B3</th>\n",
       "      <th>B4</th>\n",
       "      <th>B8</th>\n",
       "      <th>B11</th>\n",
       "      <th>B12</th>\n",
       "      <th>NDVI</th>\n",
       "      <th>SAVI</th>\n",
       "      <th>MSAVI</th>\n",
       "      <th>NDMI</th>\n",
       "      <th>EVI</th>\n",
       "      <th>AWEI</th>\n",
       "      <th>NDWI</th>\n",
       "      <th>geometry</th>\n",
       "    </tr>\n",
       "  </thead>\n",
       "  <tbody>\n",
       "    <tr>\n",
       "      <th>0</th>\n",
       "      <td>Water</td>\n",
       "      <td>1</td>\n",
       "      <td>244.0</td>\n",
       "      <td>376.0</td>\n",
       "      <td>252.0</td>\n",
       "      <td>148.0</td>\n",
       "      <td>172.0</td>\n",
       "      <td>147.0</td>\n",
       "      <td>-0.260000</td>\n",
       "      <td>2.758518</td>\n",
       "      <td>0.023151</td>\n",
       "      <td>-0.075000</td>\n",
       "      <td>-0.026450</td>\n",
       "      <td>0.037475</td>\n",
       "      <td>0.435115</td>\n",
       "      <td>POINT (8.78073 54.56462)</td>\n",
       "    </tr>\n",
       "    <tr>\n",
       "      <th>1</th>\n",
       "      <td>Water</td>\n",
       "      <td>1</td>\n",
       "      <td>231.0</td>\n",
       "      <td>410.0</td>\n",
       "      <td>279.0</td>\n",
       "      <td>126.0</td>\n",
       "      <td>152.0</td>\n",
       "      <td>124.0</td>\n",
       "      <td>-0.377778</td>\n",
       "      <td>2.746901</td>\n",
       "      <td>0.018096</td>\n",
       "      <td>-0.093525</td>\n",
       "      <td>-0.037994</td>\n",
       "      <td>0.065950</td>\n",
       "      <td>0.529851</td>\n",
       "      <td>POINT (8.79207 54.56766)</td>\n",
       "    </tr>\n",
       "    <tr>\n",
       "      <th>2</th>\n",
       "      <td>Water</td>\n",
       "      <td>1</td>\n",
       "      <td>262.0</td>\n",
       "      <td>402.0</td>\n",
       "      <td>236.0</td>\n",
       "      <td>119.0</td>\n",
       "      <td>154.0</td>\n",
       "      <td>127.0</td>\n",
       "      <td>-0.329577</td>\n",
       "      <td>2.779272</td>\n",
       "      <td>0.017793</td>\n",
       "      <td>-0.128205</td>\n",
       "      <td>-0.030564</td>\n",
       "      <td>0.061300</td>\n",
       "      <td>0.543186</td>\n",
       "      <td>POINT (8.77722 54.56884)</td>\n",
       "    </tr>\n",
       "    <tr>\n",
       "      <th>3</th>\n",
       "      <td>Water</td>\n",
       "      <td>1</td>\n",
       "      <td>205.0</td>\n",
       "      <td>339.0</td>\n",
       "      <td>210.0</td>\n",
       "      <td>105.0</td>\n",
       "      <td>140.0</td>\n",
       "      <td>128.0</td>\n",
       "      <td>-0.333333</td>\n",
       "      <td>2.802446</td>\n",
       "      <td>0.015666</td>\n",
       "      <td>-0.142857</td>\n",
       "      <td>-0.026711</td>\n",
       "      <td>0.041775</td>\n",
       "      <td>0.527027</td>\n",
       "      <td>POINT (8.79249 54.57158)</td>\n",
       "    </tr>\n",
       "    <tr>\n",
       "      <th>4</th>\n",
       "      <td>Water</td>\n",
       "      <td>1</td>\n",
       "      <td>308.0</td>\n",
       "      <td>489.0</td>\n",
       "      <td>330.0</td>\n",
       "      <td>162.0</td>\n",
       "      <td>166.0</td>\n",
       "      <td>159.0</td>\n",
       "      <td>-0.341463</td>\n",
       "      <td>2.700655</td>\n",
       "      <td>0.023948</td>\n",
       "      <td>-0.012195</td>\n",
       "      <td>-0.042718</td>\n",
       "      <td>0.081425</td>\n",
       "      <td>0.502304</td>\n",
       "      <td>POINT (8.78216 54.57501)</td>\n",
       "    </tr>\n",
       "    <tr>\n",
       "      <th>...</th>\n",
       "      <td>...</td>\n",
       "      <td>...</td>\n",
       "      <td>...</td>\n",
       "      <td>...</td>\n",
       "      <td>...</td>\n",
       "      <td>...</td>\n",
       "      <td>...</td>\n",
       "      <td>...</td>\n",
       "      <td>...</td>\n",
       "      <td>...</td>\n",
       "      <td>...</td>\n",
       "      <td>...</td>\n",
       "      <td>...</td>\n",
       "      <td>...</td>\n",
       "      <td>...</td>\n",
       "      <td>...</td>\n",
       "    </tr>\n",
       "    <tr>\n",
       "      <th>271</th>\n",
       "      <td>Agriculture</td>\n",
       "      <td>7</td>\n",
       "      <td>130.0</td>\n",
       "      <td>522.0</td>\n",
       "      <td>138.0</td>\n",
       "      <td>5644.0</td>\n",
       "      <td>2242.0</td>\n",
       "      <td>992.0</td>\n",
       "      <td>0.952266</td>\n",
       "      <td>1.901873</td>\n",
       "      <td>0.977237</td>\n",
       "      <td>0.431397</td>\n",
       "      <td>0.888236</td>\n",
       "      <td>-1.101900</td>\n",
       "      <td>-0.830684</td>\n",
       "      <td>POINT (8.85396 54.65587)</td>\n",
       "    </tr>\n",
       "    <tr>\n",
       "      <th>272</th>\n",
       "      <td>Agriculture</td>\n",
       "      <td>7</td>\n",
       "      <td>355.0</td>\n",
       "      <td>886.0</td>\n",
       "      <td>728.0</td>\n",
       "      <td>3010.0</td>\n",
       "      <td>1737.0</td>\n",
       "      <td>898.0</td>\n",
       "      <td>0.610487</td>\n",
       "      <td>1.977798</td>\n",
       "      <td>0.560582</td>\n",
       "      <td>0.268169</td>\n",
       "      <td>0.387686</td>\n",
       "      <td>-0.662600</td>\n",
       "      <td>-0.545175</td>\n",
       "      <td>POINT (8.86956 54.65963)</td>\n",
       "    </tr>\n",
       "    <tr>\n",
       "      <th>273</th>\n",
       "      <td>Agriculture</td>\n",
       "      <td>7</td>\n",
       "      <td>338.0</td>\n",
       "      <td>924.0</td>\n",
       "      <td>827.0</td>\n",
       "      <td>2730.0</td>\n",
       "      <td>1452.0</td>\n",
       "      <td>764.0</td>\n",
       "      <td>0.535001</td>\n",
       "      <td>1.975342</td>\n",
       "      <td>0.504292</td>\n",
       "      <td>0.305595</td>\n",
       "      <td>0.313881</td>\n",
       "      <td>-0.489550</td>\n",
       "      <td>-0.494253</td>\n",
       "      <td>POINT (8.86083 54.65956)</td>\n",
       "    </tr>\n",
       "    <tr>\n",
       "      <th>274</th>\n",
       "      <td>Agriculture</td>\n",
       "      <td>7</td>\n",
       "      <td>388.0</td>\n",
       "      <td>952.0</td>\n",
       "      <td>894.0</td>\n",
       "      <td>2830.0</td>\n",
       "      <td>1567.0</td>\n",
       "      <td>761.0</td>\n",
       "      <td>0.519871</td>\n",
       "      <td>1.941311</td>\n",
       "      <td>0.519487</td>\n",
       "      <td>0.287241</td>\n",
       "      <td>0.316671</td>\n",
       "      <td>-0.526025</td>\n",
       "      <td>-0.496563</td>\n",
       "      <td>POINT (8.86424 54.66112)</td>\n",
       "    </tr>\n",
       "    <tr>\n",
       "      <th>275</th>\n",
       "      <td>Agriculture</td>\n",
       "      <td>7</td>\n",
       "      <td>343.0</td>\n",
       "      <td>922.0</td>\n",
       "      <td>788.0</td>\n",
       "      <td>2806.0</td>\n",
       "      <td>1380.0</td>\n",
       "      <td>727.0</td>\n",
       "      <td>0.561491</td>\n",
       "      <td>1.980219</td>\n",
       "      <td>0.520146</td>\n",
       "      <td>0.340659</td>\n",
       "      <td>0.337199</td>\n",
       "      <td>-0.453275</td>\n",
       "      <td>-0.505365</td>\n",
       "      <td>POINT (8.86052 54.66092)</td>\n",
       "    </tr>\n",
       "  </tbody>\n",
       "</table>\n",
       "<p>276 rows × 16 columns</p>\n",
       "</div>"
      ],
      "text/plain": [
       "        classtxt  classid     B2     B3     B4      B8     B11    B12  \\\n",
       "0          Water        1  244.0  376.0  252.0   148.0   172.0  147.0   \n",
       "1          Water        1  231.0  410.0  279.0   126.0   152.0  124.0   \n",
       "2          Water        1  262.0  402.0  236.0   119.0   154.0  127.0   \n",
       "3          Water        1  205.0  339.0  210.0   105.0   140.0  128.0   \n",
       "4          Water        1  308.0  489.0  330.0   162.0   166.0  159.0   \n",
       "..           ...      ...    ...    ...    ...     ...     ...    ...   \n",
       "271  Agriculture        7  130.0  522.0  138.0  5644.0  2242.0  992.0   \n",
       "272  Agriculture        7  355.0  886.0  728.0  3010.0  1737.0  898.0   \n",
       "273  Agriculture        7  338.0  924.0  827.0  2730.0  1452.0  764.0   \n",
       "274  Agriculture        7  388.0  952.0  894.0  2830.0  1567.0  761.0   \n",
       "275  Agriculture        7  343.0  922.0  788.0  2806.0  1380.0  727.0   \n",
       "\n",
       "         NDVI      SAVI     MSAVI      NDMI       EVI      AWEI      NDWI  \\\n",
       "0   -0.260000  2.758518  0.023151 -0.075000 -0.026450  0.037475  0.435115   \n",
       "1   -0.377778  2.746901  0.018096 -0.093525 -0.037994  0.065950  0.529851   \n",
       "2   -0.329577  2.779272  0.017793 -0.128205 -0.030564  0.061300  0.543186   \n",
       "3   -0.333333  2.802446  0.015666 -0.142857 -0.026711  0.041775  0.527027   \n",
       "4   -0.341463  2.700655  0.023948 -0.012195 -0.042718  0.081425  0.502304   \n",
       "..        ...       ...       ...       ...       ...       ...       ...   \n",
       "271  0.952266  1.901873  0.977237  0.431397  0.888236 -1.101900 -0.830684   \n",
       "272  0.610487  1.977798  0.560582  0.268169  0.387686 -0.662600 -0.545175   \n",
       "273  0.535001  1.975342  0.504292  0.305595  0.313881 -0.489550 -0.494253   \n",
       "274  0.519871  1.941311  0.519487  0.287241  0.316671 -0.526025 -0.496563   \n",
       "275  0.561491  1.980219  0.520146  0.340659  0.337199 -0.453275 -0.505365   \n",
       "\n",
       "                     geometry  \n",
       "0    POINT (8.78073 54.56462)  \n",
       "1    POINT (8.79207 54.56766)  \n",
       "2    POINT (8.77722 54.56884)  \n",
       "3    POINT (8.79249 54.57158)  \n",
       "4    POINT (8.78216 54.57501)  \n",
       "..                        ...  \n",
       "271  POINT (8.85396 54.65587)  \n",
       "272  POINT (8.86956 54.65963)  \n",
       "273  POINT (8.86083 54.65956)  \n",
       "274  POINT (8.86424 54.66112)  \n",
       "275  POINT (8.86052 54.66092)  \n",
       "\n",
       "[276 rows x 16 columns]"
      ]
     },
     "execution_count": 116,
     "metadata": {},
     "output_type": "execute_result"
    }
   ],
   "source": [
    "points = gpd.read_file(rpoints)\n",
    "class_names = points['classtxt'].unique()\n",
    "print(class_names)\n",
    "points"
   ]
  },
  {
   "cell_type": "code",
   "execution_count": 117,
   "id": "39af1277",
   "metadata": {},
   "outputs": [
    {
     "data": {
      "text/plain": [
       "array([[[ 157,  183,  193, ...,   77,    1,    3],\n",
       "        [ 201,  183,  182, ...,    1,    1,    1],\n",
       "        [ 201,  190,  209, ...,    1,   19,    6],\n",
       "        ...,\n",
       "        [ 199,  170,  226, ...,  138,  167,  267],\n",
       "        [ 187,  214,  227, ...,  152,  144,  157],\n",
       "        [ 188,  223,  244, ...,  148,  141,  164]],\n",
       "\n",
       "       [[ 335,  320,  355, ...,  243,  137,  116],\n",
       "        [ 367,  334,  335, ...,  147,  112,  141],\n",
       "        [ 414,  357,  380, ...,  152,  135,  148],\n",
       "        ...,\n",
       "        [ 382,  386,  403, ...,  512,  620,  713],\n",
       "        [ 400,  396,  421, ...,  577,  598,  588],\n",
       "        [ 390,  404,  438, ...,  565,  532,  526]],\n",
       "\n",
       "       [[ 284,  273,  315, ...,  333,  101,  101],\n",
       "        [ 299,  284,  297, ...,  140,   88,   72],\n",
       "        [ 315,  311,  317, ...,  139,  114,  108],\n",
       "        ...,\n",
       "        [ 181,  182,  191, ...,  190,  253,  339],\n",
       "        [ 183,  189,  213, ...,  173,  200,  240],\n",
       "        [ 183,  205,  238, ...,  243,  258,  274]],\n",
       "\n",
       "       [[1009, 1019,  930, ..., 2156, 2342, 1924],\n",
       "        [1098, 1072, 1046, ..., 1954, 1986, 1914],\n",
       "        [1154, 1086, 1100, ..., 2074, 2020, 2220],\n",
       "        ...,\n",
       "        [ 124,  141,  140, ..., 5484, 5480, 5272],\n",
       "        [ 139,  141,  136, ..., 5616, 5444, 5376],\n",
       "        [ 127,  131,  142, ..., 4804, 4308, 3764]],\n",
       "\n",
       "       [[ 445,  373,  373, ..., 1513, 1513, 1069],\n",
       "        [ 445,  373,  373, ..., 1513, 1513, 1069],\n",
       "        [ 547,  454,  454, ..., 1199, 1199, 1127],\n",
       "        ...,\n",
       "        [ 165,  169,  169, ..., 1829, 1829, 1823],\n",
       "        [ 165,  169,  169, ..., 1829, 1829, 1823],\n",
       "        [ 174,  170,  170, ..., 1250, 1250, 1205]],\n",
       "\n",
       "       [[ 271,  229,  229, ...,  758,  758,  492],\n",
       "        [ 271,  229,  229, ...,  758,  758,  492],\n",
       "        [ 323,  273,  273, ...,  536,  536,  511],\n",
       "        ...,\n",
       "        [ 142,  138,  138, ...,  910,  910,  930],\n",
       "        [ 142,  138,  138, ...,  910,  910,  930],\n",
       "        [ 143,  142,  142, ...,  584,  584,  523]]], dtype=uint16)"
      ]
     },
     "execution_count": 117,
     "metadata": {},
     "output_type": "execute_result"
    }
   ],
   "source": [
    "with rasterio.open(s2_path) as s2: \n",
    "    meta = s2.meta\n",
    "    arr = s2.read()\n",
    "meta"
   ]
  },
  {
   "cell_type": "code",
   "execution_count": 157,
   "id": "de041f4b",
   "metadata": {},
   "outputs": [
    {
     "data": {
      "text/plain": [
       "Index(['classtxt', 'classid', 'B2', 'B3', 'B4', 'B8', 'B11', 'B12', 'NDVI',\n",
       "       'SAVI', 'MSAVI', 'NDMI', 'EVI', 'AWEI', 'NDWI', 'geometry', 'B5'],\n",
       "      dtype='object')"
      ]
     },
     "execution_count": 157,
     "metadata": {},
     "output_type": "execute_result"
    }
   ],
   "source": [
    "### Preparation for raster stack of all s2 scenes and indices - extract rasterpoint values for all layers of the stack\n",
    "### maybe write in loop for this amount of layers... ?\n",
    "\n",
    "### Reproject shapefile to S2 \n",
    "points = points.to_crs(meta[\"crs\"])\n",
    "coord_list = [(x,y) for x,y in zip(points['geometry'].x , points['geometry'].y)]\n",
    "\n",
    "### open the raster \n",
    "with rasterio.open(s2_path) as s2: \n",
    "    samplevalues = [x for x in s2.sample(coord_list)]\n",
    "    \n",
    "B2 = [i[0] for i in samplevalues] \n",
    "B3 = [i[1] for i in samplevalues]\n",
    "B4 = [i[2] for i in samplevalues]\n",
    "B8 = [i[3] for i in samplevalues]\n",
    "B11 = [i[4] for i in samplevalues]\n",
    "B12 = [i[5] for i in samplevalues]\n",
    "\n",
    "points['B2']=B2\n",
    "points['B3']=B3\n",
    "points['B4']=B4\n",
    "points['B8']=B8\n",
    "points['B11']=B11\n",
    "points['B12']=B12\n",
    "\n",
    "points.columns\n",
    "\n"
   ]
  },
  {
   "cell_type": "code",
   "execution_count": 186,
   "id": "8d36d311",
   "metadata": {},
   "outputs": [
    {
     "name": "stdout",
     "output_type": "stream",
     "text": [
      "38     2\n",
      "259    7\n",
      "112    3\n",
      "57     2\n",
      "97     3\n",
      "      ..\n",
      "188    6\n",
      "71     2\n",
      "106    3\n",
      "270    7\n",
      "102    3\n",
      "Name: classid, Length: 193, dtype: int64\n"
     ]
    }
   ],
   "source": [
    "# points.to_file('C:/Users/ariane/shared/NERSC/classification/rasterpoints.csv', driver=\"CSV\")\n",
    "cols = ['B2', 'B3', 'B4', 'B8', 'B11', 'B12'] # 'NDVI', 'SAVI', 'MSAVI', 'NDMI', 'EVI', 'AWEI', 'NDWI']\n",
    "scaler = StandardScaler()\n",
    "\n",
    "### Splitting the training points into training and testing data for the RandomForest Model\n",
    "X_train, X_test, y_train, y_test=train_test_split(points[cols], points['classid'], train_size=0.7, random_state=42)\n",
    "X_train\n",
    "print(y_train)\n",
    "\n",
    "### Trying to scale data \n",
    "\n",
    "X_scaled = scaler.fit_transform(X_train[cols].to_numpy())\n",
    "X_scaled\n",
    "\n",
    "# Y_scaled = scaler.fit_transform(y_train[cols].to_numpy())\n",
    "# Y_scaled\n",
    "\n",
    "# X_scaled = scaler.fit_transform(X_train)\n",
    "# Y_scaled = scaler.fit_transform(y_train)\n",
    "\n",
    "### Trying PCA transformation of training data to enhance results\n",
    "\n",
    "# X_train.corr()\n",
    "# pc = PCA().fit(X_train)\n",
    "# pc_train = pc.transform(X_train)\n",
    "# pc_test = pc.transform(X_test)"
   ]
  },
  {
   "cell_type": "code",
   "execution_count": 120,
   "id": "1f65b465",
   "metadata": {},
   "outputs": [],
   "source": [
    "# X, y = make_classification(random_state=42)\n",
    "# X_train, X_test, y_train, y_test = train_test_split(X, y, random_state=42)\n",
    "# pipe = make_pipeline(StandardScaler(), LogisticRegression())\n",
    "# pipe.fit(X_train, y_train)  # apply scaling on training data\n",
    "# Pipeline(steps=[('standardscaler', StandardScaler()),\n",
    "#                ('logisticregression', LogisticRegression())])\n",
    "\n",
    "# pipe.score(X_test, y_test)  # apply scaling on testing data, without leaking training data.\n"
   ]
  },
  {
   "cell_type": "code",
   "execution_count": 193,
   "id": "9cac3eaa",
   "metadata": {},
   "outputs": [
    {
     "data": {
      "text/html": [
       "<style>#sk-container-id-9 {color: black;background-color: white;}#sk-container-id-9 pre{padding: 0;}#sk-container-id-9 div.sk-toggleable {background-color: white;}#sk-container-id-9 label.sk-toggleable__label {cursor: pointer;display: block;width: 100%;margin-bottom: 0;padding: 0.3em;box-sizing: border-box;text-align: center;}#sk-container-id-9 label.sk-toggleable__label-arrow:before {content: \"▸\";float: left;margin-right: 0.25em;color: #696969;}#sk-container-id-9 label.sk-toggleable__label-arrow:hover:before {color: black;}#sk-container-id-9 div.sk-estimator:hover label.sk-toggleable__label-arrow:before {color: black;}#sk-container-id-9 div.sk-toggleable__content {max-height: 0;max-width: 0;overflow: hidden;text-align: left;background-color: #f0f8ff;}#sk-container-id-9 div.sk-toggleable__content pre {margin: 0.2em;color: black;border-radius: 0.25em;background-color: #f0f8ff;}#sk-container-id-9 input.sk-toggleable__control:checked~div.sk-toggleable__content {max-height: 200px;max-width: 100%;overflow: auto;}#sk-container-id-9 input.sk-toggleable__control:checked~label.sk-toggleable__label-arrow:before {content: \"▾\";}#sk-container-id-9 div.sk-estimator input.sk-toggleable__control:checked~label.sk-toggleable__label {background-color: #d4ebff;}#sk-container-id-9 div.sk-label input.sk-toggleable__control:checked~label.sk-toggleable__label {background-color: #d4ebff;}#sk-container-id-9 input.sk-hidden--visually {border: 0;clip: rect(1px 1px 1px 1px);clip: rect(1px, 1px, 1px, 1px);height: 1px;margin: -1px;overflow: hidden;padding: 0;position: absolute;width: 1px;}#sk-container-id-9 div.sk-estimator {font-family: monospace;background-color: #f0f8ff;border: 1px dotted black;border-radius: 0.25em;box-sizing: border-box;margin-bottom: 0.5em;}#sk-container-id-9 div.sk-estimator:hover {background-color: #d4ebff;}#sk-container-id-9 div.sk-parallel-item::after {content: \"\";width: 100%;border-bottom: 1px solid gray;flex-grow: 1;}#sk-container-id-9 div.sk-label:hover label.sk-toggleable__label {background-color: #d4ebff;}#sk-container-id-9 div.sk-serial::before {content: \"\";position: absolute;border-left: 1px solid gray;box-sizing: border-box;top: 0;bottom: 0;left: 50%;z-index: 0;}#sk-container-id-9 div.sk-serial {display: flex;flex-direction: column;align-items: center;background-color: white;padding-right: 0.2em;padding-left: 0.2em;position: relative;}#sk-container-id-9 div.sk-item {position: relative;z-index: 1;}#sk-container-id-9 div.sk-parallel {display: flex;align-items: stretch;justify-content: center;background-color: white;position: relative;}#sk-container-id-9 div.sk-item::before, #sk-container-id-9 div.sk-parallel-item::before {content: \"\";position: absolute;border-left: 1px solid gray;box-sizing: border-box;top: 0;bottom: 0;left: 50%;z-index: -1;}#sk-container-id-9 div.sk-parallel-item {display: flex;flex-direction: column;z-index: 1;position: relative;background-color: white;}#sk-container-id-9 div.sk-parallel-item:first-child::after {align-self: flex-end;width: 50%;}#sk-container-id-9 div.sk-parallel-item:last-child::after {align-self: flex-start;width: 50%;}#sk-container-id-9 div.sk-parallel-item:only-child::after {width: 0;}#sk-container-id-9 div.sk-dashed-wrapped {border: 1px dashed gray;margin: 0 0.4em 0.5em 0.4em;box-sizing: border-box;padding-bottom: 0.4em;background-color: white;}#sk-container-id-9 div.sk-label label {font-family: monospace;font-weight: bold;display: inline-block;line-height: 1.2em;}#sk-container-id-9 div.sk-label-container {text-align: center;}#sk-container-id-9 div.sk-container {/* jupyter's `normalize.less` sets `[hidden] { display: none; }` but bootstrap.min.css set `[hidden] { display: none !important; }` so we also need the `!important` here to be able to override the default hidden behavior on the sphinx rendered scikit-learn.org. See: https://github.com/scikit-learn/scikit-learn/issues/21755 */display: inline-block !important;position: relative;}#sk-container-id-9 div.sk-text-repr-fallback {display: none;}</style><div id=\"sk-container-id-9\" class=\"sk-top-container\"><div class=\"sk-text-repr-fallback\"><pre>RandomForestClassifier(n_jobs=-1, random_state=50)</pre><b>In a Jupyter environment, please rerun this cell to show the HTML representation or trust the notebook. <br />On GitHub, the HTML representation is unable to render, please try loading this page with nbviewer.org.</b></div><div class=\"sk-container\" hidden><div class=\"sk-item\"><div class=\"sk-estimator sk-toggleable\"><input class=\"sk-toggleable__control sk-hidden--visually\" id=\"sk-estimator-id-15\" type=\"checkbox\" checked><label for=\"sk-estimator-id-15\" class=\"sk-toggleable__label sk-toggleable__label-arrow\">RandomForestClassifier</label><div class=\"sk-toggleable__content\"><pre>RandomForestClassifier(n_jobs=-1, random_state=50)</pre></div></div></div></div></div>"
      ],
      "text/plain": [
       "RandomForestClassifier(n_jobs=-1, random_state=50)"
      ]
     },
     "execution_count": 193,
     "metadata": {},
     "output_type": "execute_result"
    }
   ],
   "source": [
    "### Trying to write scaling into classification\n",
    "\n",
    "# clf = make_pipeline(StandardScaler(),\n",
    "#                     RandomForestClassifier(n_estimators = 100, n_jobs = -1, random_state=50))\n",
    "                    \n",
    "\n",
    "### Normal classification without scaling\n",
    "clf = RandomForestClassifier(n_estimators = 100, n_jobs = -1, random_state=50)\n",
    "\n",
    "### Alternative classification: Support Vector\n",
    "# LinearSVC(random_state=0, tol=1e-3)\n",
    "                    \n",
    "# clf.fit(pc_train, y_train)  # PCA model fit\n",
    "                    \n",
    "#clf.fit(X_train, y_train) # normal model fit\n",
    "\n",
    "clf.fit(X_train, y_train) # scaled model fit"
   ]
  },
  {
   "cell_type": "code",
   "execution_count": 188,
   "id": "7ab47a95",
   "metadata": {},
   "outputs": [
    {
     "name": "stderr",
     "output_type": "stream",
     "text": [
      "C:\\Users\\ariane\\anaconda3\\envs\\nansenproject2\\lib\\site-packages\\sklearn\\base.py:443: UserWarning: X has feature names, but RandomForestClassifier was fitted without feature names\n",
      "  warnings.warn(\n"
     ]
    }
   ],
   "source": [
    "clf_classified = clf.predict(X_test)\n",
    "#clf_classified_pca = clf.predict(pc_test)\n",
    "# clf_classified.shape"
   ]
  },
  {
   "cell_type": "code",
   "execution_count": 123,
   "id": "61b52d9e",
   "metadata": {
    "scrolled": true
   },
   "outputs": [
    {
     "data": {
      "text/plain": [
       "array([0.84615385, 0.82051282, 0.92307692, 0.92105263, 0.94736842])"
      ]
     },
     "execution_count": 123,
     "metadata": {},
     "output_type": "execute_result"
    }
   ],
   "source": [
    "scores = cross_val_score(clf, X_train, y_train, cv=5)\n",
    "# scores = cross_val_score(clf, pc_train, y_train, cv=5)\n",
    "scores"
   ]
  },
  {
   "cell_type": "code",
   "execution_count": 124,
   "id": "c894dabb",
   "metadata": {},
   "outputs": [
    {
     "name": "stdout",
     "output_type": "stream",
     "text": [
      "0.89 accuracy with a standard deviation of 0.05\n",
      "[1 5 6 5 6 2 5 6 5 5 2 5 2 7 5 2 7 5 3 7 2 2 5 5 7 6 3 2 1 2 1 3 1 5 5 2 6\n",
      " 2 1 2 2 4 2 1 3 6 1 6 5 6 3 5 5 1 5 1 7 5 1 5 5 3 2 4 1 6 7 2 5 3 3 6 7 1\n",
      " 1 3 6 3 2 3 4 6 7]\n"
     ]
    }
   ],
   "source": [
    "print(\"%0.2f accuracy with a standard deviation of %0.2f\" % (scores.mean(), scores.std()))\n",
    "# user warning: X does not have valid feature names, but RFC was fitted with feature names --> ? \n",
    "\n",
    "# classification = clf_classified.reshape((rows, cols))\n",
    "\n",
    "print(clf_classified)\n",
    "\n",
    "# output = 'C:/Users/ariane/shared/NERSC/classification/outputRFC_w.tif'"
   ]
  },
  {
   "cell_type": "code",
   "execution_count": 189,
   "id": "97766d10",
   "metadata": {
    "scrolled": true
   },
   "outputs": [],
   "source": [
    "# np.save('/home/ariane/nansen/classification/better_classification.npy', classification)\n",
    "# classification = np.load('/home/ariane/nansen/classification/better_classification.npy')\n",
    "\n",
    "\n",
    "#build confusion matrix (x-axis: predicted pixels, y-axis: reference pixels; class 1,2,3,4,5)\n",
    "cm = confusion_matrix(y_test, clf_classified, labels = clf.classes_)\n",
    "\n",
    "disp = ConfusionMatrixDisplay(confusion_matrix=cm, display_labels = clf.classes_)\n",
    "disp.plot()\n",
    "# %matplotlib inline\n",
    "plt.show()\n",
    "# driver = gdal.GetDriverByName('GTiff')\n",
    "# print(driver)\n",
    "# rows, cols = classification.shape\n",
    "# print(rows, cols)\n",
    "# rasterDS = driver.Create(output, cols, rows)\n",
    "# print(rasterDS)\n",
    "\n",
    "# rasterDS.SetGeoTransform(geo_transform)\n",
    "# rasterDS.SetProjection(projection)\n",
    "# rasterDS.GetRasterBand(1).WriteArray(classification)\n",
    "# rasterDS.GetRasterBand(1).SetNoDataValue(0)\n",
    "# rasterDS.FlushCache()"
   ]
  },
  {
   "cell_type": "code",
   "execution_count": 126,
   "id": "6ef76ae9",
   "metadata": {},
   "outputs": [],
   "source": [
    "# plot_confusion_matrix(clf, pc_test, y_test)\n",
    "\n",
    "# cm = confusion_matrix(y_test, predictions, labels=clf.classes_)\n",
    "# disp = ConfusionMatrixDisplay(confusion_matrix=cm,\n",
    "#                              display_labels=clf.classes_)\n",
    "\n",
    "from sklearn.metrics import classification_report"
   ]
  },
  {
   "cell_type": "code",
   "execution_count": 190,
   "id": "49d3e49b",
   "metadata": {},
   "outputs": [
    {
     "name": "stderr",
     "output_type": "stream",
     "text": [
      "C:\\Users\\ariane\\anaconda3\\envs\\nansenproject2\\lib\\site-packages\\sklearn\\metrics\\_classification.py:1334: UndefinedMetricWarning: Precision and F-score are ill-defined and being set to 0.0 in labels with no predicted samples. Use `zero_division` parameter to control this behavior.\n",
      "  _warn_prf(average, modifier, msg_start, len(result))\n",
      "C:\\Users\\ariane\\anaconda3\\envs\\nansenproject2\\lib\\site-packages\\sklearn\\metrics\\_classification.py:1334: UndefinedMetricWarning: Precision and F-score are ill-defined and being set to 0.0 in labels with no predicted samples. Use `zero_division` parameter to control this behavior.\n",
      "  _warn_prf(average, modifier, msg_start, len(result))\n",
      "C:\\Users\\ariane\\anaconda3\\envs\\nansenproject2\\lib\\site-packages\\sklearn\\metrics\\_classification.py:1334: UndefinedMetricWarning: Precision and F-score are ill-defined and being set to 0.0 in labels with no predicted samples. Use `zero_division` parameter to control this behavior.\n",
      "  _warn_prf(average, modifier, msg_start, len(result))\n"
     ]
    },
    {
     "data": {
      "text/html": [
       "<div>\n",
       "<style scoped>\n",
       "    .dataframe tbody tr th:only-of-type {\n",
       "        vertical-align: middle;\n",
       "    }\n",
       "\n",
       "    .dataframe tbody tr th {\n",
       "        vertical-align: top;\n",
       "    }\n",
       "\n",
       "    .dataframe thead th {\n",
       "        text-align: right;\n",
       "    }\n",
       "</style>\n",
       "<table border=\"1\" class=\"dataframe\">\n",
       "  <thead>\n",
       "    <tr style=\"text-align: right;\">\n",
       "      <th></th>\n",
       "      <th>1</th>\n",
       "      <th>2</th>\n",
       "      <th>3</th>\n",
       "      <th>4</th>\n",
       "      <th>5</th>\n",
       "      <th>6</th>\n",
       "      <th>7</th>\n",
       "      <th>accuracy</th>\n",
       "      <th>macro avg</th>\n",
       "      <th>weighted avg</th>\n",
       "    </tr>\n",
       "  </thead>\n",
       "  <tbody>\n",
       "    <tr>\n",
       "      <th>precision</th>\n",
       "      <td>0.0</td>\n",
       "      <td>0.0</td>\n",
       "      <td>0.0</td>\n",
       "      <td>0.0</td>\n",
       "      <td>0.0</td>\n",
       "      <td>0.0</td>\n",
       "      <td>0.108434</td>\n",
       "      <td>0.108434</td>\n",
       "      <td>0.015491</td>\n",
       "      <td>0.011758</td>\n",
       "    </tr>\n",
       "    <tr>\n",
       "      <th>recall</th>\n",
       "      <td>0.0</td>\n",
       "      <td>0.0</td>\n",
       "      <td>0.0</td>\n",
       "      <td>0.0</td>\n",
       "      <td>0.0</td>\n",
       "      <td>0.0</td>\n",
       "      <td>1.000000</td>\n",
       "      <td>0.108434</td>\n",
       "      <td>0.142857</td>\n",
       "      <td>0.108434</td>\n",
       "    </tr>\n",
       "    <tr>\n",
       "      <th>f1-score</th>\n",
       "      <td>0.0</td>\n",
       "      <td>0.0</td>\n",
       "      <td>0.0</td>\n",
       "      <td>0.0</td>\n",
       "      <td>0.0</td>\n",
       "      <td>0.0</td>\n",
       "      <td>0.195652</td>\n",
       "      <td>0.108434</td>\n",
       "      <td>0.027950</td>\n",
       "      <td>0.021215</td>\n",
       "    </tr>\n",
       "    <tr>\n",
       "      <th>support</th>\n",
       "      <td>12.0</td>\n",
       "      <td>17.0</td>\n",
       "      <td>11.0</td>\n",
       "      <td>9.0</td>\n",
       "      <td>12.0</td>\n",
       "      <td>13.0</td>\n",
       "      <td>9.000000</td>\n",
       "      <td>0.108434</td>\n",
       "      <td>83.000000</td>\n",
       "      <td>83.000000</td>\n",
       "    </tr>\n",
       "  </tbody>\n",
       "</table>\n",
       "</div>"
      ],
      "text/plain": [
       "              1     2     3    4     5     6         7  accuracy  macro avg  \\\n",
       "precision   0.0   0.0   0.0  0.0   0.0   0.0  0.108434  0.108434   0.015491   \n",
       "recall      0.0   0.0   0.0  0.0   0.0   0.0  1.000000  0.108434   0.142857   \n",
       "f1-score    0.0   0.0   0.0  0.0   0.0   0.0  0.195652  0.108434   0.027950   \n",
       "support    12.0  17.0  11.0  9.0  12.0  13.0  9.000000  0.108434  83.000000   \n",
       "\n",
       "           weighted avg  \n",
       "precision      0.011758  \n",
       "recall         0.108434  \n",
       "f1-score       0.021215  \n",
       "support       83.000000  "
      ]
     },
     "execution_count": 190,
     "metadata": {},
     "output_type": "execute_result"
    }
   ],
   "source": [
    "#calculate number of pixels that were classified correctly\n",
    "accuracy_score(y_test, clf_classified, normalize=False)\n",
    "\n",
    "pd.DataFrame(classification_report(y_test, clf_classified, digits=2, output_dict=True))"
   ]
  },
  {
   "cell_type": "code",
   "execution_count": 128,
   "id": "7e099fa4",
   "metadata": {},
   "outputs": [],
   "source": [
    "# accuracy_score(y_test, clf_classified, normalize=True)"
   ]
  },
  {
   "cell_type": "code",
   "execution_count": 129,
   "id": "f81d981c",
   "metadata": {},
   "outputs": [],
   "source": [
    "# calculate precision score per class\n",
    "# precision_score(y_test, clf_classified, average=None)"
   ]
  },
  {
   "cell_type": "code",
   "execution_count": 130,
   "id": "a0ab364d",
   "metadata": {},
   "outputs": [],
   "source": [
    "# calculate recall score per class\n",
    "# recall_score(y_test, clf_classified, average=None)"
   ]
  },
  {
   "cell_type": "code",
   "execution_count": 131,
   "id": "e08736d4",
   "metadata": {},
   "outputs": [],
   "source": [
    "# arr\n",
    "#take the (multi layer) raster (arr) and flatten into 1-dimensional array\n",
    "# arrays_flat = [arr[i, :, :].flatten() for i in range(arr.shape[0])] "
   ]
  },
  {
   "cell_type": "code",
   "execution_count": 194,
   "id": "68ed945b",
   "metadata": {},
   "outputs": [
    {
     "data": {
      "text/plain": [
       "array([1, 5, 6, 5, 6, 2, 5, 6, 5, 5, 2, 5, 2, 7, 5, 2, 7, 5, 3, 7, 2, 2,\n",
       "       5, 5, 7, 6, 3, 2, 1, 2, 1, 3, 1, 5, 5, 2, 6, 2, 1, 2, 2, 4, 2, 1,\n",
       "       3, 6, 1, 6, 5, 6, 3, 5, 5, 1, 5, 1, 7, 5, 1, 5, 5, 3, 2, 4, 1, 6,\n",
       "       7, 2, 5, 3, 3, 6, 7, 1, 1, 3, 6, 3, 2, 3, 4, 6, 7], dtype=int64)"
      ]
     },
     "execution_count": 194,
     "metadata": {},
     "output_type": "execute_result"
    }
   ],
   "source": [
    "### Save the model\n",
    "\n",
    "joblib.dump(clf, path + 'random_forest.joblib')\n",
    "loaded_clf = joblib.load(path+'random_forest.joblib')\n",
    "\n",
    "# loaded_clf.predict(pc_test)\n",
    "loaded_clf.predict(X_test)"
   ]
  },
  {
   "cell_type": "code",
   "execution_count": 133,
   "id": "98b9fb8f",
   "metadata": {},
   "outputs": [
    {
     "data": {
      "text/plain": [
       "array([1, 5, 6, 5, 6, 2, 5, 6, 5, 5, 2, 5, 2, 7, 5, 2, 7, 5, 3, 7, 2, 2,\n",
       "       5, 5, 7, 6, 3, 2, 1, 2, 1, 3, 1, 5, 5, 2, 6, 2, 1, 2, 2, 4, 2, 1,\n",
       "       3, 6, 1, 6, 5, 6, 3, 5, 5, 1, 5, 1, 7, 5, 1, 5, 5, 3, 2, 4, 1, 6,\n",
       "       7, 2, 5, 3, 3, 6, 7, 1, 1, 3, 6, 3, 2, 3, 4, 6, 7], dtype=int64)"
      ]
     },
     "execution_count": 133,
     "metadata": {},
     "output_type": "execute_result"
    }
   ],
   "source": [
    "clf_classified"
   ]
  },
  {
   "cell_type": "code",
   "execution_count": 134,
   "id": "68f3dd71",
   "metadata": {},
   "outputs": [
    {
     "data": {
      "text/plain": [
       "{'driver': 'GTiff',\n",
       " 'dtype': 'uint16',\n",
       " 'nodata': None,\n",
       " 'width': 960,\n",
       " 'height': 1091,\n",
       " 'count': 6,\n",
       " 'crs': CRS.from_epsg(32632),\n",
       " 'transform': Affine(10.0, 0.0, 484550.0,\n",
       "        0.0, -10.0, 6057160.0)}"
      ]
     },
     "execution_count": 134,
     "metadata": {},
     "output_type": "execute_result"
    }
   ],
   "source": [
    "meta"
   ]
  },
  {
   "cell_type": "code",
   "execution_count": 135,
   "id": "63a2d257",
   "metadata": {},
   "outputs": [
    {
     "data": {
      "text/plain": [
       "{'driver': 'GTiff',\n",
       " 'dtype': 'uint16',\n",
       " 'nodata': None,\n",
       " 'width': 960,\n",
       " 'height': 1091,\n",
       " 'count': 6,\n",
       " 'crs': CRS.from_epsg(32632),\n",
       " 'transform': Affine(10.0, 0.0, 484550.0,\n",
       "        0.0, -10.0, 6057160.0)}"
      ]
     },
     "execution_count": 135,
     "metadata": {},
     "output_type": "execute_result"
    }
   ],
   "source": [
    "#take the (multi layer) raster (arr) and flatten into 1-dimensional array\n",
    "arrays_flat = [arr[i, :, :].flatten() for i in range(arr.shape[0])] "
   ]
  },
  {
   "cell_type": "code",
   "execution_count": 136,
   "id": "9607f72a",
   "metadata": {},
   "outputs": [],
   "source": [
    "#define which band refers to which column in the raster data frame\n",
    "#the order (0-X) is the same as in the original raster as it can be seen in QGIS UI\n",
    "raster_df = pd.DataFrame({\n",
    "    \"B2\" : arrays_flat[0],\n",
    "    \"B3\" : arrays_flat[1],\n",
    "    \"B4\" : arrays_flat[2],\n",
    "    \"B8\" : arrays_flat[3],\n",
    "    \"B11\" : arrays_flat[4],\n",
    "    \"B12\" : arrays_flat[5]})"
   ]
  },
  {
   "cell_type": "code",
   "execution_count": 137,
   "id": "ec63c917",
   "metadata": {},
   "outputs": [
    {
     "data": {
      "text/html": [
       "<div>\n",
       "<style scoped>\n",
       "    .dataframe tbody tr th:only-of-type {\n",
       "        vertical-align: middle;\n",
       "    }\n",
       "\n",
       "    .dataframe tbody tr th {\n",
       "        vertical-align: top;\n",
       "    }\n",
       "\n",
       "    .dataframe thead th {\n",
       "        text-align: right;\n",
       "    }\n",
       "</style>\n",
       "<table border=\"1\" class=\"dataframe\">\n",
       "  <thead>\n",
       "    <tr style=\"text-align: right;\">\n",
       "      <th></th>\n",
       "      <th>B2</th>\n",
       "      <th>B3</th>\n",
       "      <th>B4</th>\n",
       "      <th>B8</th>\n",
       "      <th>B11</th>\n",
       "      <th>B12</th>\n",
       "    </tr>\n",
       "  </thead>\n",
       "  <tbody>\n",
       "    <tr>\n",
       "      <th>0</th>\n",
       "      <td>157</td>\n",
       "      <td>335</td>\n",
       "      <td>284</td>\n",
       "      <td>1009</td>\n",
       "      <td>445</td>\n",
       "      <td>271</td>\n",
       "    </tr>\n",
       "    <tr>\n",
       "      <th>1</th>\n",
       "      <td>183</td>\n",
       "      <td>320</td>\n",
       "      <td>273</td>\n",
       "      <td>1019</td>\n",
       "      <td>373</td>\n",
       "      <td>229</td>\n",
       "    </tr>\n",
       "    <tr>\n",
       "      <th>2</th>\n",
       "      <td>193</td>\n",
       "      <td>355</td>\n",
       "      <td>315</td>\n",
       "      <td>930</td>\n",
       "      <td>373</td>\n",
       "      <td>229</td>\n",
       "    </tr>\n",
       "    <tr>\n",
       "      <th>3</th>\n",
       "      <td>229</td>\n",
       "      <td>421</td>\n",
       "      <td>375</td>\n",
       "      <td>873</td>\n",
       "      <td>340</td>\n",
       "      <td>208</td>\n",
       "    </tr>\n",
       "    <tr>\n",
       "      <th>4</th>\n",
       "      <td>195</td>\n",
       "      <td>379</td>\n",
       "      <td>350</td>\n",
       "      <td>846</td>\n",
       "      <td>340</td>\n",
       "      <td>208</td>\n",
       "    </tr>\n",
       "    <tr>\n",
       "      <th>...</th>\n",
       "      <td>...</td>\n",
       "      <td>...</td>\n",
       "      <td>...</td>\n",
       "      <td>...</td>\n",
       "      <td>...</td>\n",
       "      <td>...</td>\n",
       "    </tr>\n",
       "    <tr>\n",
       "      <th>1047355</th>\n",
       "      <td>138</td>\n",
       "      <td>456</td>\n",
       "      <td>200</td>\n",
       "      <td>5112</td>\n",
       "      <td>1436</td>\n",
       "      <td>635</td>\n",
       "    </tr>\n",
       "    <tr>\n",
       "      <th>1047356</th>\n",
       "      <td>165</td>\n",
       "      <td>507</td>\n",
       "      <td>230</td>\n",
       "      <td>4924</td>\n",
       "      <td>1436</td>\n",
       "      <td>635</td>\n",
       "    </tr>\n",
       "    <tr>\n",
       "      <th>1047357</th>\n",
       "      <td>148</td>\n",
       "      <td>565</td>\n",
       "      <td>243</td>\n",
       "      <td>4804</td>\n",
       "      <td>1250</td>\n",
       "      <td>584</td>\n",
       "    </tr>\n",
       "    <tr>\n",
       "      <th>1047358</th>\n",
       "      <td>141</td>\n",
       "      <td>532</td>\n",
       "      <td>258</td>\n",
       "      <td>4308</td>\n",
       "      <td>1250</td>\n",
       "      <td>584</td>\n",
       "    </tr>\n",
       "    <tr>\n",
       "      <th>1047359</th>\n",
       "      <td>164</td>\n",
       "      <td>526</td>\n",
       "      <td>274</td>\n",
       "      <td>3764</td>\n",
       "      <td>1205</td>\n",
       "      <td>523</td>\n",
       "    </tr>\n",
       "  </tbody>\n",
       "</table>\n",
       "<p>1047360 rows × 6 columns</p>\n",
       "</div>"
      ],
      "text/plain": [
       "          B2   B3   B4    B8   B11  B12\n",
       "0        157  335  284  1009   445  271\n",
       "1        183  320  273  1019   373  229\n",
       "2        193  355  315   930   373  229\n",
       "3        229  421  375   873   340  208\n",
       "4        195  379  350   846   340  208\n",
       "...      ...  ...  ...   ...   ...  ...\n",
       "1047355  138  456  200  5112  1436  635\n",
       "1047356  165  507  230  4924  1436  635\n",
       "1047357  148  565  243  4804  1250  584\n",
       "1047358  141  532  258  4308  1250  584\n",
       "1047359  164  526  274  3764  1205  523\n",
       "\n",
       "[1047360 rows x 6 columns]"
      ]
     },
     "execution_count": 137,
     "metadata": {},
     "output_type": "execute_result"
    }
   ],
   "source": [
    "cols_raster_df = raster_df.columns\n",
    "#show length of raster data frame to check number\n",
    "len(raster_df.columns)\n",
    "#show if it worked and all the column-names are correct and in the correct order in the raster data frame\n",
    "raster_df"
   ]
  },
  {
   "cell_type": "code",
   "execution_count": 138,
   "id": "aa543cc8",
   "metadata": {},
   "outputs": [
    {
     "data": {
      "text/plain": [
       "Index(['B2', 'B3', 'B4', 'B8', 'B11', 'B12'], dtype='object')"
      ]
     },
     "execution_count": 138,
     "metadata": {},
     "output_type": "execute_result"
    }
   ],
   "source": [
    "raster_df.columns"
   ]
  },
  {
   "cell_type": "code",
   "execution_count": 139,
   "id": "1748634a",
   "metadata": {},
   "outputs": [],
   "source": [
    "#classify the raster\n",
    "raster_pred = clf.predict(raster_df)"
   ]
  },
  {
   "cell_type": "code",
   "execution_count": 140,
   "id": "35e12c03",
   "metadata": {},
   "outputs": [
    {
     "name": "stdout",
     "output_type": "stream",
     "text": [
      "(1091, 960)\n"
     ]
    }
   ],
   "source": [
    "#reshape from array to raster\n",
    "#take shape from original raster\n",
    "shape_out = (arr.shape[1], arr.shape[2])\n",
    "print(shape_out)"
   ]
  },
  {
   "cell_type": "code",
   "execution_count": 141,
   "id": "0bdecdcc",
   "metadata": {},
   "outputs": [
    {
     "name": "stdout",
     "output_type": "stream",
     "text": [
      "(1091, 960)\n"
     ]
    },
    {
     "data": {
      "text/plain": [
       "array([[5, 5, 5, ..., 5, 7, 5],\n",
       "       [5, 5, 5, ..., 7, 7, 5],\n",
       "       [5, 5, 5, ..., 5, 5, 5],\n",
       "       ...,\n",
       "       [1, 1, 1, ..., 7, 7, 6],\n",
       "       [1, 1, 1, ..., 7, 7, 7],\n",
       "       [1, 1, 1, ..., 5, 5, 5]], dtype=int64)"
      ]
     },
     "execution_count": 141,
     "metadata": {},
     "output_type": "execute_result"
    }
   ],
   "source": [
    "#show shape from original raster: 2-dimensional (correct? multidimensional?)\n",
    "shape_out\n",
    "\n",
    "#final classified raster is the classified raster but reshaped in the shape as the original --> multidimensional\n",
    "raster_out = raster_pred.reshape(shape_out)\n",
    "print(raster_out.shape)\n",
    "\n",
    "### Output path\n",
    "output = path + 'RF_July_Classification.tif'\n",
    "output\n",
    "#define output data type (same as original)\n",
    "meta[\"dtype\"] = 'float32'\n",
    "meta[\"count\"] = 1\n",
    "\n",
    "#test if it worked\n",
    "meta\n",
    "with rasterio.open(output, 'w', **meta) as dst:\n",
    "    dst.write(raster_out, 1)\n",
    "    \n",
    "raster_out"
   ]
  },
  {
   "cell_type": "code",
   "execution_count": 197,
   "id": "36a592fb",
   "metadata": {},
   "outputs": [
    {
     "name": "stdout",
     "output_type": "stream",
     "text": [
      "(1091, 960)\n",
      "(1091, 960)\n"
     ]
    },
    {
     "data": {
      "text/plain": [
       "array([[4, 4, 4, ..., 5, 5, 5],\n",
       "       [4, 4, 4, ..., 5, 5, 5],\n",
       "       [4, 4, 4, ..., 5, 5, 5],\n",
       "       ...,\n",
       "       [1, 1, 1, ..., 6, 7, 7],\n",
       "       [1, 1, 1, ..., 6, 7, 6],\n",
       "       [1, 1, 1, ..., 5, 5, 5]], dtype=int64)"
      ]
     },
     "execution_count": 197,
     "metadata": {},
     "output_type": "execute_result"
    }
   ],
   "source": [
    "### Apply to more sentinel 2 scenes\n",
    "\n",
    "path = 'C:/Users/ariane/shared/NERSC/classification/'\n",
    "\n",
    "### September scene\n",
    "with rasterio.open(path+'Subset_S2A_20210909_resampled.tif') as s2: \n",
    "    meta = s2.meta\n",
    "    arr = s2.read()\n",
    "\n",
    "keys = ['B2', 'B3', 'B4', 'B8', 'B11', 'B12']\n",
    "arrays_flat = [arr[i, :, :].flatten() for i in range(arr.shape[0])]\n",
    "meta\n",
    "raster_df = pd.DataFrame({\n",
    "    \"B2\" : arrays_flat[0],\n",
    "    \"B3\" : arrays_flat[1],\n",
    "    \"B4\" : arrays_flat[2],\n",
    "    \"B8\" : arrays_flat[3],\n",
    "    \"B11\" : arrays_flat[4],\n",
    "    \"B12\" : arrays_flat[5]})\n",
    "cols_raster_df = raster_df.columns\n",
    "\n",
    "#show length of raster data frame to check number\n",
    "len(raster_df.columns)\n",
    "\n",
    "#show if it worked and all the column-names are correct and in the correct order in the raster data frame\n",
    "raster_df\n",
    "raster_df.columns\n",
    "\n",
    "#classify the raster\n",
    "raster_pred = clf.predict(raster_df)\n",
    "#reshape from array to raster\n",
    "#take shape from original raster\n",
    "shape_out = (arr.shape[1], arr.shape[2])\n",
    "print(shape_out)\n",
    "#show shape from original raster: 2-dimensional (correct? multidimensional?)\n",
    "shape_out\n",
    "\n",
    "#final calssified raster is the classified raster but reshaped in the shape as the original --> multidimensional\n",
    "raster_out = raster_pred.reshape(shape_out)\n",
    "print(raster_out.shape)\n",
    "\n",
    "### Output path\n",
    "output = path + 'RF_Sep_Classification.tif'\n",
    "output\n",
    "#define output data type (same as original)\n",
    "meta[\"dtype\"] = 'float32'\n",
    "meta[\"count\"] = 1\n",
    "\n",
    "#test if it worked\n",
    "meta\n",
    "with rasterio.open(output, 'w', **meta) as dst:\n",
    "    dst.write(raster_out, 1)\n",
    "    \n",
    "raster_out"
   ]
  },
  {
   "cell_type": "code",
   "execution_count": 199,
   "id": "6af2d444",
   "metadata": {},
   "outputs": [
    {
     "name": "stdout",
     "output_type": "stream",
     "text": [
      "(1485, 1164)\n",
      "(1485, 1164)\n"
     ]
    },
    {
     "data": {
      "text/plain": [
       "array([[2, 3, 3, ..., 3, 3, 3],\n",
       "       [2, 3, 3, ..., 3, 3, 3],\n",
       "       [2, 3, 3, ..., 3, 3, 3],\n",
       "       ...,\n",
       "       [1, 1, 1, ..., 7, 7, 7],\n",
       "       [1, 1, 1, ..., 7, 7, 7],\n",
       "       [1, 1, 1, ..., 7, 7, 7]], dtype=int64)"
      ]
     },
     "execution_count": 199,
     "metadata": {},
     "output_type": "execute_result"
    }
   ],
   "source": [
    "### April scene\n",
    "\n",
    "with rasterio.open(path+'Subset_S2_20210419_resampled.tif') as s2: \n",
    "    meta = s2.meta\n",
    "    arr = s2.read()\n",
    "\n",
    "keys = ['B2', 'B3', 'B4', 'B8', 'B11', 'B12']\n",
    "arrays_flat = [arr[i, :, :].flatten() for i in range(arr.shape[0])]\n",
    "raster_df = pd.DataFrame({\n",
    "    \"B2\" : arrays_flat[0],\n",
    "    \"B3\" : arrays_flat[1],\n",
    "    \"B4\" : arrays_flat[2],\n",
    "    \"B8\" : arrays_flat[3],\n",
    "    \"B11\" : arrays_flat[4],\n",
    "    \"B12\" : arrays_flat[5]})\n",
    "cols_raster_df = raster_df.columns\n",
    "\n",
    "#show length of raster data frame to check number\n",
    "len(raster_df.columns)\n",
    "\n",
    "#show if it worked and all the column-names are correct and in the correct order in the raster data frame\n",
    "raster_df\n",
    "raster_df.columns\n",
    "\n",
    "#classify the raster\n",
    "raster_pred = clf.predict(raster_df)\n",
    "#reshape from array to raster\n",
    "#take shape from original raster\n",
    "shape_out = (arr.shape[1], arr.shape[2])\n",
    "print(shape_out)\n",
    "#show shape from original raster: 2-dimensional (correct? multidimensional?)\n",
    "shape_out\n",
    "\n",
    "#final calssified raster is the classified raster but reshaped in the shape as the original --> multidimensional\n",
    "raster_out = raster_pred.reshape(shape_out)\n",
    "print(raster_out.shape)\n",
    "\n",
    "### Output path\n",
    "output = path + 'RF_April_Classification.tif'\n",
    "output\n",
    "#define output data type (same as original)\n",
    "meta[\"dtype\"] = 'float32'\n",
    "meta[\"count\"] = 1\n",
    "\n",
    "#test if it worked\n",
    "meta\n",
    "with rasterio.open(output, 'w', **meta) as dst:\n",
    "    dst.write(raster_out, 1)\n",
    "    \n",
    "raster_out"
   ]
  },
  {
   "cell_type": "code",
   "execution_count": 201,
   "id": "b1b3eb6c",
   "metadata": {},
   "outputs": [
    {
     "name": "stdout",
     "output_type": "stream",
     "text": [
      "(1091, 960)\n",
      "(1091, 960)\n"
     ]
    },
    {
     "data": {
      "text/plain": [
       "array([[2, 2, 2, ..., 5, 5, 5],\n",
       "       [2, 2, 2, ..., 5, 5, 5],\n",
       "       [2, 2, 2, ..., 5, 5, 5],\n",
       "       ...,\n",
       "       [2, 2, 2, ..., 3, 3, 3],\n",
       "       [2, 2, 2, ..., 3, 3, 3],\n",
       "       [2, 2, 2, ..., 7, 7, 7]], dtype=int64)"
      ]
     },
     "execution_count": 201,
     "metadata": {},
     "output_type": "execute_result"
    }
   ],
   "source": [
    "### May\n",
    "\n",
    "with rasterio.open(path+'/subsets/Subset_S2A_20210509_resampled.tif') as s2: \n",
    "    meta = s2.meta\n",
    "    arr = s2.read()\n",
    "\n",
    "keys = ['B2', 'B3', 'B4', 'B8', 'B11', 'B12']\n",
    "arrays_flat = [arr[i, :, :].flatten() for i in range(arr.shape[0])]\n",
    "raster_df = pd.DataFrame({\n",
    "    \"B2\" : arrays_flat[0],\n",
    "    \"B3\" : arrays_flat[1],\n",
    "    \"B4\" : arrays_flat[2],\n",
    "    \"B8\" : arrays_flat[3],\n",
    "    \"B11\" : arrays_flat[4],\n",
    "    \"B12\" : arrays_flat[5]})\n",
    "cols_raster_df = raster_df.columns\n",
    "\n",
    "#show length of raster data frame to check number\n",
    "len(raster_df.columns)\n",
    "\n",
    "#show if it worked and all the column-names are correct and in the correct order in the raster data frame\n",
    "raster_df\n",
    "raster_df.columns\n",
    "\n",
    "#classify the raster\n",
    "raster_pred = clf.predict(raster_df)\n",
    "#reshape from array to raster\n",
    "#take shape from original raster\n",
    "shape_out = (arr.shape[1], arr.shape[2])\n",
    "print(shape_out)\n",
    "#show shape from original raster: 2-dimensional (correct? multidimensional?)\n",
    "shape_out\n",
    "\n",
    "#final calssified raster is the classified raster but reshaped in the shape as the original --> multidimensional\n",
    "raster_out = raster_pred.reshape(shape_out)\n",
    "print(raster_out.shape)\n",
    "\n",
    "### Output path\n",
    "output = path + 'RF_May_Classification.tif'\n",
    "output\n",
    "#define output data type (same as original)\n",
    "meta[\"dtype\"] = 'float32'\n",
    "meta[\"count\"] = 1\n",
    "\n",
    "#test if it worked\n",
    "meta\n",
    "with rasterio.open(output, 'w', **meta) as dst:\n",
    "    dst.write(raster_out, 1)\n",
    "    \n",
    "raster_out"
   ]
  },
  {
   "cell_type": "code",
   "execution_count": 202,
   "id": "c644035e",
   "metadata": {},
   "outputs": [
    {
     "name": "stdout",
     "output_type": "stream",
     "text": [
      "(1091, 960)\n",
      "(1091, 960)\n"
     ]
    },
    {
     "data": {
      "text/plain": [
       "array([[2, 2, 2, ..., 5, 5, 5],\n",
       "       [2, 2, 2, ..., 5, 5, 5],\n",
       "       [2, 2, 2, ..., 5, 5, 5],\n",
       "       ...,\n",
       "       [2, 2, 2, ..., 3, 3, 3],\n",
       "       [1, 2, 2, ..., 3, 3, 3],\n",
       "       [1, 2, 2, ..., 3, 3, 3]], dtype=int64)"
      ]
     },
     "execution_count": 202,
     "metadata": {},
     "output_type": "execute_result"
    }
   ],
   "source": [
    "### October\n",
    "\n",
    "with rasterio.open(path+'/subsets/Subset_S2B_20211024_resampled.tif') as s2: \n",
    "    meta = s2.meta\n",
    "    arr = s2.read()\n",
    "\n",
    "keys = ['B2', 'B3', 'B4', 'B8', 'B11', 'B12']\n",
    "arrays_flat = [arr[i, :, :].flatten() for i in range(arr.shape[0])]\n",
    "raster_df = pd.DataFrame({\n",
    "    \"B2\" : arrays_flat[0],\n",
    "    \"B3\" : arrays_flat[1],\n",
    "    \"B4\" : arrays_flat[2],\n",
    "    \"B8\" : arrays_flat[3],\n",
    "    \"B11\" : arrays_flat[4],\n",
    "    \"B12\" : arrays_flat[5]})\n",
    "cols_raster_df = raster_df.columns\n",
    "\n",
    "#show length of raster data frame to check number\n",
    "len(raster_df.columns)\n",
    "\n",
    "#show if it worked and all the column-names are correct and in the correct order in the raster data frame\n",
    "raster_df\n",
    "raster_df.columns\n",
    "\n",
    "#classify the raster\n",
    "raster_pred = clf.predict(raster_df)\n",
    "#reshape from array to raster\n",
    "#take shape from original raster\n",
    "shape_out = (arr.shape[1], arr.shape[2])\n",
    "print(shape_out)\n",
    "#show shape from original raster: 2-dimensional (correct? multidimensional?)\n",
    "shape_out\n",
    "\n",
    "#final calssified raster is the classified raster but reshaped in the shape as the original --> multidimensional\n",
    "raster_out = raster_pred.reshape(shape_out)\n",
    "print(raster_out.shape)\n",
    "\n",
    "### Output path\n",
    "output = path + 'RF_Oct_Classification.tif'\n",
    "output\n",
    "#define output data type (same as original)\n",
    "meta[\"dtype\"] = 'float32'\n",
    "meta[\"count\"] = 1\n",
    "\n",
    "#test if it worked\n",
    "meta\n",
    "with rasterio.open(output, 'w', **meta) as dst:\n",
    "    dst.write(raster_out, 1)\n",
    "    \n",
    "raster_out"
   ]
  }
 ],
 "metadata": {
  "kernelspec": {
   "display_name": "Python 3",
   "language": "python",
   "name": "python3"
  },
  "language_info": {
   "codemirror_mode": {
    "name": "ipython",
    "version": 3
   },
   "file_extension": ".py",
   "mimetype": "text/x-python",
   "name": "python",
   "nbconvert_exporter": "python",
   "pygments_lexer": "ipython3",
   "version": "3.7.12"
  }
 },
 "nbformat": 4,
 "nbformat_minor": 5
}
