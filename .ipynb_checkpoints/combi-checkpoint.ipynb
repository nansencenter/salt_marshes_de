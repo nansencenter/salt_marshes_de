{
 "cells": [
  {
   "cell_type": "code",
   "execution_count": 49,
   "id": "1cf4daec-8a33-49a5-8be5-fa4410c3f381",
   "metadata": {},
   "outputs": [],
   "source": [
    "from osgeo import gdal\n",
    "import fiona\n",
    "import numpy as np\n",
    "import pandas as pd\n",
    "import geopandas as gpd\n",
    "\n",
    "import rasterio as rio\n",
    "#rom rasterstats import zonal_stats\n",
    "\n",
    "from nansat import Nansat\n",
    "from nansat import *\n",
    "\n",
    "from s1denoise import Sentinel1Image\n",
    "from s1denoise import *\n",
    "\n",
    "import matplotlib.pyplot as plt\n",
    "%matplotlib inline\n",
    "\n",
    "import scipy\n",
    "import joblib\n",
    "from sklearn.ensemble import RandomForestClassifier\n",
    "from sklearn.model_selection import train_test_split, cross_val_score\n",
    "from sklearn.metrics import confusion_matrix, ConfusionMatrixDisplay, accuracy_score\n",
    "from sklearn.metrics import precision_score, recall_score, f1_score\n",
    "from sklearn.decomposition import PCA\n",
    "from sklearn.datasets import make_classification\n",
    "from sklearn.linear_model import LogisticRegression\n",
    "from sklearn.pipeline import make_pipeline\n",
    "from sklearn.preprocessing import StandardScaler\n",
    "from sklearn.preprocessing import MinMaxScaler\n",
    "from sklearn import preprocessing\n",
    "\n",
    "import matplotlib as mpl"
   ]
  },
  {
   "cell_type": "code",
   "execution_count": 13,
   "id": "4e0a99f9-a91f-4625-9374-c89cee40ca02",
   "metadata": {},
   "outputs": [
    {
     "name": "stderr",
     "output_type": "stream",
     "text": [
      "12:17:45|40|nansat|_get_dataset_metadata|GDAL could not open /container_dir1/subsets/S1B_IW_GRDH_1SDV_20210716T054037_20210716T054102_027815_0351B0_E546.zip, trying to read with Nansat mappers...\n"
     ]
    }
   ],
   "source": [
    "s1_path = '/container_dir1/subsets/S1B_IW_GRDH_1SDV_20210716T054037_20210716T054102_027815_0351B0_E546.zip'\n",
    "s1 = Nansat(s1_path)\n",
    "\n",
    "s2_path = '/container_dir1/subsets/Subset_S2_20210716_resampled.tif'\n",
    "src_awei = '/container_dir1/subsets/AWEI_S2B_MSIL2A_20210716.tif'\n",
    "src_ndwi = '/container_dir1/subsets/NDWI_S2B_MSIL2A_20210716.tif'\n",
    "src_vis = '/container_dir1/subsets/VIs_Subset_S2B_MSIL2A_20210716.tif'"
   ]
  },
  {
   "cell_type": "code",
   "execution_count": 14,
   "id": "932a7b1b-4429-431a-afa6-eebafcf9e157",
   "metadata": {},
   "outputs": [],
   "source": [
    "ndwi = Nansat(src_ndwi)\n",
    "awei = Nansat(src_awei)\n",
    "raw_bands_s2 = Nansat(s2_path)\n",
    "vis = Nansat(src_vis)"
   ]
  },
  {
   "cell_type": "code",
   "execution_count": 15,
   "id": "04c3ba53-4b17-4a2f-bdcd-b258b8dbb74a",
   "metadata": {},
   "outputs": [],
   "source": [
    "#Reproject the S1 data to S2\n",
    "n = gdal.Open(s2_path)\n",
    "d = Domain(ds=n)\n",
    "s1.reproject(d)"
   ]
  },
  {
   "cell_type": "code",
   "execution_count": 16,
   "id": "b0a8467c-2b31-4253-90bd-f6c680bbdfd7",
   "metadata": {},
   "outputs": [],
   "source": [
    "# Stack as multi-dimensional np array\n",
    "all_bands = [raw_bands_s2[band_n] for band_n in raw_bands_s2.bands().keys()]\n",
    "all_bands.append(ndwi[1])\n",
    "all_bands.append(awei[1])\n",
    "for band_n in vis.bands().keys():\n",
    "    all_bands.append(vis[band_n])\n",
    "lon_grd, lat_grd = ndwi.get_geolocation_grids()"
   ]
  },
  {
   "cell_type": "code",
   "execution_count": 18,
   "id": "77ca7f01-ada7-4e63-b1c9-8d277eb140ba",
   "metadata": {},
   "outputs": [],
   "source": [
    "all_bands.append(s1[8])\n",
    "all_bands.append(s1[10])"
   ]
  },
  {
   "cell_type": "code",
   "execution_count": 21,
   "id": "f8a124c7-2a1a-487f-a65f-3737920d004e",
   "metadata": {},
   "outputs": [
    {
     "data": {
      "text/plain": [
       "(15, 1091, 960)"
      ]
     },
     "execution_count": 21,
     "metadata": {},
     "output_type": "execute_result"
    }
   ],
   "source": [
    "bands_stack = np.array(all_bands)\n",
    "bands_stack.shape"
   ]
  },
  {
   "cell_type": "code",
   "execution_count": null,
   "id": "e900208d-72cd-46e1-a549-280450f30a4e",
   "metadata": {},
   "outputs": [],
   "source": [
    "# Bloody export this raster stack\n"
   ]
  },
  {
   "cell_type": "code",
   "execution_count": 55,
   "id": "f9e849a0-0054-4309-8d01-ce3512dd8130",
   "metadata": {},
   "outputs": [],
   "source": [
    "# Mask the array/ rasterbandstack\n",
    "aoi_path = '/container_dir1/subsets/aoi.shp'\n",
    "mask = gpd.read_file(aoi_path)"
   ]
  },
  {
   "cell_type": "code",
   "execution_count": 56,
   "id": "62c977ef-7082-42aa-a808-02f0dc6d743f",
   "metadata": {},
   "outputs": [],
   "source": [
    "mask_arr = np.array(mask)"
   ]
  },
  {
   "cell_type": "code",
   "execution_count": 57,
   "id": "aeb7579f-85e9-46a8-b757-ef9b0f3135b9",
   "metadata": {},
   "outputs": [
    {
     "ename": "MaskError",
     "evalue": "Mask and data not compatible: data size is 15710400, mask size is 2.",
     "output_type": "error",
     "traceback": [
      "\u001b[0;31m---------------------------------------------------------------------------\u001b[0m",
      "\u001b[0;31mMaskError\u001b[0m                                 Traceback (most recent call last)",
      "\u001b[0;32m<ipython-input-57-0b33f36008af>\u001b[0m in \u001b[0;36m<module>\u001b[0;34m\u001b[0m\n\u001b[0;32m----> 1\u001b[0;31m \u001b[0mlandmask\u001b[0m \u001b[0;34m=\u001b[0m \u001b[0mnp\u001b[0m\u001b[0;34m.\u001b[0m\u001b[0mma\u001b[0m\u001b[0;34m.\u001b[0m\u001b[0mmasked_array\u001b[0m\u001b[0;34m(\u001b[0m\u001b[0mbands_stack\u001b[0m\u001b[0;34m,\u001b[0m \u001b[0mmask_arr\u001b[0m\u001b[0;34m)\u001b[0m\u001b[0;34m\u001b[0m\u001b[0;34m\u001b[0m\u001b[0m\n\u001b[0m",
      "\u001b[0;32m/opt/conda/lib/python3.7/site-packages/numpy/ma/core.py\u001b[0m in \u001b[0;36m__new__\u001b[0;34m(cls, data, mask, dtype, copy, subok, ndmin, fill_value, keep_mask, hard_mask, shrink, order)\u001b[0m\n\u001b[1;32m   2906\u001b[0m                     \u001b[0mmsg\u001b[0m \u001b[0;34m=\u001b[0m \u001b[0;34m\"Mask and data not compatible: data size is %i, \"\u001b[0m \u001b[0;34m+\u001b[0m\u001b[0;31m \u001b[0m\u001b[0;31m\\\u001b[0m\u001b[0;34m\u001b[0m\u001b[0;34m\u001b[0m\u001b[0m\n\u001b[1;32m   2907\u001b[0m                           \u001b[0;34m\"mask size is %i.\"\u001b[0m\u001b[0;34m\u001b[0m\u001b[0;34m\u001b[0m\u001b[0m\n\u001b[0;32m-> 2908\u001b[0;31m                     \u001b[0;32mraise\u001b[0m \u001b[0mMaskError\u001b[0m\u001b[0;34m(\u001b[0m\u001b[0mmsg\u001b[0m \u001b[0;34m%\u001b[0m \u001b[0;34m(\u001b[0m\u001b[0mnd\u001b[0m\u001b[0;34m,\u001b[0m \u001b[0mnm\u001b[0m\u001b[0;34m)\u001b[0m\u001b[0;34m)\u001b[0m\u001b[0;34m\u001b[0m\u001b[0;34m\u001b[0m\u001b[0m\n\u001b[0m\u001b[1;32m   2909\u001b[0m                 \u001b[0mcopy\u001b[0m \u001b[0;34m=\u001b[0m \u001b[0;32mTrue\u001b[0m\u001b[0;34m\u001b[0m\u001b[0;34m\u001b[0m\u001b[0m\n\u001b[1;32m   2910\u001b[0m             \u001b[0;31m# Set the mask to the new value\u001b[0m\u001b[0;34m\u001b[0m\u001b[0;34m\u001b[0m\u001b[0;34m\u001b[0m\u001b[0m\n",
      "\u001b[0;31mMaskError\u001b[0m: Mask and data not compatible: data size is 15710400, mask size is 2."
     ]
    }
   ],
   "source": [
    "landmask = np.ma.masked_array(bands_stack, mask_arr)"
   ]
  },
  {
   "cell_type": "code",
   "execution_count": 47,
   "id": "030fd3c8-28b7-426d-be11-327dcb84e48a",
   "metadata": {},
   "outputs": [
    {
     "name": "stdout",
     "output_type": "stream",
     "text": [
      "['water' 'structures' 'seabed' 'lsm' 'pioneer' 'usm']\n"
     ]
    },
    {
     "data": {
      "text/html": [
       "<div>\n",
       "<style scoped>\n",
       "    .dataframe tbody tr th:only-of-type {\n",
       "        vertical-align: middle;\n",
       "    }\n",
       "\n",
       "    .dataframe tbody tr th {\n",
       "        vertical-align: top;\n",
       "    }\n",
       "\n",
       "    .dataframe thead th {\n",
       "        text-align: right;\n",
       "    }\n",
       "</style>\n",
       "<table border=\"1\" class=\"dataframe\">\n",
       "  <thead>\n",
       "    <tr style=\"text-align: right;\">\n",
       "      <th></th>\n",
       "      <th>classid</th>\n",
       "      <th>classtxt</th>\n",
       "      <th>geometry</th>\n",
       "    </tr>\n",
       "  </thead>\n",
       "  <tbody>\n",
       "    <tr>\n",
       "      <th>0</th>\n",
       "      <td>1</td>\n",
       "      <td>water</td>\n",
       "      <td>POINT (486073.904 6046397.927)</td>\n",
       "    </tr>\n",
       "    <tr>\n",
       "      <th>1</th>\n",
       "      <td>1</td>\n",
       "      <td>water</td>\n",
       "      <td>POINT (486080.623 6046405.312)</td>\n",
       "    </tr>\n",
       "    <tr>\n",
       "      <th>2</th>\n",
       "      <td>1</td>\n",
       "      <td>water</td>\n",
       "      <td>POINT (486087.343 6046412.697)</td>\n",
       "    </tr>\n",
       "    <tr>\n",
       "      <th>3</th>\n",
       "      <td>1</td>\n",
       "      <td>water</td>\n",
       "      <td>POINT (486094.062 6046420.083)</td>\n",
       "    </tr>\n",
       "    <tr>\n",
       "      <th>4</th>\n",
       "      <td>1</td>\n",
       "      <td>water</td>\n",
       "      <td>POINT (486100.782 6046427.468)</td>\n",
       "    </tr>\n",
       "    <tr>\n",
       "      <th>...</th>\n",
       "      <td>...</td>\n",
       "      <td>...</td>\n",
       "      <td>...</td>\n",
       "    </tr>\n",
       "    <tr>\n",
       "      <th>14140</th>\n",
       "      <td>5</td>\n",
       "      <td>lsm</td>\n",
       "      <td>POINT (489238.936 6051398.693)</td>\n",
       "    </tr>\n",
       "    <tr>\n",
       "      <th>14141</th>\n",
       "      <td>5</td>\n",
       "      <td>lsm</td>\n",
       "      <td>POINT (489231.804 6051405.338)</td>\n",
       "    </tr>\n",
       "    <tr>\n",
       "      <th>14142</th>\n",
       "      <td>5</td>\n",
       "      <td>lsm</td>\n",
       "      <td>POINT (489224.672 6051411.984)</td>\n",
       "    </tr>\n",
       "    <tr>\n",
       "      <th>14143</th>\n",
       "      <td>5</td>\n",
       "      <td>lsm</td>\n",
       "      <td>POINT (489217.540 6051418.630)</td>\n",
       "    </tr>\n",
       "    <tr>\n",
       "      <th>14144</th>\n",
       "      <td>5</td>\n",
       "      <td>lsm</td>\n",
       "      <td>POINT (489210.408 6051425.276)</td>\n",
       "    </tr>\n",
       "  </tbody>\n",
       "</table>\n",
       "<p>14145 rows × 3 columns</p>\n",
       "</div>"
      ],
      "text/plain": [
       "       classid classtxt                        geometry\n",
       "0            1    water  POINT (486073.904 6046397.927)\n",
       "1            1    water  POINT (486080.623 6046405.312)\n",
       "2            1    water  POINT (486087.343 6046412.697)\n",
       "3            1    water  POINT (486094.062 6046420.083)\n",
       "4            1    water  POINT (486100.782 6046427.468)\n",
       "...        ...      ...                             ...\n",
       "14140        5      lsm  POINT (489238.936 6051398.693)\n",
       "14141        5      lsm  POINT (489231.804 6051405.338)\n",
       "14142        5      lsm  POINT (489224.672 6051411.984)\n",
       "14143        5      lsm  POINT (489217.540 6051418.630)\n",
       "14144        5      lsm  POINT (489210.408 6051425.276)\n",
       "\n",
       "[14145 rows x 3 columns]"
      ]
     },
     "execution_count": 47,
     "metadata": {},
     "output_type": "execute_result"
    }
   ],
   "source": [
    "#Extract the pixel values of VIs & Bands at training points\n",
    "src_t_points = '/container_dir1/subsets/t_points_new2.shp'\n",
    "points = gpd.read_file(src_t_points)\n",
    "class_names = points['classtxt'].unique()\n",
    "print(class_names)\n",
    "# create new working gdf with only the interesting columns and without the qgis stuff in original table\n",
    "# points2 = points[['classid', 'classtxt', 'geometry', 'x', 'y']].copy()\n",
    "points2 = points[['classid', 'classtxt', 'geometry']].copy()\n",
    "# Rename x and y to lon and lat\n",
    "# points2.rename(columns={'x':'lon', 'y':'lat'}, inplace=True)\n",
    "points2"
   ]
  },
  {
   "cell_type": "code",
   "execution_count": 61,
   "id": "d30d6416-1195-4d6e-ba5a-730119a64e5c",
   "metadata": {},
   "outputs": [
    {
     "data": {
      "text/html": [
       "<div>\n",
       "<style scoped>\n",
       "    .dataframe tbody tr th:only-of-type {\n",
       "        vertical-align: middle;\n",
       "    }\n",
       "\n",
       "    .dataframe tbody tr th {\n",
       "        vertical-align: top;\n",
       "    }\n",
       "\n",
       "    .dataframe thead th {\n",
       "        text-align: right;\n",
       "    }\n",
       "</style>\n",
       "<table border=\"1\" class=\"dataframe\">\n",
       "  <thead>\n",
       "    <tr style=\"text-align: right;\">\n",
       "      <th></th>\n",
       "      <th>classid</th>\n",
       "      <th>classtxt</th>\n",
       "      <th>geometry</th>\n",
       "      <th>ndwi</th>\n",
       "      <th>awei</th>\n",
       "      <th>band values</th>\n",
       "      <th>vis</th>\n",
       "    </tr>\n",
       "  </thead>\n",
       "  <tbody>\n",
       "    <tr>\n",
       "      <th>0</th>\n",
       "      <td>1</td>\n",
       "      <td>water</td>\n",
       "      <td>POINT (486073.904 6046397.927)</td>\n",
       "      <td>[0.44288576]</td>\n",
       "      <td>[0.035224993]</td>\n",
       "      <td>[248, 360, 200, 139, 167, 140]</td>\n",
       "      <td>[-0.179941, 2.7980895, 0.022683946, -0.0915032...</td>\n",
       "    </tr>\n",
       "    <tr>\n",
       "      <th>1</th>\n",
       "      <td>1</td>\n",
       "      <td>water</td>\n",
       "      <td>POINT (486080.623 6046405.312)</td>\n",
       "      <td>[0.44268772]</td>\n",
       "      <td>[0.0382]</td>\n",
       "      <td>[255, 365, 225, 141, 161, 145]</td>\n",
       "      <td>[-0.2295082, 2.7797241, 0.022445843, -0.066225...</td>\n",
       "    </tr>\n",
       "    <tr>\n",
       "      <th>2</th>\n",
       "      <td>1</td>\n",
       "      <td>water</td>\n",
       "      <td>POINT (486087.343 6046412.697)</td>\n",
       "      <td>[0.3942857]</td>\n",
       "      <td>[0.038150005]</td>\n",
       "      <td>[236, 366, 248, 159, 161, 145]</td>\n",
       "      <td>[-0.2186732, 2.7577214, 0.025438169, -0.006249...</td>\n",
       "    </tr>\n",
       "    <tr>\n",
       "      <th>3</th>\n",
       "      <td>1</td>\n",
       "      <td>water</td>\n",
       "      <td>POINT (486094.062 6046420.083)</td>\n",
       "      <td>[0.48669198]</td>\n",
       "      <td>[0.046324994]</td>\n",
       "      <td>[203, 391, 240, 135, 165, 148]</td>\n",
       "      <td>[-0.28, 2.7711627, 0.0208721, -0.09999999, -0....</td>\n",
       "    </tr>\n",
       "    <tr>\n",
       "      <th>4</th>\n",
       "      <td>1</td>\n",
       "      <td>water</td>\n",
       "      <td>POINT (486100.782 6046427.468)</td>\n",
       "      <td>[0.4201835]</td>\n",
       "      <td>[0.04925]</td>\n",
       "      <td>[257, 387, 238, 158, 155, 144]</td>\n",
       "      <td>[-0.20202024, 2.765011, 0.025494339, 0.0095846...</td>\n",
       "    </tr>\n",
       "  </tbody>\n",
       "</table>\n",
       "</div>"
      ],
      "text/plain": [
       "   classid classtxt                        geometry          ndwi  \\\n",
       "0        1    water  POINT (486073.904 6046397.927)  [0.44288576]   \n",
       "1        1    water  POINT (486080.623 6046405.312)  [0.44268772]   \n",
       "2        1    water  POINT (486087.343 6046412.697)   [0.3942857]   \n",
       "3        1    water  POINT (486094.062 6046420.083)  [0.48669198]   \n",
       "4        1    water  POINT (486100.782 6046427.468)   [0.4201835]   \n",
       "\n",
       "            awei                     band values  \\\n",
       "0  [0.035224993]  [248, 360, 200, 139, 167, 140]   \n",
       "1       [0.0382]  [255, 365, 225, 141, 161, 145]   \n",
       "2  [0.038150005]  [236, 366, 248, 159, 161, 145]   \n",
       "3  [0.046324994]  [203, 391, 240, 135, 165, 148]   \n",
       "4      [0.04925]  [257, 387, 238, 158, 155, 144]   \n",
       "\n",
       "                                                 vis  \n",
       "0  [-0.179941, 2.7980895, 0.022683946, -0.0915032...  \n",
       "1  [-0.2295082, 2.7797241, 0.022445843, -0.066225...  \n",
       "2  [-0.2186732, 2.7577214, 0.025438169, -0.006249...  \n",
       "3  [-0.28, 2.7711627, 0.0208721, -0.09999999, -0....  \n",
       "4  [-0.20202024, 2.765011, 0.025494339, 0.0095846...  "
      ]
     },
     "execution_count": 61,
     "metadata": {},
     "output_type": "execute_result"
    }
   ],
   "source": [
    "### Pixel values with geopandas\n",
    "coord_list = [(x,y) for x,y in zip(points2['geometry'].x , points2['geometry'].y)]\n",
    "\n",
    "#list_tifs =  [src_ndwi, src_awei, src_bands, src_vis]\n",
    "# names = [rio_ndwi, rio_awei, rio_bands, rio_vis]\n",
    "#for i in len(list_tifs):\n",
    "#    with rio.open(list_tifs[i]) as names(i)\n",
    "\n",
    "## when opening stacked tif:\n",
    "#open raster, call sample values\n",
    "#with rasterio.open(fp_raster,'r') as src: \n",
    "#    samplevalues = [x for x in src.sample(coord_list)]\n",
    "#bands = ['B2', 'B3', 'B4', 'B8', 'B11', 'B12']\n",
    "\n",
    "rio_ndwi = rio.open(src_ndwi)\n",
    "rio_awei = rio.open(src_awei)\n",
    "rio_bands = rio.open(s2_path)\n",
    "rio_vis = rio.open(src_vis)\n",
    "\n",
    "points2['ndwi'] = [x for x in rio_ndwi.sample(coord_list)]\n",
    "points2['awei'] = [x for x in rio_awei.sample(coord_list)]\n",
    "points2['band values'] = [x for x in rio_bands.sample(coord_list)]\n",
    "points2['vis'] = [x for x in rio_vis.sample(coord_list)]\n",
    "#gdf['B4'] = [x for x in rio_bands[3].sample(coord_list)]\n",
    "#gdf['B8'] = [x for x in rio_bands[4].sample(coord_list)]\n",
    "#gdf['B11'] = [x for x in rio_bands[5].sample(coord_list)]\n",
    "#gdf['B12'] = [x for x in rio_bands[6].sample(coord_list)]\n",
    "#gdf['NDVI'] = [x for x in rio_vis[1].sample(coord_list)]\n",
    "#gdf['SAVI'] = [x for x in rio_vis[2].sample(coord_list)]\n",
    "#gdf['MSAVI'] = [x for x in rio_vis[3].sample(coord_list)]\n",
    "#gdf['NDMI'] = [x for x in rio_vis[4].sample(coord_list)]\n",
    "#gdf['EVI'] = [x for x in rio_vis[5].sample(coord_list)]\n",
    "\n",
    "#points2.drop(columns=['lon','lat_x','lat_y'])\n",
    "points2.head()"
   ]
  },
  {
   "cell_type": "code",
   "execution_count": 65,
   "id": "02c78f43-8a92-40b1-be5c-c5b092c53f8d",
   "metadata": {},
   "outputs": [
    {
     "ename": "ValueError",
     "evalue": "Invalid field type <class 'numpy.ndarray'>",
     "output_type": "error",
     "traceback": [
      "\u001b[0;31m---------------------------------------------------------------------------\u001b[0m",
      "\u001b[0;31mValueError\u001b[0m                                Traceback (most recent call last)",
      "\u001b[0;32m<ipython-input-65-57d418857e8e>\u001b[0m in \u001b[0;36m<module>\u001b[0;34m\u001b[0m\n\u001b[1;32m      1\u001b[0m \u001b[0;31m### Export geodataframe as trainingpoints for classification\u001b[0m\u001b[0;34m\u001b[0m\u001b[0;34m\u001b[0m\u001b[0;34m\u001b[0m\u001b[0m\n\u001b[0;32m----> 2\u001b[0;31m \u001b[0mpoints2\u001b[0m\u001b[0;34m.\u001b[0m\u001b[0mto_file\u001b[0m\u001b[0;34m(\u001b[0m\u001b[0;34m'/container_dir1/results/gdf_train_pixelvalues.shp'\u001b[0m\u001b[0;34m,\u001b[0m \u001b[0mdriver\u001b[0m\u001b[0;34m=\u001b[0m\u001b[0;34m'CSV'\u001b[0m\u001b[0;34m)\u001b[0m\u001b[0;34m\u001b[0m\u001b[0;34m\u001b[0m\u001b[0m\n\u001b[0m\u001b[1;32m      3\u001b[0m \u001b[0;31m# doesn´t work because something is a np array?\u001b[0m\u001b[0;34m\u001b[0m\u001b[0;34m\u001b[0m\u001b[0;34m\u001b[0m\u001b[0m\n",
      "\u001b[0;32m/opt/conda/lib/python3.7/site-packages/geopandas/geodataframe.py\u001b[0m in \u001b[0;36mto_file\u001b[0;34m(self, filename, driver, schema, index, **kwargs)\u001b[0m\n\u001b[1;32m   1112\u001b[0m         \u001b[0;32mfrom\u001b[0m \u001b[0mgeopandas\u001b[0m\u001b[0;34m.\u001b[0m\u001b[0mio\u001b[0m\u001b[0;34m.\u001b[0m\u001b[0mfile\u001b[0m \u001b[0;32mimport\u001b[0m \u001b[0m_to_file\u001b[0m\u001b[0;34m\u001b[0m\u001b[0;34m\u001b[0m\u001b[0m\n\u001b[1;32m   1113\u001b[0m \u001b[0;34m\u001b[0m\u001b[0m\n\u001b[0;32m-> 1114\u001b[0;31m         \u001b[0m_to_file\u001b[0m\u001b[0;34m(\u001b[0m\u001b[0mself\u001b[0m\u001b[0;34m,\u001b[0m \u001b[0mfilename\u001b[0m\u001b[0;34m,\u001b[0m \u001b[0mdriver\u001b[0m\u001b[0;34m,\u001b[0m \u001b[0mschema\u001b[0m\u001b[0;34m,\u001b[0m \u001b[0mindex\u001b[0m\u001b[0;34m,\u001b[0m \u001b[0;34m**\u001b[0m\u001b[0mkwargs\u001b[0m\u001b[0;34m)\u001b[0m\u001b[0;34m\u001b[0m\u001b[0;34m\u001b[0m\u001b[0m\n\u001b[0m\u001b[1;32m   1115\u001b[0m \u001b[0;34m\u001b[0m\u001b[0m\n\u001b[1;32m   1116\u001b[0m     \u001b[0;32mdef\u001b[0m \u001b[0mset_crs\u001b[0m\u001b[0;34m(\u001b[0m\u001b[0mself\u001b[0m\u001b[0;34m,\u001b[0m \u001b[0mcrs\u001b[0m\u001b[0;34m=\u001b[0m\u001b[0;32mNone\u001b[0m\u001b[0;34m,\u001b[0m \u001b[0mepsg\u001b[0m\u001b[0;34m=\u001b[0m\u001b[0;32mNone\u001b[0m\u001b[0;34m,\u001b[0m \u001b[0minplace\u001b[0m\u001b[0;34m=\u001b[0m\u001b[0;32mFalse\u001b[0m\u001b[0;34m,\u001b[0m \u001b[0mallow_override\u001b[0m\u001b[0;34m=\u001b[0m\u001b[0;32mFalse\u001b[0m\u001b[0;34m)\u001b[0m\u001b[0;34m:\u001b[0m\u001b[0;34m\u001b[0m\u001b[0;34m\u001b[0m\u001b[0m\n",
      "\u001b[0;32m/opt/conda/lib/python3.7/site-packages/geopandas/io/file.py\u001b[0m in \u001b[0;36m_to_file\u001b[0;34m(df, filename, driver, schema, index, mode, crs, **kwargs)\u001b[0m\n\u001b[1;32m    394\u001b[0m             \u001b[0mfilename\u001b[0m\u001b[0;34m,\u001b[0m \u001b[0mmode\u001b[0m\u001b[0;34m=\u001b[0m\u001b[0mmode\u001b[0m\u001b[0;34m,\u001b[0m \u001b[0mdriver\u001b[0m\u001b[0;34m=\u001b[0m\u001b[0mdriver\u001b[0m\u001b[0;34m,\u001b[0m \u001b[0mcrs_wkt\u001b[0m\u001b[0;34m=\u001b[0m\u001b[0mcrs_wkt\u001b[0m\u001b[0;34m,\u001b[0m \u001b[0mschema\u001b[0m\u001b[0;34m=\u001b[0m\u001b[0mschema\u001b[0m\u001b[0;34m,\u001b[0m \u001b[0;34m**\u001b[0m\u001b[0mkwargs\u001b[0m\u001b[0;34m\u001b[0m\u001b[0;34m\u001b[0m\u001b[0m\n\u001b[1;32m    395\u001b[0m         ) as colxn:\n\u001b[0;32m--> 396\u001b[0;31m             \u001b[0mcolxn\u001b[0m\u001b[0;34m.\u001b[0m\u001b[0mwriterecords\u001b[0m\u001b[0;34m(\u001b[0m\u001b[0mdf\u001b[0m\u001b[0;34m.\u001b[0m\u001b[0miterfeatures\u001b[0m\u001b[0;34m(\u001b[0m\u001b[0;34m)\u001b[0m\u001b[0;34m)\u001b[0m\u001b[0;34m\u001b[0m\u001b[0;34m\u001b[0m\u001b[0m\n\u001b[0m\u001b[1;32m    397\u001b[0m \u001b[0;34m\u001b[0m\u001b[0m\n\u001b[1;32m    398\u001b[0m \u001b[0;34m\u001b[0m\u001b[0m\n",
      "\u001b[0;32m/opt/conda/lib/python3.7/site-packages/fiona/collection.py\u001b[0m in \u001b[0;36mwriterecords\u001b[0;34m(self, records)\u001b[0m\n\u001b[1;32m    359\u001b[0m         \u001b[0;32mif\u001b[0m \u001b[0mself\u001b[0m\u001b[0;34m.\u001b[0m\u001b[0mmode\u001b[0m \u001b[0;32mnot\u001b[0m \u001b[0;32min\u001b[0m \u001b[0;34m(\u001b[0m\u001b[0;34m'a'\u001b[0m\u001b[0;34m,\u001b[0m \u001b[0;34m'w'\u001b[0m\u001b[0;34m)\u001b[0m\u001b[0;34m:\u001b[0m\u001b[0;34m\u001b[0m\u001b[0;34m\u001b[0m\u001b[0m\n\u001b[1;32m    360\u001b[0m             \u001b[0;32mraise\u001b[0m \u001b[0mIOError\u001b[0m\u001b[0;34m(\u001b[0m\u001b[0;34m\"collection not open for writing\"\u001b[0m\u001b[0;34m)\u001b[0m\u001b[0;34m\u001b[0m\u001b[0;34m\u001b[0m\u001b[0m\n\u001b[0;32m--> 361\u001b[0;31m         \u001b[0mself\u001b[0m\u001b[0;34m.\u001b[0m\u001b[0msession\u001b[0m\u001b[0;34m.\u001b[0m\u001b[0mwriterecs\u001b[0m\u001b[0;34m(\u001b[0m\u001b[0mrecords\u001b[0m\u001b[0;34m,\u001b[0m \u001b[0mself\u001b[0m\u001b[0;34m)\u001b[0m\u001b[0;34m\u001b[0m\u001b[0;34m\u001b[0m\u001b[0m\n\u001b[0m\u001b[1;32m    362\u001b[0m         \u001b[0mself\u001b[0m\u001b[0;34m.\u001b[0m\u001b[0m_len\u001b[0m \u001b[0;34m=\u001b[0m \u001b[0mself\u001b[0m\u001b[0;34m.\u001b[0m\u001b[0msession\u001b[0m\u001b[0;34m.\u001b[0m\u001b[0mget_length\u001b[0m\u001b[0;34m(\u001b[0m\u001b[0;34m)\u001b[0m\u001b[0;34m\u001b[0m\u001b[0;34m\u001b[0m\u001b[0m\n\u001b[1;32m    363\u001b[0m         \u001b[0mself\u001b[0m\u001b[0;34m.\u001b[0m\u001b[0m_bounds\u001b[0m \u001b[0;34m=\u001b[0m \u001b[0;32mNone\u001b[0m\u001b[0;34m\u001b[0m\u001b[0;34m\u001b[0m\u001b[0m\n",
      "\u001b[0;32mfiona/ogrext.pyx\u001b[0m in \u001b[0;36mfiona.ogrext.WritingSession.writerecs\u001b[0;34m()\u001b[0m\n",
      "\u001b[0;32mfiona/ogrext.pyx\u001b[0m in \u001b[0;36mfiona.ogrext.OGRFeatureBuilder.build\u001b[0;34m()\u001b[0m\n",
      "\u001b[0;31mValueError\u001b[0m: Invalid field type <class 'numpy.ndarray'>"
     ]
    }
   ],
   "source": [
    "### Export geodataframe as trainingpoints for classification\n",
    "points2.to_file('/container_dir1/results/gdf_train_pixelvalues.shp', driver='CSV')\n",
    "# doesn´t work because something is a np array?"
   ]
  },
  {
   "cell_type": "code",
   "execution_count": 67,
   "id": "61e0ceda-6214-4274-9ed8-2144bc8246b8",
   "metadata": {},
   "outputs": [
    {
     "data": {
      "text/plain": [
       "Index(['classid', 'classtxt', 'geometry', 'ndwi', 'awei', 'band values',\n",
       "       'vis'],\n",
       "      dtype='object')"
      ]
     },
     "execution_count": 67,
     "metadata": {},
     "output_type": "execute_result"
    }
   ],
   "source": [
    "points2.columns"
   ]
  },
  {
   "cell_type": "code",
   "execution_count": 66,
   "id": "b5e6b834-22f0-4e96-a395-d3ab67d6c901",
   "metadata": {},
   "outputs": [
    {
     "name": "stdout",
     "output_type": "stream",
     "text": [
      "4053     3\n",
      "12242    3\n",
      "108      1\n",
      "6264     3\n",
      "9552     6\n",
      "        ..\n",
      "5191     3\n",
      "13418    4\n",
      "5390     3\n",
      "860      1\n",
      "7270     3\n",
      "Name: classid, Length: 9901, dtype: int64\n"
     ]
    }
   ],
   "source": [
    "# Start splitting training points into train and test data set\n",
    "tpoints_path = '/container_dir1/results/gdf_train_pixelvalues.shp'\n",
    "# tpoints = gdp.open(tpoints_path)\n",
    "cols = ['ndwi', 'awei', 'band values', 'vis'] # 'NDVI', 'SAVI', 'MSAVI', 'NDMI', 'EVI', 'AWEI', 'NDWI']\n",
    "\n",
    "### Splitting the training points into training and testing data for the RandomForest Model\n",
    "X_train, X_test, y_train, y_test=train_test_split(points2[cols], points2['classid'], train_size=0.7, random_state=42)\n",
    "X_train\n",
    "print(y_train)"
   ]
  },
  {
   "cell_type": "code",
   "execution_count": 54,
   "id": "12a3a0f6-a005-4d36-bb7c-072c321d4324",
   "metadata": {},
   "outputs": [
    {
     "name": "stdout",
     "output_type": "stream",
     "text": [
      "4053     3\n",
      "12242    3\n",
      "108      1\n",
      "6264     3\n",
      "9552     6\n",
      "        ..\n",
      "5191     3\n",
      "13418    4\n",
      "5390     3\n",
      "860      1\n",
      "7270     3\n",
      "Name: classid, Length: 9901, dtype: int64\n"
     ]
    },
    {
     "ename": "ValueError",
     "evalue": "setting an array element with a sequence.",
     "output_type": "error",
     "traceback": [
      "\u001b[0;31m---------------------------------------------------------------------------\u001b[0m",
      "\u001b[0;31mTypeError\u001b[0m                                 Traceback (most recent call last)",
      "\u001b[0;31mTypeError\u001b[0m: only size-1 arrays can be converted to Python scalars",
      "\nThe above exception was the direct cause of the following exception:\n",
      "\u001b[0;31mValueError\u001b[0m                                Traceback (most recent call last)",
      "\u001b[0;32m<ipython-input-54-dffad87931f3>\u001b[0m in \u001b[0;36m<module>\u001b[0;34m\u001b[0m\n\u001b[1;32m     13\u001b[0m \u001b[0;31m#clf.fit(X_train, y_train) # normal model fit\u001b[0m\u001b[0;34m\u001b[0m\u001b[0;34m\u001b[0m\u001b[0;34m\u001b[0m\u001b[0m\n\u001b[1;32m     14\u001b[0m \u001b[0;34m\u001b[0m\u001b[0m\n\u001b[0;32m---> 15\u001b[0;31m \u001b[0mclf\u001b[0m\u001b[0;34m.\u001b[0m\u001b[0mfit\u001b[0m\u001b[0;34m(\u001b[0m\u001b[0mX_train\u001b[0m\u001b[0;34m,\u001b[0m \u001b[0my_train\u001b[0m\u001b[0;34m)\u001b[0m \u001b[0;31m# scaled model fit\u001b[0m\u001b[0;34m\u001b[0m\u001b[0;34m\u001b[0m\u001b[0m\n\u001b[0m",
      "\u001b[0;32m/opt/conda/lib/python3.7/site-packages/sklearn/ensemble/_forest.py\u001b[0m in \u001b[0;36mfit\u001b[0;34m(self, X, y, sample_weight)\u001b[0m\n\u001b[1;32m    326\u001b[0m             \u001b[0;32mraise\u001b[0m \u001b[0mValueError\u001b[0m\u001b[0;34m(\u001b[0m\u001b[0;34m\"sparse multilabel-indicator for y is not supported.\"\u001b[0m\u001b[0;34m)\u001b[0m\u001b[0;34m\u001b[0m\u001b[0;34m\u001b[0m\u001b[0m\n\u001b[1;32m    327\u001b[0m         X, y = self._validate_data(\n\u001b[0;32m--> 328\u001b[0;31m             \u001b[0mX\u001b[0m\u001b[0;34m,\u001b[0m \u001b[0my\u001b[0m\u001b[0;34m,\u001b[0m \u001b[0mmulti_output\u001b[0m\u001b[0;34m=\u001b[0m\u001b[0;32mTrue\u001b[0m\u001b[0;34m,\u001b[0m \u001b[0maccept_sparse\u001b[0m\u001b[0;34m=\u001b[0m\u001b[0;34m\"csc\"\u001b[0m\u001b[0;34m,\u001b[0m \u001b[0mdtype\u001b[0m\u001b[0;34m=\u001b[0m\u001b[0mDTYPE\u001b[0m\u001b[0;34m\u001b[0m\u001b[0;34m\u001b[0m\u001b[0m\n\u001b[0m\u001b[1;32m    329\u001b[0m         )\n\u001b[1;32m    330\u001b[0m         \u001b[0;32mif\u001b[0m \u001b[0msample_weight\u001b[0m \u001b[0;32mis\u001b[0m \u001b[0;32mnot\u001b[0m \u001b[0;32mNone\u001b[0m\u001b[0;34m:\u001b[0m\u001b[0;34m\u001b[0m\u001b[0;34m\u001b[0m\u001b[0m\n",
      "\u001b[0;32m/opt/conda/lib/python3.7/site-packages/sklearn/base.py\u001b[0m in \u001b[0;36m_validate_data\u001b[0;34m(self, X, y, reset, validate_separately, **check_params)\u001b[0m\n\u001b[1;32m    579\u001b[0m                 \u001b[0my\u001b[0m \u001b[0;34m=\u001b[0m \u001b[0mcheck_array\u001b[0m\u001b[0;34m(\u001b[0m\u001b[0my\u001b[0m\u001b[0;34m,\u001b[0m \u001b[0;34m**\u001b[0m\u001b[0mcheck_y_params\u001b[0m\u001b[0;34m)\u001b[0m\u001b[0;34m\u001b[0m\u001b[0;34m\u001b[0m\u001b[0m\n\u001b[1;32m    580\u001b[0m             \u001b[0;32melse\u001b[0m\u001b[0;34m:\u001b[0m\u001b[0;34m\u001b[0m\u001b[0;34m\u001b[0m\u001b[0m\n\u001b[0;32m--> 581\u001b[0;31m                 \u001b[0mX\u001b[0m\u001b[0;34m,\u001b[0m \u001b[0my\u001b[0m \u001b[0;34m=\u001b[0m \u001b[0mcheck_X_y\u001b[0m\u001b[0;34m(\u001b[0m\u001b[0mX\u001b[0m\u001b[0;34m,\u001b[0m \u001b[0my\u001b[0m\u001b[0;34m,\u001b[0m \u001b[0;34m**\u001b[0m\u001b[0mcheck_params\u001b[0m\u001b[0;34m)\u001b[0m\u001b[0;34m\u001b[0m\u001b[0;34m\u001b[0m\u001b[0m\n\u001b[0m\u001b[1;32m    582\u001b[0m             \u001b[0mout\u001b[0m \u001b[0;34m=\u001b[0m \u001b[0mX\u001b[0m\u001b[0;34m,\u001b[0m \u001b[0my\u001b[0m\u001b[0;34m\u001b[0m\u001b[0;34m\u001b[0m\u001b[0m\n\u001b[1;32m    583\u001b[0m \u001b[0;34m\u001b[0m\u001b[0m\n",
      "\u001b[0;32m/opt/conda/lib/python3.7/site-packages/sklearn/utils/validation.py\u001b[0m in \u001b[0;36mcheck_X_y\u001b[0;34m(X, y, accept_sparse, accept_large_sparse, dtype, order, copy, force_all_finite, ensure_2d, allow_nd, multi_output, ensure_min_samples, ensure_min_features, y_numeric, estimator)\u001b[0m\n\u001b[1;32m    974\u001b[0m         \u001b[0mensure_min_samples\u001b[0m\u001b[0;34m=\u001b[0m\u001b[0mensure_min_samples\u001b[0m\u001b[0;34m,\u001b[0m\u001b[0;34m\u001b[0m\u001b[0;34m\u001b[0m\u001b[0m\n\u001b[1;32m    975\u001b[0m         \u001b[0mensure_min_features\u001b[0m\u001b[0;34m=\u001b[0m\u001b[0mensure_min_features\u001b[0m\u001b[0;34m,\u001b[0m\u001b[0;34m\u001b[0m\u001b[0;34m\u001b[0m\u001b[0m\n\u001b[0;32m--> 976\u001b[0;31m         \u001b[0mestimator\u001b[0m\u001b[0;34m=\u001b[0m\u001b[0mestimator\u001b[0m\u001b[0;34m,\u001b[0m\u001b[0;34m\u001b[0m\u001b[0;34m\u001b[0m\u001b[0m\n\u001b[0m\u001b[1;32m    977\u001b[0m     )\n\u001b[1;32m    978\u001b[0m \u001b[0;34m\u001b[0m\u001b[0m\n",
      "\u001b[0;32m/opt/conda/lib/python3.7/site-packages/sklearn/utils/validation.py\u001b[0m in \u001b[0;36mcheck_array\u001b[0;34m(array, accept_sparse, accept_large_sparse, dtype, order, copy, force_all_finite, ensure_2d, allow_nd, ensure_min_samples, ensure_min_features, estimator)\u001b[0m\n\u001b[1;32m    744\u001b[0m                     \u001b[0marray\u001b[0m \u001b[0;34m=\u001b[0m \u001b[0marray\u001b[0m\u001b[0;34m.\u001b[0m\u001b[0mastype\u001b[0m\u001b[0;34m(\u001b[0m\u001b[0mdtype\u001b[0m\u001b[0;34m,\u001b[0m \u001b[0mcasting\u001b[0m\u001b[0;34m=\u001b[0m\u001b[0;34m\"unsafe\"\u001b[0m\u001b[0;34m,\u001b[0m \u001b[0mcopy\u001b[0m\u001b[0;34m=\u001b[0m\u001b[0;32mFalse\u001b[0m\u001b[0;34m)\u001b[0m\u001b[0;34m\u001b[0m\u001b[0;34m\u001b[0m\u001b[0m\n\u001b[1;32m    745\u001b[0m                 \u001b[0;32melse\u001b[0m\u001b[0;34m:\u001b[0m\u001b[0;34m\u001b[0m\u001b[0;34m\u001b[0m\u001b[0m\n\u001b[0;32m--> 746\u001b[0;31m                     \u001b[0marray\u001b[0m \u001b[0;34m=\u001b[0m \u001b[0mnp\u001b[0m\u001b[0;34m.\u001b[0m\u001b[0masarray\u001b[0m\u001b[0;34m(\u001b[0m\u001b[0marray\u001b[0m\u001b[0;34m,\u001b[0m \u001b[0morder\u001b[0m\u001b[0;34m=\u001b[0m\u001b[0morder\u001b[0m\u001b[0;34m,\u001b[0m \u001b[0mdtype\u001b[0m\u001b[0;34m=\u001b[0m\u001b[0mdtype\u001b[0m\u001b[0;34m)\u001b[0m\u001b[0;34m\u001b[0m\u001b[0;34m\u001b[0m\u001b[0m\n\u001b[0m\u001b[1;32m    747\u001b[0m             \u001b[0;32mexcept\u001b[0m \u001b[0mComplexWarning\u001b[0m \u001b[0;32mas\u001b[0m \u001b[0mcomplex_warning\u001b[0m\u001b[0;34m:\u001b[0m\u001b[0;34m\u001b[0m\u001b[0;34m\u001b[0m\u001b[0m\n\u001b[1;32m    748\u001b[0m                 raise ValueError(\n",
      "\u001b[0;32m/opt/conda/lib/python3.7/site-packages/pandas/core/generic.py\u001b[0m in \u001b[0;36m__array__\u001b[0;34m(self, dtype)\u001b[0m\n\u001b[1;32m   1991\u001b[0m \u001b[0;34m\u001b[0m\u001b[0m\n\u001b[1;32m   1992\u001b[0m     \u001b[0;32mdef\u001b[0m \u001b[0m__array__\u001b[0m\u001b[0;34m(\u001b[0m\u001b[0mself\u001b[0m\u001b[0;34m,\u001b[0m \u001b[0mdtype\u001b[0m\u001b[0;34m:\u001b[0m \u001b[0mNpDtype\u001b[0m \u001b[0;34m|\u001b[0m \u001b[0;32mNone\u001b[0m \u001b[0;34m=\u001b[0m \u001b[0;32mNone\u001b[0m\u001b[0;34m)\u001b[0m \u001b[0;34m->\u001b[0m \u001b[0mnp\u001b[0m\u001b[0;34m.\u001b[0m\u001b[0mndarray\u001b[0m\u001b[0;34m:\u001b[0m\u001b[0;34m\u001b[0m\u001b[0;34m\u001b[0m\u001b[0m\n\u001b[0;32m-> 1993\u001b[0;31m         \u001b[0;32mreturn\u001b[0m \u001b[0mnp\u001b[0m\u001b[0;34m.\u001b[0m\u001b[0masarray\u001b[0m\u001b[0;34m(\u001b[0m\u001b[0mself\u001b[0m\u001b[0;34m.\u001b[0m\u001b[0m_values\u001b[0m\u001b[0;34m,\u001b[0m \u001b[0mdtype\u001b[0m\u001b[0;34m=\u001b[0m\u001b[0mdtype\u001b[0m\u001b[0;34m)\u001b[0m\u001b[0;34m\u001b[0m\u001b[0;34m\u001b[0m\u001b[0m\n\u001b[0m\u001b[1;32m   1994\u001b[0m \u001b[0;34m\u001b[0m\u001b[0m\n\u001b[1;32m   1995\u001b[0m     def __array_wrap__(\n",
      "\u001b[0;31mValueError\u001b[0m: setting an array element with a sequence."
     ]
    }
   ],
   "source": [
    "### Normal classification without scaling\n",
    "clf = RandomForestClassifier(n_estimators = 100, n_jobs = -1, random_state=50)\n",
    "clf.fit(X_train, y_train)"
   ]
  },
  {
   "cell_type": "code",
   "execution_count": 45,
   "id": "b421e3e5-91e2-4607-95cc-bb293a38440b",
   "metadata": {},
   "outputs": [
    {
     "data": {
      "text/plain": [
       "(1091, 960)"
      ]
     },
     "execution_count": 45,
     "metadata": {},
     "output_type": "execute_result"
    }
   ],
   "source": [
    "rio_bands.shape"
   ]
  }
 ],
 "metadata": {
  "kernelspec": {
   "display_name": "Python 3",
   "language": "python",
   "name": "python3"
  },
  "language_info": {
   "codemirror_mode": {
    "name": "ipython",
    "version": 3
   },
   "file_extension": ".py",
   "mimetype": "text/x-python",
   "name": "python",
   "nbconvert_exporter": "python",
   "pygments_lexer": "ipython3",
   "version": "3.7.12"
  }
 },
 "nbformat": 4,
 "nbformat_minor": 5
}
