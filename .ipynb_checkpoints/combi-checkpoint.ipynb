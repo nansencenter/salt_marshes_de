{
 "cells": [
  {
   "cell_type": "code",
   "execution_count": 1,
   "id": "1cf4daec-8a33-49a5-8be5-fa4410c3f381",
   "metadata": {},
   "outputs": [],
   "source": [
    "from osgeo import gdal\n",
    "import fiona\n",
    "import numpy as np\n",
    "import pandas as pd\n",
    "import geopandas as gpd\n",
    "\n",
    "import rasterio as rio\n",
    "#from rasterstats import zonal_stats\n",
    "\n",
    "from nansat import Nansat\n",
    "from nansat import *\n",
    "\n",
    "from s1denoise import Sentinel1Image\n",
    "from s1denoise import *\n",
    "\n",
    "import matplotlib.pyplot as plt\n",
    "%matplotlib inline\n",
    "\n",
    "import scipy\n",
    "import joblib\n",
    "from sklearn.ensemble import RandomForestClassifier\n",
    "from sklearn.model_selection import train_test_split, cross_val_score\n",
    "from sklearn.metrics import confusion_matrix, ConfusionMatrixDisplay, accuracy_score\n",
    "from sklearn.metrics import precision_score, recall_score, f1_score\n",
    "from sklearn.decomposition import PCA\n",
    "from sklearn.datasets import make_classification\n",
    "from sklearn.linear_model import LogisticRegression\n",
    "from sklearn.pipeline import make_pipeline\n",
    "from sklearn.preprocessing import StandardScaler\n",
    "from sklearn.preprocessing import MinMaxScaler\n",
    "from sklearn import preprocessing\n",
    "\n",
    "import matplotlib as mpl"
   ]
  },
  {
   "cell_type": "code",
   "execution_count": 2,
   "id": "4e0a99f9-a91f-4625-9374-c89cee40ca02",
   "metadata": {},
   "outputs": [],
   "source": [
    "# Define path locations\n",
    "s1_path = '/container_dir1/subsets/S1B_IW_GRDH_1SDV_20210716T054037_20210716T054102_027815_0351B0_E546.zip'\n",
    "s2_path = '/container_dir1/subsets/Subset_S2_20210716_resampled.tif'\n",
    "src_awei = '/container_dir1/subsets/AWEI_S2B_MSIL2A_20210716.tif'\n",
    "src_ndwi = '/container_dir1/subsets/NDWI_S2B_MSIL2A_20210716.tif'\n",
    "src_vis = '/container_dir1/subsets/VIs_Subset_S2B_MSIL2A_20210716.tif'"
   ]
  },
  {
   "cell_type": "code",
   "execution_count": 3,
   "id": "932a7b1b-4429-431a-afa6-eebafcf9e157",
   "metadata": {},
   "outputs": [
    {
     "name": "stderr",
     "output_type": "stream",
     "text": [
      "02:32:59|40|nansat|_get_dataset_metadata|GDAL could not open /container_dir1/subsets/S1B_IW_GRDH_1SDV_20210716T054037_20210716T054102_027815_0351B0_E546.zip, trying to read with Nansat mappers...\n"
     ]
    }
   ],
   "source": [
    "# Open files\n",
    "s1 = Nansat(s1_path)\n",
    "ndwi = Nansat(src_ndwi)\n",
    "awei = Nansat(src_awei)\n",
    "raw_bands_s2 = Nansat(s2_path)\n",
    "vis = Nansat(src_vis)"
   ]
  },
  {
   "cell_type": "code",
   "execution_count": 4,
   "id": "04c3ba53-4b17-4a2f-bdcd-b258b8dbb74a",
   "metadata": {},
   "outputs": [],
   "source": [
    "#Reproject the S1 data to S2\n",
    "n = gdal.Open(s2_path)\n",
    "d = Domain(ds=n)\n",
    "s1.reproject(d)"
   ]
  },
  {
   "cell_type": "code",
   "execution_count": 5,
   "id": "68408ba7-e103-4196-b5e1-0be7ab23f3bf",
   "metadata": {},
   "outputs": [],
   "source": [
    "# Stack as multi-dimensional np array\n",
    "all_bands = [raw_bands_s2[band_n] for band_n in raw_bands_s2.bands().keys()]\n",
    "all_bands.append(ndwi[1])\n",
    "all_bands.append(awei[1])\n",
    "for band_n in vis.bands().keys():\n",
    "    all_bands.append(vis[band_n])"
   ]
  },
  {
   "cell_type": "code",
   "execution_count": 6,
   "id": "333bd08d-728e-4682-847a-5059caa43dcd",
   "metadata": {},
   "outputs": [
    {
     "data": {
      "text/plain": [
       "[array([[157, 183, 193, ...,  77,   1,   3],\n",
       "        [201, 183, 182, ...,   1,   1,   1],\n",
       "        [201, 190, 209, ...,   1,  19,   6],\n",
       "        ...,\n",
       "        [199, 170, 226, ..., 138, 167, 267],\n",
       "        [187, 214, 227, ..., 152, 144, 157],\n",
       "        [188, 223, 244, ..., 148, 141, 164]], dtype=uint16),\n",
       " array([[335, 320, 355, ..., 243, 137, 116],\n",
       "        [367, 334, 335, ..., 147, 112, 141],\n",
       "        [414, 357, 380, ..., 152, 135, 148],\n",
       "        ...,\n",
       "        [382, 386, 403, ..., 512, 620, 713],\n",
       "        [400, 396, 421, ..., 577, 598, 588],\n",
       "        [390, 404, 438, ..., 565, 532, 526]], dtype=uint16),\n",
       " array([[284, 273, 315, ..., 333, 101, 101],\n",
       "        [299, 284, 297, ..., 140,  88,  72],\n",
       "        [315, 311, 317, ..., 139, 114, 108],\n",
       "        ...,\n",
       "        [181, 182, 191, ..., 190, 253, 339],\n",
       "        [183, 189, 213, ..., 173, 200, 240],\n",
       "        [183, 205, 238, ..., 243, 258, 274]], dtype=uint16),\n",
       " array([[1009, 1019,  930, ..., 2156, 2342, 1924],\n",
       "        [1098, 1072, 1046, ..., 1954, 1986, 1914],\n",
       "        [1154, 1086, 1100, ..., 2074, 2020, 2220],\n",
       "        ...,\n",
       "        [ 124,  141,  140, ..., 5484, 5480, 5272],\n",
       "        [ 139,  141,  136, ..., 5616, 5444, 5376],\n",
       "        [ 127,  131,  142, ..., 4804, 4308, 3764]], dtype=uint16),\n",
       " array([[ 445,  373,  373, ..., 1513, 1513, 1069],\n",
       "        [ 445,  373,  373, ..., 1513, 1513, 1069],\n",
       "        [ 547,  454,  454, ..., 1199, 1199, 1127],\n",
       "        ...,\n",
       "        [ 165,  169,  169, ..., 1829, 1829, 1823],\n",
       "        [ 165,  169,  169, ..., 1829, 1829, 1823],\n",
       "        [ 174,  170,  170, ..., 1250, 1250, 1205]], dtype=uint16),\n",
       " array([[271, 229, 229, ..., 758, 758, 492],\n",
       "        [271, 229, 229, ..., 758, 758, 492],\n",
       "        [323, 273, 273, ..., 536, 536, 511],\n",
       "        ...,\n",
       "        [142, 138, 138, ..., 910, 910, 930],\n",
       "        [142, 138, 138, ..., 910, 910, 930],\n",
       "        [143, 142, 142, ..., 584, 584, 523]], dtype=uint16),\n",
       " array([[-0.5014881 , -0.5220313 , -0.4474708 , ..., -0.7974156 ,\n",
       "         -0.8894716 , -0.8862745 ],\n",
       "        [-0.49897614, -0.5248933 , -0.5148443 , ..., -0.86006665,\n",
       "         -0.89323163, -0.8627737 ],\n",
       "        [-0.4719388 , -0.50519747, -0.4864865 , ..., -0.86343217,\n",
       "         -0.87470996, -0.875     ],\n",
       "        ...,\n",
       "        [ 0.5098814 ,  0.46489564,  0.4843462 , ..., -0.82921946,\n",
       "         -0.7967213 , -0.76173764],\n",
       "        [ 0.48423004,  0.47486034,  0.51166964, ..., -0.81366056,\n",
       "         -0.8020523 , -0.80281687],\n",
       "        [ 0.50870407,  0.5102804 ,  0.5103448 , ..., -0.7895325 ,\n",
       "         -0.7801653 , -0.75477856]], dtype=float32),\n",
       " array([[-0.14375   , -0.10965   , -0.09342501, ..., -0.77035   ,\n",
       "         -0.8174    , -0.5646    ],\n",
       "        [-0.13317502, -0.10537501, -0.104325  , ..., -0.8037    ,\n",
       "         -0.8185    , -0.55435   ],\n",
       "        [-0.17087498, -0.141025  , -0.13217501, ..., -0.61805   ,\n",
       "         -0.6235    , -0.587625  ],\n",
       "        ...,\n",
       "        [ 0.04464999,  0.04532501,  0.05215   , ..., -0.91415   ,\n",
       "         -0.87084997, -0.83155   ],\n",
       "        [ 0.051475  ,  0.049325  ,  0.05945001, ..., -0.89145   ,\n",
       "         -0.87874997, -0.88415   ],\n",
       "        [ 0.0439    ,  0.05127499,  0.0646    , ..., -0.5547    ,\n",
       "         -0.55550003, -0.509525  ]], dtype=float32),\n",
       " array([[ 0.5607115 ,  0.5773994 ,  0.4939759 , ...,  0.73242265,\n",
       "          0.91731477,  0.9002469 ],\n",
       "        [ 0.5719399 ,  0.5811209 ,  0.5577066 , ...,  0.8662846 ,\n",
       "          0.91513985,  0.92749244],\n",
       "        [ 0.57113683,  0.5547602 ,  0.5525759 , ...,  0.8743787 ,\n",
       "          0.8931584 ,  0.9072165 ],\n",
       "        ...,\n",
       "        [-0.18688525, -0.12693499, -0.15407851, ...,  0.93302786,\n",
       "          0.91173905,  0.87916595],\n",
       "        [-0.13664599, -0.14545453, -0.22063035, ...,  0.9402315 ,\n",
       "          0.9291283 ,  0.9145299 ],\n",
       "        [-0.18064518, -0.2202381 , -0.25263157, ...,  0.9037052 ,\n",
       "          0.8869908 ,  0.8642892 ]], dtype=float32),\n",
       " array([[2.4988081, 2.502543 , 2.5004003, ..., 2.2463613, 2.3164046,\n",
       "         2.3947332],\n",
       "        [2.4697514, 2.4839523, 2.4828944, ..., 2.370172 , 2.3887475,\n",
       "         2.4108217],\n",
       "        [2.4484465, 2.4659996, 2.4595606, ..., 2.3478441, 2.3697784,\n",
       "         2.3351529],\n",
       "        ...,\n",
       "        [2.8167765, 2.8102574, 2.8041644, ..., 1.9012554, 1.8845617,\n",
       "         1.8785223],\n",
       "        [2.8102217, 2.8052533, 2.7898672, ..., 1.8948002, 1.9019166,\n",
       "         1.8967596],\n",
       "        [2.8143127, 2.7972264, 2.7702603, ..., 1.9469494, 1.991428 ,\n",
       "         2.0458066]], dtype=float32),\n",
       " array([[0.19300197, 0.19531837, 0.17643788, ..., 0.4169223 , 0.4636919 ,\n",
       "         0.38072264],\n",
       "        [0.21013635, 0.20546396, 0.19991967, ..., 0.38510793, 0.39357218,\n",
       "         0.37989727],\n",
       "        [0.22069484, 0.20739062, 0.20996875, ..., 0.4089209 , 0.3992559 ,\n",
       "         0.4391856 ],\n",
       "        ...,\n",
       "        [0.0201818 , 0.02354031, 0.02311203, ..., 0.9641827 , 0.95510757,\n",
       "         0.93120605],\n",
       "        [0.02311674, 0.02336198, 0.02175657, ..., 0.9714914 , 0.9609053 ,\n",
       "         0.9514968 ],\n",
       "        [0.02072816, 0.02096525, 0.0223142 , ..., 0.9000311 , 0.82478756,\n",
       "         0.7276487 ]], dtype=float32),\n",
       " array([[ 0.38789546,  0.46408042,  0.42747504, ...,  0.17525211,\n",
       "          0.2150454 ,  0.28566656],\n",
       "        [ 0.42320156,  0.483737  ,  0.47427765, ...,  0.1271993 ,\n",
       "          0.13518147,  0.28327188],\n",
       "        [ 0.35684893,  0.4103896 ,  0.4157014 , ...,  0.2673388 ,\n",
       "          0.25504816,  0.3265611 ],\n",
       "        ...,\n",
       "        [-0.1418685 , -0.09032255, -0.0938511 , ...,  0.49979487,\n",
       "          0.49952114,  0.48611698],\n",
       "        [-0.08552632, -0.09032255, -0.10819669, ...,  0.50866354,\n",
       "          0.49704385,  0.49354076],\n",
       "        [-0.1561462 , -0.12956813, -0.08974361, ...,  0.5870499 ,\n",
       "          0.5501979 ,  0.51499295]], dtype=float32),\n",
       " array([[ 0.15712367,  0.16527094,  0.13519455, ...,  0.33569035,\n",
       "          0.43294308,  0.36438137],\n",
       "        [ 0.17545786,  0.17275397,  0.16335166, ...,  0.35467094,\n",
       "          0.3794027 ,  0.37322205],\n",
       "        [ 0.18181424,  0.16808362,  0.17119244, ...,  0.37498546,\n",
       "          0.37933367,  0.41176012],\n",
       "        ...,\n",
       "        [-0.01466427, -0.01029323, -0.01329371, ...,  0.8489961 ,\n",
       "          0.82991964,  0.80586135],\n",
       "        [-0.01118512, -0.01240951, -0.01982186, ...,  0.877111  ,\n",
       "          0.8423284 ,  0.8210506 ],\n",
       "        [-0.01426388, -0.0190948 , -0.02464066, ...,  0.7525409 ,\n",
       "          0.6841909 ,  0.61539006]], dtype=float32)]"
      ]
     },
     "execution_count": 6,
     "metadata": {},
     "output_type": "execute_result"
    }
   ],
   "source": [
    "all_bands"
   ]
  },
  {
   "cell_type": "code",
   "execution_count": null,
   "id": "a1a04ab6-4e63-4d7b-816c-f7da1ec904ae",
   "metadata": {},
   "outputs": [],
   "source": [
    "all_bands.append(s1[8])"
   ]
  },
  {
   "cell_type": "code",
   "execution_count": 9,
   "id": "cd10d384-f586-4382-aa0c-4c39ca2c15e5",
   "metadata": {},
   "outputs": [],
   "source": [
    "all_bands.append(s1[10])"
   ]
  },
  {
   "cell_type": "code",
   "execution_count": 10,
   "id": "cc57098c-eea8-48cb-9f18-9b633e3e9d54",
   "metadata": {},
   "outputs": [
    {
     "data": {
      "text/plain": [
       "(19, 1091, 960)"
      ]
     },
     "execution_count": 10,
     "metadata": {},
     "output_type": "execute_result"
    }
   ],
   "source": [
    "bands_stack = np.array(all_bands)\n",
    "\n",
    "# Check the shape of the array, should have 15 layers - 6 optical bands, 7 indices and 2 SAR-bands\n",
    "bands_stack.shape"
   ]
  },
  {
   "cell_type": "code",
   "execution_count": 55,
   "id": "3c1e3250-1760-48a1-afa2-57a873c6ce9d",
   "metadata": {},
   "outputs": [],
   "source": [
    "## Export with Rasterio, because GDAL is a pain\n",
    "with rio.open(s2_path) as src5:\n",
    "    transform = src5.transform\n",
    "affine = transform\n",
    "crs = rio.crs.CRS.from_epsg(32632)\n",
    "\n",
    "meta = {'driver': 'GTiff',\n",
    " 'dtype': 'uint16',\n",
    " 'nodata': None,\n",
    " 'width': bands_stack.shape[2],\n",
    " 'height': bands_stack.shape[1],\n",
    " 'count': bands_stack.shape[0],\n",
    " 'crs': crs,\n",
    " 'transform': affine}\n",
    "\n",
    "with rio.open('/container_dir1/results/all_bands.tif', 'w', **meta) as dst:\n",
    "    for band_nr, src in enumerate(bands_stack, start=1):\n",
    "        dst.write_band(band_nr, src) "
   ]
  },
  {
   "cell_type": "code",
   "execution_count": 67,
   "id": "451a3c91-6b5e-4190-9b7b-830ea39029ad",
   "metadata": {},
   "outputs": [],
   "source": [
    "### Mask land with aoi shapefile\n",
    "from rasterio.mask import mask\n",
    "\n",
    "with fiona.open('/container_dir1/subsets/aoi.shp') as shapefile:\n",
    "    shapes = [feature[\"geometry\"] for feature in shapefile]\n",
    "with rio.open('/container_dir1/results/all_bands.tif') as src4:\n",
    "    out_image, transformed = mask(src4, shapes, crop=True, filled=True)\n",
    "    out_meta = src4.meta"
   ]
  },
  {
   "cell_type": "code",
   "execution_count": 68,
   "id": "f9e849a0-0054-4309-8d01-ce3512dd8130",
   "metadata": {},
   "outputs": [
    {
     "data": {
      "text/plain": [
       "<matplotlib.colorbar.Colorbar at 0x7fdd63b34690>"
      ]
     },
     "execution_count": 68,
     "metadata": {},
     "output_type": "execute_result"
    },
    {
     "data": {
      "image/png": "[encoded data removed]",
      "text/plain": [
       "<Figure size 432x288 with 2 Axes>"
      ]
     },
     "metadata": {
      "needs_background": "light"
     },
     "output_type": "display_data"
    }
   ],
   "source": [
    "# Check if masking worked\n",
    "plt.imshow(out_image[3]);plt.colorbar()"
   ]
  },
  {
   "cell_type": "code",
   "execution_count": 97,
   "id": "030fd3c8-28b7-426d-be11-327dcb84e48a",
   "metadata": {},
   "outputs": [
    {
     "name": "stdout",
     "output_type": "stream",
     "text": [
      "['water' 'structures' 'seabed' 'lsm' 'pioneer' 'usm']\n"
     ]
    },
    {
     "data": {
      "text/html": [
       "<div>\n",
       "<style scoped>\n",
       "    .dataframe tbody tr th:only-of-type {\n",
       "        vertical-align: middle;\n",
       "    }\n",
       "\n",
       "    .dataframe tbody tr th {\n",
       "        vertical-align: top;\n",
       "    }\n",
       "\n",
       "    .dataframe thead th {\n",
       "        text-align: right;\n",
       "    }\n",
       "</style>\n",
       "<table border=\"1\" class=\"dataframe\">\n",
       "  <thead>\n",
       "    <tr style=\"text-align: right;\">\n",
       "      <th></th>\n",
       "      <th>id</th>\n",
       "      <th>classid</th>\n",
       "      <th>classtxt</th>\n",
       "      <th>vertex_ind</th>\n",
       "      <th>vertex_par</th>\n",
       "      <th>vertex_p_1</th>\n",
       "      <th>distance</th>\n",
       "      <th>angle</th>\n",
       "      <th>x</th>\n",
       "      <th>y</th>\n",
       "      <th>geometry</th>\n",
       "    </tr>\n",
       "  </thead>\n",
       "  <tbody>\n",
       "    <tr>\n",
       "      <th>0</th>\n",
       "      <td>None</td>\n",
       "      <td>1</td>\n",
       "      <td>water</td>\n",
       "      <td>0</td>\n",
       "      <td>0</td>\n",
       "      <td>0</td>\n",
       "      <td>0.000000</td>\n",
       "      <td>42.297056</td>\n",
       "      <td>8.784622</td>\n",
       "      <td>54.564908</td>\n",
       "      <td>POINT (486073.904 6046397.927)</td>\n",
       "    </tr>\n",
       "    <tr>\n",
       "      <th>1</th>\n",
       "      <td>None</td>\n",
       "      <td>1</td>\n",
       "      <td>water</td>\n",
       "      <td>1</td>\n",
       "      <td>0</td>\n",
       "      <td>1</td>\n",
       "      <td>9.984770</td>\n",
       "      <td>42.297056</td>\n",
       "      <td>8.784725</td>\n",
       "      <td>54.564975</td>\n",
       "      <td>POINT (486080.623 6046405.312)</td>\n",
       "    </tr>\n",
       "    <tr>\n",
       "      <th>2</th>\n",
       "      <td>None</td>\n",
       "      <td>1</td>\n",
       "      <td>water</td>\n",
       "      <td>2</td>\n",
       "      <td>0</td>\n",
       "      <td>2</td>\n",
       "      <td>19.969540</td>\n",
       "      <td>42.297056</td>\n",
       "      <td>8.784829</td>\n",
       "      <td>54.565041</td>\n",
       "      <td>POINT (486087.343 6046412.697)</td>\n",
       "    </tr>\n",
       "    <tr>\n",
       "      <th>3</th>\n",
       "      <td>None</td>\n",
       "      <td>1</td>\n",
       "      <td>water</td>\n",
       "      <td>3</td>\n",
       "      <td>0</td>\n",
       "      <td>3</td>\n",
       "      <td>29.954310</td>\n",
       "      <td>42.297056</td>\n",
       "      <td>8.784933</td>\n",
       "      <td>54.565108</td>\n",
       "      <td>POINT (486094.062 6046420.083)</td>\n",
       "    </tr>\n",
       "    <tr>\n",
       "      <th>4</th>\n",
       "      <td>None</td>\n",
       "      <td>1</td>\n",
       "      <td>water</td>\n",
       "      <td>4</td>\n",
       "      <td>0</td>\n",
       "      <td>4</td>\n",
       "      <td>39.939081</td>\n",
       "      <td>42.297056</td>\n",
       "      <td>8.785036</td>\n",
       "      <td>54.565175</td>\n",
       "      <td>POINT (486100.782 6046427.468)</td>\n",
       "    </tr>\n",
       "  </tbody>\n",
       "</table>\n",
       "</div>"
      ],
      "text/plain": [
       "     id  classid classtxt  vertex_ind  vertex_par  vertex_p_1   distance  \\\n",
       "0  None        1    water           0           0           0   0.000000   \n",
       "1  None        1    water           1           0           1   9.984770   \n",
       "2  None        1    water           2           0           2  19.969540   \n",
       "3  None        1    water           3           0           3  29.954310   \n",
       "4  None        1    water           4           0           4  39.939081   \n",
       "\n",
       "       angle         x          y                        geometry  \n",
       "0  42.297056  8.784622  54.564908  POINT (486073.904 6046397.927)  \n",
       "1  42.297056  8.784725  54.564975  POINT (486080.623 6046405.312)  \n",
       "2  42.297056  8.784829  54.565041  POINT (486087.343 6046412.697)  \n",
       "3  42.297056  8.784933  54.565108  POINT (486094.062 6046420.083)  \n",
       "4  42.297056  8.785036  54.565175  POINT (486100.782 6046427.468)  "
      ]
     },
     "execution_count": 97,
     "metadata": {},
     "output_type": "execute_result"
    }
   ],
   "source": [
    "#Extract the pixel values of VIs & Bands at training points:\n",
    "# Import shapefile table with labels\n",
    "src_t_points = '/container_dir1/subsets/t_points_new2.shp'\n",
    "points = gpd.read_file(src_t_points)\n",
    "class_names = points['classtxt'].unique()\n",
    "print(class_names)\n",
    "points.head()"
   ]
  },
  {
   "cell_type": "code",
   "execution_count": 109,
   "id": "fb1df91a-362e-455a-8255-8b9d59cb46bb",
   "metadata": {},
   "outputs": [
    {
     "data": {
      "text/html": [
       "<div>\n",
       "<style scoped>\n",
       "    .dataframe tbody tr th:only-of-type {\n",
       "        vertical-align: middle;\n",
       "    }\n",
       "\n",
       "    .dataframe tbody tr th {\n",
       "        vertical-align: top;\n",
       "    }\n",
       "\n",
       "    .dataframe thead th {\n",
       "        text-align: right;\n",
       "    }\n",
       "</style>\n",
       "<table border=\"1\" class=\"dataframe\">\n",
       "  <thead>\n",
       "    <tr style=\"text-align: right;\">\n",
       "      <th></th>\n",
       "      <th>id</th>\n",
       "      <th>classid</th>\n",
       "      <th>classtxt</th>\n",
       "      <th>vertex_ind</th>\n",
       "      <th>vertex_par</th>\n",
       "      <th>vertex_p_1</th>\n",
       "      <th>distance</th>\n",
       "      <th>angle</th>\n",
       "      <th>x</th>\n",
       "      <th>y</th>\n",
       "      <th>...</th>\n",
       "      <th>B12</th>\n",
       "      <th>NDWI</th>\n",
       "      <th>AWEI</th>\n",
       "      <th>NDVI</th>\n",
       "      <th>SAVI</th>\n",
       "      <th>MSAVI</th>\n",
       "      <th>NDMI</th>\n",
       "      <th>EVI</th>\n",
       "      <th>S0_VH</th>\n",
       "      <th>S0_VV</th>\n",
       "    </tr>\n",
       "  </thead>\n",
       "  <tbody>\n",
       "    <tr>\n",
       "      <th>0</th>\n",
       "      <td>None</td>\n",
       "      <td>1</td>\n",
       "      <td>water</td>\n",
       "      <td>0</td>\n",
       "      <td>0</td>\n",
       "      <td>0</td>\n",
       "      <td>0.000000</td>\n",
       "      <td>42.297056</td>\n",
       "      <td>8.784622</td>\n",
       "      <td>54.564908</td>\n",
       "      <td>...</td>\n",
       "      <td>140</td>\n",
       "      <td>0</td>\n",
       "      <td>0</td>\n",
       "      <td>0</td>\n",
       "      <td>2</td>\n",
       "      <td>0</td>\n",
       "      <td>0</td>\n",
       "      <td>0</td>\n",
       "      <td>0</td>\n",
       "      <td>0</td>\n",
       "    </tr>\n",
       "    <tr>\n",
       "      <th>1</th>\n",
       "      <td>None</td>\n",
       "      <td>1</td>\n",
       "      <td>water</td>\n",
       "      <td>1</td>\n",
       "      <td>0</td>\n",
       "      <td>1</td>\n",
       "      <td>9.984770</td>\n",
       "      <td>42.297056</td>\n",
       "      <td>8.784725</td>\n",
       "      <td>54.564975</td>\n",
       "      <td>...</td>\n",
       "      <td>145</td>\n",
       "      <td>0</td>\n",
       "      <td>0</td>\n",
       "      <td>0</td>\n",
       "      <td>2</td>\n",
       "      <td>0</td>\n",
       "      <td>0</td>\n",
       "      <td>0</td>\n",
       "      <td>0</td>\n",
       "      <td>0</td>\n",
       "    </tr>\n",
       "    <tr>\n",
       "      <th>2</th>\n",
       "      <td>None</td>\n",
       "      <td>1</td>\n",
       "      <td>water</td>\n",
       "      <td>2</td>\n",
       "      <td>0</td>\n",
       "      <td>2</td>\n",
       "      <td>19.969540</td>\n",
       "      <td>42.297056</td>\n",
       "      <td>8.784829</td>\n",
       "      <td>54.565041</td>\n",
       "      <td>...</td>\n",
       "      <td>145</td>\n",
       "      <td>0</td>\n",
       "      <td>0</td>\n",
       "      <td>0</td>\n",
       "      <td>2</td>\n",
       "      <td>0</td>\n",
       "      <td>0</td>\n",
       "      <td>0</td>\n",
       "      <td>0</td>\n",
       "      <td>0</td>\n",
       "    </tr>\n",
       "    <tr>\n",
       "      <th>3</th>\n",
       "      <td>None</td>\n",
       "      <td>1</td>\n",
       "      <td>water</td>\n",
       "      <td>3</td>\n",
       "      <td>0</td>\n",
       "      <td>3</td>\n",
       "      <td>29.954310</td>\n",
       "      <td>42.297056</td>\n",
       "      <td>8.784933</td>\n",
       "      <td>54.565108</td>\n",
       "      <td>...</td>\n",
       "      <td>148</td>\n",
       "      <td>0</td>\n",
       "      <td>0</td>\n",
       "      <td>0</td>\n",
       "      <td>2</td>\n",
       "      <td>0</td>\n",
       "      <td>0</td>\n",
       "      <td>0</td>\n",
       "      <td>0</td>\n",
       "      <td>0</td>\n",
       "    </tr>\n",
       "    <tr>\n",
       "      <th>4</th>\n",
       "      <td>None</td>\n",
       "      <td>1</td>\n",
       "      <td>water</td>\n",
       "      <td>4</td>\n",
       "      <td>0</td>\n",
       "      <td>4</td>\n",
       "      <td>39.939081</td>\n",
       "      <td>42.297056</td>\n",
       "      <td>8.785036</td>\n",
       "      <td>54.565175</td>\n",
       "      <td>...</td>\n",
       "      <td>144</td>\n",
       "      <td>0</td>\n",
       "      <td>0</td>\n",
       "      <td>0</td>\n",
       "      <td>2</td>\n",
       "      <td>0</td>\n",
       "      <td>0</td>\n",
       "      <td>0</td>\n",
       "      <td>0</td>\n",
       "      <td>0</td>\n",
       "    </tr>\n",
       "  </tbody>\n",
       "</table>\n",
       "<p>5 rows × 26 columns</p>\n",
       "</div>"
      ],
      "text/plain": [
       "     id  classid classtxt  vertex_ind  vertex_par  vertex_p_1   distance  \\\n",
       "0  None        1    water           0           0           0   0.000000   \n",
       "1  None        1    water           1           0           1   9.984770   \n",
       "2  None        1    water           2           0           2  19.969540   \n",
       "3  None        1    water           3           0           3  29.954310   \n",
       "4  None        1    water           4           0           4  39.939081   \n",
       "\n",
       "       angle         x          y  ...  B12  NDWI  AWEI  NDVI  SAVI  MSAVI  \\\n",
       "0  42.297056  8.784622  54.564908  ...  140     0     0     0     2      0   \n",
       "1  42.297056  8.784725  54.564975  ...  145     0     0     0     2      0   \n",
       "2  42.297056  8.784829  54.565041  ...  145     0     0     0     2      0   \n",
       "3  42.297056  8.784933  54.565108  ...  148     0     0     0     2      0   \n",
       "4  42.297056  8.785036  54.565175  ...  144     0     0     0     2      0   \n",
       "\n",
       "   NDMI  EVI  S0_VH  S0_VV  \n",
       "0     0    0      0      0  \n",
       "1     0    0      0      0  \n",
       "2     0    0      0      0  \n",
       "3     0    0      0      0  \n",
       "4     0    0      0      0  \n",
       "\n",
       "[5 rows x 26 columns]"
      ]
     },
     "execution_count": 109,
     "metadata": {},
     "output_type": "execute_result"
    }
   ],
   "source": [
    "### open the raster \n",
    "coord_list = [(x,y) for x,y in zip(points['geometry'].x , points['geometry'].y)]\n",
    "with rio.open('/container_dir1/results/all_bands.tif') as sava: \n",
    "    samplevalues = [x for x in sava.sample(coord_list)]\n",
    "    \n",
    "B2 = [i[0] for i in samplevalues] \n",
    "B3 = [i[1] for i in samplevalues]\n",
    "B4 = [i[2] for i in samplevalues]\n",
    "B8 = [i[3] for i in samplevalues]\n",
    "B11 = [i[4] for i in samplevalues]\n",
    "B12 = [i[5] for i in samplevalues]\n",
    "NDWI = [i[6] for i in samplevalues] \n",
    "AWEI = [i[7] for i in samplevalues]\n",
    "NDVI = [i[8] for i in samplevalues] \n",
    "SAVI = [i[9] for i in samplevalues]\n",
    "MSAVI = [i[10] for i in samplevalues] \n",
    "NDMI = [i[11] for i in samplevalues]\n",
    "EVI = [i[12] for i in samplevalues] \n",
    "S0_VH = [i[13] for i in samplevalues]\n",
    "S0_VV = [i[14] for i in samplevalues] \n",
    "\n",
    "points['B2']=B2\n",
    "points['B3']=B3\n",
    "points['B4']=B4\n",
    "points['B8']=B8\n",
    "points['B11']=B11\n",
    "points['B12']=B12\n",
    "points['NDWI']=NDWI\n",
    "points['AWEI']=AWEI\n",
    "points['NDVI']=NDVI\n",
    "points['SAVI']=SAVI\n",
    "points['MSAVI']=MSAVI\n",
    "points['NDMI']=NDMI\n",
    "points['EVI']=EVI\n",
    "points['S0_VH']=NDMI\n",
    "points['S0_VV']=EVI\n",
    "\n",
    "points.columns\n",
    "points.head()"
   ]
  },
  {
   "cell_type": "code",
   "execution_count": 110,
   "id": "d67cf445-ba1a-4000-88a0-a8a3f2d8660d",
   "metadata": {},
   "outputs": [
    {
     "data": {
      "text/html": [
       "<div>\n",
       "<style scoped>\n",
       "    .dataframe tbody tr th:only-of-type {\n",
       "        vertical-align: middle;\n",
       "    }\n",
       "\n",
       "    .dataframe tbody tr th {\n",
       "        vertical-align: top;\n",
       "    }\n",
       "\n",
       "    .dataframe thead th {\n",
       "        text-align: right;\n",
       "    }\n",
       "</style>\n",
       "<table border=\"1\" class=\"dataframe\">\n",
       "  <thead>\n",
       "    <tr style=\"text-align: right;\">\n",
       "      <th></th>\n",
       "      <th>classid</th>\n",
       "      <th>classtxt</th>\n",
       "      <th>geometry</th>\n",
       "      <th>B2</th>\n",
       "      <th>B3</th>\n",
       "      <th>B4</th>\n",
       "      <th>B8</th>\n",
       "      <th>B11</th>\n",
       "      <th>B12</th>\n",
       "      <th>NDWI</th>\n",
       "      <th>AWEI</th>\n",
       "      <th>NDVI</th>\n",
       "      <th>SAVI</th>\n",
       "      <th>MSAVI</th>\n",
       "      <th>NDMI</th>\n",
       "      <th>EVI</th>\n",
       "      <th>S0_VH</th>\n",
       "      <th>S0_VV</th>\n",
       "    </tr>\n",
       "  </thead>\n",
       "  <tbody>\n",
       "    <tr>\n",
       "      <th>0</th>\n",
       "      <td>1</td>\n",
       "      <td>water</td>\n",
       "      <td>POINT (486073.904 6046397.927)</td>\n",
       "      <td>248</td>\n",
       "      <td>360</td>\n",
       "      <td>200</td>\n",
       "      <td>139</td>\n",
       "      <td>167</td>\n",
       "      <td>140</td>\n",
       "      <td>0</td>\n",
       "      <td>0</td>\n",
       "      <td>0</td>\n",
       "      <td>2</td>\n",
       "      <td>0</td>\n",
       "      <td>0</td>\n",
       "      <td>0</td>\n",
       "      <td>0</td>\n",
       "      <td>0</td>\n",
       "    </tr>\n",
       "    <tr>\n",
       "      <th>1</th>\n",
       "      <td>1</td>\n",
       "      <td>water</td>\n",
       "      <td>POINT (486080.623 6046405.312)</td>\n",
       "      <td>255</td>\n",
       "      <td>365</td>\n",
       "      <td>225</td>\n",
       "      <td>141</td>\n",
       "      <td>161</td>\n",
       "      <td>145</td>\n",
       "      <td>0</td>\n",
       "      <td>0</td>\n",
       "      <td>0</td>\n",
       "      <td>2</td>\n",
       "      <td>0</td>\n",
       "      <td>0</td>\n",
       "      <td>0</td>\n",
       "      <td>0</td>\n",
       "      <td>0</td>\n",
       "    </tr>\n",
       "    <tr>\n",
       "      <th>2</th>\n",
       "      <td>1</td>\n",
       "      <td>water</td>\n",
       "      <td>POINT (486087.343 6046412.697)</td>\n",
       "      <td>236</td>\n",
       "      <td>366</td>\n",
       "      <td>248</td>\n",
       "      <td>159</td>\n",
       "      <td>161</td>\n",
       "      <td>145</td>\n",
       "      <td>0</td>\n",
       "      <td>0</td>\n",
       "      <td>0</td>\n",
       "      <td>2</td>\n",
       "      <td>0</td>\n",
       "      <td>0</td>\n",
       "      <td>0</td>\n",
       "      <td>0</td>\n",
       "      <td>0</td>\n",
       "    </tr>\n",
       "    <tr>\n",
       "      <th>3</th>\n",
       "      <td>1</td>\n",
       "      <td>water</td>\n",
       "      <td>POINT (486094.062 6046420.083)</td>\n",
       "      <td>203</td>\n",
       "      <td>391</td>\n",
       "      <td>240</td>\n",
       "      <td>135</td>\n",
       "      <td>165</td>\n",
       "      <td>148</td>\n",
       "      <td>0</td>\n",
       "      <td>0</td>\n",
       "      <td>0</td>\n",
       "      <td>2</td>\n",
       "      <td>0</td>\n",
       "      <td>0</td>\n",
       "      <td>0</td>\n",
       "      <td>0</td>\n",
       "      <td>0</td>\n",
       "    </tr>\n",
       "    <tr>\n",
       "      <th>4</th>\n",
       "      <td>1</td>\n",
       "      <td>water</td>\n",
       "      <td>POINT (486100.782 6046427.468)</td>\n",
       "      <td>257</td>\n",
       "      <td>387</td>\n",
       "      <td>238</td>\n",
       "      <td>158</td>\n",
       "      <td>155</td>\n",
       "      <td>144</td>\n",
       "      <td>0</td>\n",
       "      <td>0</td>\n",
       "      <td>0</td>\n",
       "      <td>2</td>\n",
       "      <td>0</td>\n",
       "      <td>0</td>\n",
       "      <td>0</td>\n",
       "      <td>0</td>\n",
       "      <td>0</td>\n",
       "    </tr>\n",
       "    <tr>\n",
       "      <th>...</th>\n",
       "      <td>...</td>\n",
       "      <td>...</td>\n",
       "      <td>...</td>\n",
       "      <td>...</td>\n",
       "      <td>...</td>\n",
       "      <td>...</td>\n",
       "      <td>...</td>\n",
       "      <td>...</td>\n",
       "      <td>...</td>\n",
       "      <td>...</td>\n",
       "      <td>...</td>\n",
       "      <td>...</td>\n",
       "      <td>...</td>\n",
       "      <td>...</td>\n",
       "      <td>...</td>\n",
       "      <td>...</td>\n",
       "      <td>...</td>\n",
       "      <td>...</td>\n",
       "    </tr>\n",
       "    <tr>\n",
       "      <th>14140</th>\n",
       "      <td>5</td>\n",
       "      <td>lsm</td>\n",
       "      <td>POINT (489238.936 6051398.693)</td>\n",
       "      <td>168</td>\n",
       "      <td>402</td>\n",
       "      <td>293</td>\n",
       "      <td>2182</td>\n",
       "      <td>994</td>\n",
       "      <td>475</td>\n",
       "      <td>0</td>\n",
       "      <td>0</td>\n",
       "      <td>0</td>\n",
       "      <td>2</td>\n",
       "      <td>0</td>\n",
       "      <td>0</td>\n",
       "      <td>0</td>\n",
       "      <td>0</td>\n",
       "      <td>0</td>\n",
       "    </tr>\n",
       "    <tr>\n",
       "      <th>14141</th>\n",
       "      <td>5</td>\n",
       "      <td>lsm</td>\n",
       "      <td>POINT (489231.804 6051405.338)</td>\n",
       "      <td>176</td>\n",
       "      <td>392</td>\n",
       "      <td>260</td>\n",
       "      <td>2364</td>\n",
       "      <td>1026</td>\n",
       "      <td>492</td>\n",
       "      <td>0</td>\n",
       "      <td>0</td>\n",
       "      <td>0</td>\n",
       "      <td>2</td>\n",
       "      <td>0</td>\n",
       "      <td>0</td>\n",
       "      <td>0</td>\n",
       "      <td>0</td>\n",
       "      <td>0</td>\n",
       "    </tr>\n",
       "    <tr>\n",
       "      <th>14142</th>\n",
       "      <td>5</td>\n",
       "      <td>lsm</td>\n",
       "      <td>POINT (489224.672 6051411.984)</td>\n",
       "      <td>181</td>\n",
       "      <td>427</td>\n",
       "      <td>246</td>\n",
       "      <td>2352</td>\n",
       "      <td>1026</td>\n",
       "      <td>492</td>\n",
       "      <td>0</td>\n",
       "      <td>0</td>\n",
       "      <td>0</td>\n",
       "      <td>2</td>\n",
       "      <td>0</td>\n",
       "      <td>0</td>\n",
       "      <td>0</td>\n",
       "      <td>0</td>\n",
       "      <td>0</td>\n",
       "    </tr>\n",
       "    <tr>\n",
       "      <th>14143</th>\n",
       "      <td>5</td>\n",
       "      <td>lsm</td>\n",
       "      <td>POINT (489217.540 6051418.630)</td>\n",
       "      <td>148</td>\n",
       "      <td>405</td>\n",
       "      <td>237</td>\n",
       "      <td>2276</td>\n",
       "      <td>1013</td>\n",
       "      <td>493</td>\n",
       "      <td>0</td>\n",
       "      <td>0</td>\n",
       "      <td>0</td>\n",
       "      <td>2</td>\n",
       "      <td>0</td>\n",
       "      <td>0</td>\n",
       "      <td>0</td>\n",
       "      <td>0</td>\n",
       "      <td>0</td>\n",
       "    </tr>\n",
       "    <tr>\n",
       "      <th>14144</th>\n",
       "      <td>5</td>\n",
       "      <td>lsm</td>\n",
       "      <td>POINT (489210.408 6051425.276)</td>\n",
       "      <td>195</td>\n",
       "      <td>453</td>\n",
       "      <td>281</td>\n",
       "      <td>1970</td>\n",
       "      <td>898</td>\n",
       "      <td>475</td>\n",
       "      <td>0</td>\n",
       "      <td>0</td>\n",
       "      <td>0</td>\n",
       "      <td>2</td>\n",
       "      <td>0</td>\n",
       "      <td>0</td>\n",
       "      <td>0</td>\n",
       "      <td>0</td>\n",
       "      <td>0</td>\n",
       "    </tr>\n",
       "  </tbody>\n",
       "</table>\n",
       "<p>14145 rows × 18 columns</p>\n",
       "</div>"
      ],
      "text/plain": [
       "       classid classtxt                        geometry   B2   B3   B4    B8  \\\n",
       "0            1    water  POINT (486073.904 6046397.927)  248  360  200   139   \n",
       "1            1    water  POINT (486080.623 6046405.312)  255  365  225   141   \n",
       "2            1    water  POINT (486087.343 6046412.697)  236  366  248   159   \n",
       "3            1    water  POINT (486094.062 6046420.083)  203  391  240   135   \n",
       "4            1    water  POINT (486100.782 6046427.468)  257  387  238   158   \n",
       "...        ...      ...                             ...  ...  ...  ...   ...   \n",
       "14140        5      lsm  POINT (489238.936 6051398.693)  168  402  293  2182   \n",
       "14141        5      lsm  POINT (489231.804 6051405.338)  176  392  260  2364   \n",
       "14142        5      lsm  POINT (489224.672 6051411.984)  181  427  246  2352   \n",
       "14143        5      lsm  POINT (489217.540 6051418.630)  148  405  237  2276   \n",
       "14144        5      lsm  POINT (489210.408 6051425.276)  195  453  281  1970   \n",
       "\n",
       "        B11  B12  NDWI  AWEI  NDVI  SAVI  MSAVI  NDMI  EVI  S0_VH  S0_VV  \n",
       "0       167  140     0     0     0     2      0     0    0      0      0  \n",
       "1       161  145     0     0     0     2      0     0    0      0      0  \n",
       "2       161  145     0     0     0     2      0     0    0      0      0  \n",
       "3       165  148     0     0     0     2      0     0    0      0      0  \n",
       "4       155  144     0     0     0     2      0     0    0      0      0  \n",
       "...     ...  ...   ...   ...   ...   ...    ...   ...  ...    ...    ...  \n",
       "14140   994  475     0     0     0     2      0     0    0      0      0  \n",
       "14141  1026  492     0     0     0     2      0     0    0      0      0  \n",
       "14142  1026  492     0     0     0     2      0     0    0      0      0  \n",
       "14143  1013  493     0     0     0     2      0     0    0      0      0  \n",
       "14144   898  475     0     0     0     2      0     0    0      0      0  \n",
       "\n",
       "[14145 rows x 18 columns]"
      ]
     },
     "execution_count": 110,
     "metadata": {},
     "output_type": "execute_result"
    }
   ],
   "source": [
    "# create new working gdf with only the interesting columns and without the qgis stuff in original table\n",
    "points2 = points[['classid', 'classtxt', 'geometry', 'B2', 'B3', 'B4', 'B8', 'B11', 'B12', 'NDWI', 'AWEI', 'NDVI', 'SAVI', 'MSAVI', 'NDMI', 'EVI', 'S0_VH', 'S0_VV']].copy()\n",
    "points2\n",
    "\n",
    "### Problem: decimals don´t get imported.... -.-"
   ]
  },
  {
   "cell_type": "code",
   "execution_count": 71,
   "id": "02c78f43-8a92-40b1-be5c-c5b092c53f8d",
   "metadata": {},
   "outputs": [
    {
     "name": "stderr",
     "output_type": "stream",
     "text": [
      "/opt/conda/lib/python3.7/site-packages/ipykernel_launcher.py:2: UserWarning: Column names longer than 10 characters will be truncated when saved to ESRI Shapefile.\n",
      "  \n"
     ]
    },
    {
     "ename": "ValueError",
     "evalue": "Invalid field type <class 'numpy.ndarray'>",
     "output_type": "error",
     "traceback": [
      "\u001b[0;31m---------------------------------------------------------------------------\u001b[0m",
      "\u001b[0;31mValueError\u001b[0m                                Traceback (most recent call last)",
      "\u001b[0;32m<ipython-input-71-56f90f8ed8f5>\u001b[0m in \u001b[0;36m<module>\u001b[0;34m\u001b[0m\n\u001b[1;32m      1\u001b[0m \u001b[0;31m### Export geodataframe as trainingpoints for classification\u001b[0m\u001b[0;34m\u001b[0m\u001b[0;34m\u001b[0m\u001b[0;34m\u001b[0m\u001b[0m\n\u001b[0;32m----> 2\u001b[0;31m \u001b[0mpoints2\u001b[0m\u001b[0;34m.\u001b[0m\u001b[0mto_file\u001b[0m\u001b[0;34m(\u001b[0m\u001b[0;34m'/container_dir1/results/gdf_train_pixelvalues.shp'\u001b[0m\u001b[0;34m,\u001b[0m \u001b[0mmode\u001b[0m\u001b[0;34m=\u001b[0m\u001b[0;34m'w'\u001b[0m\u001b[0;34m)\u001b[0m\u001b[0;34m\u001b[0m\u001b[0;34m\u001b[0m\u001b[0m\n\u001b[0m\u001b[1;32m      3\u001b[0m \u001b[0;31m# doesn´t work because something is a np array?\u001b[0m\u001b[0;34m\u001b[0m\u001b[0;34m\u001b[0m\u001b[0;34m\u001b[0m\u001b[0m\n",
      "\u001b[0;32m/opt/conda/lib/python3.7/site-packages/geopandas/geodataframe.py\u001b[0m in \u001b[0;36mto_file\u001b[0;34m(self, filename, driver, schema, index, **kwargs)\u001b[0m\n\u001b[1;32m   1112\u001b[0m         \u001b[0;32mfrom\u001b[0m \u001b[0mgeopandas\u001b[0m\u001b[0;34m.\u001b[0m\u001b[0mio\u001b[0m\u001b[0;34m.\u001b[0m\u001b[0mfile\u001b[0m \u001b[0;32mimport\u001b[0m \u001b[0m_to_file\u001b[0m\u001b[0;34m\u001b[0m\u001b[0;34m\u001b[0m\u001b[0m\n\u001b[1;32m   1113\u001b[0m \u001b[0;34m\u001b[0m\u001b[0m\n\u001b[0;32m-> 1114\u001b[0;31m         \u001b[0m_to_file\u001b[0m\u001b[0;34m(\u001b[0m\u001b[0mself\u001b[0m\u001b[0;34m,\u001b[0m \u001b[0mfilename\u001b[0m\u001b[0;34m,\u001b[0m \u001b[0mdriver\u001b[0m\u001b[0;34m,\u001b[0m \u001b[0mschema\u001b[0m\u001b[0;34m,\u001b[0m \u001b[0mindex\u001b[0m\u001b[0;34m,\u001b[0m \u001b[0;34m**\u001b[0m\u001b[0mkwargs\u001b[0m\u001b[0;34m)\u001b[0m\u001b[0;34m\u001b[0m\u001b[0;34m\u001b[0m\u001b[0m\n\u001b[0m\u001b[1;32m   1115\u001b[0m \u001b[0;34m\u001b[0m\u001b[0m\n\u001b[1;32m   1116\u001b[0m     \u001b[0;32mdef\u001b[0m \u001b[0mset_crs\u001b[0m\u001b[0;34m(\u001b[0m\u001b[0mself\u001b[0m\u001b[0;34m,\u001b[0m \u001b[0mcrs\u001b[0m\u001b[0;34m=\u001b[0m\u001b[0;32mNone\u001b[0m\u001b[0;34m,\u001b[0m \u001b[0mepsg\u001b[0m\u001b[0;34m=\u001b[0m\u001b[0;32mNone\u001b[0m\u001b[0;34m,\u001b[0m \u001b[0minplace\u001b[0m\u001b[0;34m=\u001b[0m\u001b[0;32mFalse\u001b[0m\u001b[0;34m,\u001b[0m \u001b[0mallow_override\u001b[0m\u001b[0;34m=\u001b[0m\u001b[0;32mFalse\u001b[0m\u001b[0;34m)\u001b[0m\u001b[0;34m:\u001b[0m\u001b[0;34m\u001b[0m\u001b[0;34m\u001b[0m\u001b[0m\n",
      "\u001b[0;32m/opt/conda/lib/python3.7/site-packages/geopandas/io/file.py\u001b[0m in \u001b[0;36m_to_file\u001b[0;34m(df, filename, driver, schema, index, mode, crs, **kwargs)\u001b[0m\n\u001b[1;32m    394\u001b[0m             \u001b[0mfilename\u001b[0m\u001b[0;34m,\u001b[0m \u001b[0mmode\u001b[0m\u001b[0;34m=\u001b[0m\u001b[0mmode\u001b[0m\u001b[0;34m,\u001b[0m \u001b[0mdriver\u001b[0m\u001b[0;34m=\u001b[0m\u001b[0mdriver\u001b[0m\u001b[0;34m,\u001b[0m \u001b[0mcrs_wkt\u001b[0m\u001b[0;34m=\u001b[0m\u001b[0mcrs_wkt\u001b[0m\u001b[0;34m,\u001b[0m \u001b[0mschema\u001b[0m\u001b[0;34m=\u001b[0m\u001b[0mschema\u001b[0m\u001b[0;34m,\u001b[0m \u001b[0;34m**\u001b[0m\u001b[0mkwargs\u001b[0m\u001b[0;34m\u001b[0m\u001b[0;34m\u001b[0m\u001b[0m\n\u001b[1;32m    395\u001b[0m         ) as colxn:\n\u001b[0;32m--> 396\u001b[0;31m             \u001b[0mcolxn\u001b[0m\u001b[0;34m.\u001b[0m\u001b[0mwriterecords\u001b[0m\u001b[0;34m(\u001b[0m\u001b[0mdf\u001b[0m\u001b[0;34m.\u001b[0m\u001b[0miterfeatures\u001b[0m\u001b[0;34m(\u001b[0m\u001b[0;34m)\u001b[0m\u001b[0;34m)\u001b[0m\u001b[0;34m\u001b[0m\u001b[0;34m\u001b[0m\u001b[0m\n\u001b[0m\u001b[1;32m    397\u001b[0m \u001b[0;34m\u001b[0m\u001b[0m\n\u001b[1;32m    398\u001b[0m \u001b[0;34m\u001b[0m\u001b[0m\n",
      "\u001b[0;32m/opt/conda/lib/python3.7/site-packages/fiona/collection.py\u001b[0m in \u001b[0;36mwriterecords\u001b[0;34m(self, records)\u001b[0m\n\u001b[1;32m    359\u001b[0m         \u001b[0;32mif\u001b[0m \u001b[0mself\u001b[0m\u001b[0;34m.\u001b[0m\u001b[0mmode\u001b[0m \u001b[0;32mnot\u001b[0m \u001b[0;32min\u001b[0m \u001b[0;34m(\u001b[0m\u001b[0;34m'a'\u001b[0m\u001b[0;34m,\u001b[0m \u001b[0;34m'w'\u001b[0m\u001b[0;34m)\u001b[0m\u001b[0;34m:\u001b[0m\u001b[0;34m\u001b[0m\u001b[0;34m\u001b[0m\u001b[0m\n\u001b[1;32m    360\u001b[0m             \u001b[0;32mraise\u001b[0m \u001b[0mIOError\u001b[0m\u001b[0;34m(\u001b[0m\u001b[0;34m\"collection not open for writing\"\u001b[0m\u001b[0;34m)\u001b[0m\u001b[0;34m\u001b[0m\u001b[0;34m\u001b[0m\u001b[0m\n\u001b[0;32m--> 361\u001b[0;31m         \u001b[0mself\u001b[0m\u001b[0;34m.\u001b[0m\u001b[0msession\u001b[0m\u001b[0;34m.\u001b[0m\u001b[0mwriterecs\u001b[0m\u001b[0;34m(\u001b[0m\u001b[0mrecords\u001b[0m\u001b[0;34m,\u001b[0m \u001b[0mself\u001b[0m\u001b[0;34m)\u001b[0m\u001b[0;34m\u001b[0m\u001b[0;34m\u001b[0m\u001b[0m\n\u001b[0m\u001b[1;32m    362\u001b[0m         \u001b[0mself\u001b[0m\u001b[0;34m.\u001b[0m\u001b[0m_len\u001b[0m \u001b[0;34m=\u001b[0m \u001b[0mself\u001b[0m\u001b[0;34m.\u001b[0m\u001b[0msession\u001b[0m\u001b[0;34m.\u001b[0m\u001b[0mget_length\u001b[0m\u001b[0;34m(\u001b[0m\u001b[0;34m)\u001b[0m\u001b[0;34m\u001b[0m\u001b[0;34m\u001b[0m\u001b[0m\n\u001b[1;32m    363\u001b[0m         \u001b[0mself\u001b[0m\u001b[0;34m.\u001b[0m\u001b[0m_bounds\u001b[0m \u001b[0;34m=\u001b[0m \u001b[0;32mNone\u001b[0m\u001b[0;34m\u001b[0m\u001b[0;34m\u001b[0m\u001b[0m\n",
      "\u001b[0;32mfiona/ogrext.pyx\u001b[0m in \u001b[0;36mfiona.ogrext.WritingSession.writerecs\u001b[0;34m()\u001b[0m\n",
      "\u001b[0;32mfiona/ogrext.pyx\u001b[0m in \u001b[0;36mfiona.ogrext.OGRFeatureBuilder.build\u001b[0;34m()\u001b[0m\n",
      "\u001b[0;31mValueError\u001b[0m: Invalid field type <class 'numpy.ndarray'>"
     ]
    }
   ],
   "source": [
    "### Export geodataframe as trainingpoints for classification\n",
    "points2.to_file('/container_dir1/results/gdf_train_pixelvalues.shp', mode='w')"
   ]
  },
  {
   "cell_type": "code",
   "execution_count": 111,
   "id": "61e0ceda-6214-4274-9ed8-2144bc8246b8",
   "metadata": {},
   "outputs": [
    {
     "data": {
      "text/plain": [
       "Index(['classid', 'classtxt', 'geometry', 'B2', 'B3', 'B4', 'B8', 'B11', 'B12',\n",
       "       'NDWI', 'AWEI', 'NDVI', 'SAVI', 'MSAVI', 'NDMI', 'EVI', 'S0_VH',\n",
       "       'S0_VV'],\n",
       "      dtype='object')"
      ]
     },
     "execution_count": 111,
     "metadata": {},
     "output_type": "execute_result"
    }
   ],
   "source": [
    "points2.columns"
   ]
  },
  {
   "cell_type": "code",
   "execution_count": 112,
   "id": "8ad1431e-f179-477f-a5a7-a749ad742271",
   "metadata": {},
   "outputs": [],
   "source": [
    "# Drop classes seabed and structures for now, because we only want a binary classification AND the tides of S1 and S2 do not go together - so drop \n",
    "# pioneer saltmarsh as well, because this is water in S1 and vegetation in S2/VIs...\n",
    "points2 = points2[(points2.classtxt != 'seabed') & (points2.classtxt != 'structures') & (points2.classtxt != 'pioneer')]"
   ]
  },
  {
   "cell_type": "code",
   "execution_count": 118,
   "id": "e7169674-0100-469f-9500-b57bca3ca10a",
   "metadata": {},
   "outputs": [
    {
     "name": "stdout",
     "output_type": "stream",
     "text": [
      "['water' 'usm']\n"
     ]
    }
   ],
   "source": [
    "class_names2 = points2['classtxt'].unique()\n",
    "print(class_names2)"
   ]
  },
  {
   "cell_type": "code",
   "execution_count": 165,
   "id": "45a531e5-932e-4303-bbb9-fc9aa61734a5",
   "metadata": {},
   "outputs": [
    {
     "name": "stderr",
     "output_type": "stream",
     "text": [
      "/opt/conda/lib/python3.7/site-packages/pandas/core/indexing.py:1817: SettingWithCopyWarning: \n",
      "A value is trying to be set on a copy of a slice from a DataFrame.\n",
      "Try using .loc[row_indexer,col_indexer] = value instead\n",
      "\n",
      "See the caveats in the documentation: https://pandas.pydata.org/pandas-docs/stable/user_guide/indexing.html#returning-a-view-versus-a-copy\n",
      "  self._setitem_single_column(loc, value, pi)\n"
     ]
    }
   ],
   "source": [
    "points2.loc[(points2.classid == '5'), 'v'] = '6'"
   ]
  },
  {
   "cell_type": "code",
   "execution_count": 120,
   "id": "b5e6b834-22f0-4e96-a395-d3ab67d6c901",
   "metadata": {},
   "outputs": [
    {
     "name": "stdout",
     "output_type": "stream",
     "text": [
      "13656      usm\n",
      "11927    water\n",
      "7319     water\n",
      "8762       usm\n",
      "14047      usm\n",
      "         ...  \n",
      "9259       usm\n",
      "13203      usm\n",
      "13238      usm\n",
      "13581      usm\n",
      "860      water\n",
      "Name: classtxt, Length: 4034, dtype: object\n"
     ]
    }
   ],
   "source": [
    "# Start splitting training points into train and test data set\n",
    "# Convert points2 to a normal pandas dataframe, because there is a np array somewhere in there and it causes problems\n",
    "df = pd.DataFrame(points2)\n",
    "cols = ['B2', 'B3', 'B4', 'B8', 'B11', 'B12', 'NDWI', 'AWEI', 'NDVI', 'SAVI', 'MSAVI', 'NDMI', 'EVI', 'S0_VH', 'S0_VV']\n",
    "X_train, X_test, y_train, y_test=train_test_split(df[cols], df['classid'], train_size=0.7, random_state=42)\n",
    "X_train\n",
    "print(y_train)"
   ]
  },
  {
   "cell_type": "code",
   "execution_count": 121,
   "id": "12a3a0f6-a005-4d36-bb7c-072c321d4324",
   "metadata": {},
   "outputs": [
    {
     "data": {
      "text/plain": [
       "RandomForestClassifier(n_jobs=-1, random_state=50)"
      ]
     },
     "execution_count": 121,
     "metadata": {},
     "output_type": "execute_result"
    }
   ],
   "source": [
    "### Normal classification without scaling, fitting the classifier\n",
    "clf = RandomForestClassifier(n_estimators = 100, n_jobs = -1, random_state=50)\n",
    "clf.fit(X_train, y_train)"
   ]
  },
  {
   "cell_type": "code",
   "execution_count": 122,
   "id": "90c61af2-2f84-4a1a-8007-3bef59820e36",
   "metadata": {},
   "outputs": [],
   "source": [
    "clf_classified = clf.predict(X_test)"
   ]
  },
  {
   "cell_type": "code",
   "execution_count": 125,
   "id": "cf38f4c5-17c1-444e-a046-a85ff055353a",
   "metadata": {},
   "outputs": [
    {
     "name": "stdout",
     "output_type": "stream",
     "text": [
      "['water' 'water' 'water' ... 'usm' 'water' 'water']\n"
     ]
    },
    {
     "data": {
      "image/png": "[encoded data removed]",
      "text/plain": [
       "<Figure size 432x288 with 2 Axes>"
      ]
     },
     "metadata": {
      "needs_background": "light"
     },
     "output_type": "display_data"
    },
    {
     "data": {
      "text/html": [
       "<div>\n",
       "<style scoped>\n",
       "    .dataframe tbody tr th:only-of-type {\n",
       "        vertical-align: middle;\n",
       "    }\n",
       "\n",
       "    .dataframe tbody tr th {\n",
       "        vertical-align: top;\n",
       "    }\n",
       "\n",
       "    .dataframe thead th {\n",
       "        text-align: right;\n",
       "    }\n",
       "</style>\n",
       "<table border=\"1\" class=\"dataframe\">\n",
       "  <thead>\n",
       "    <tr style=\"text-align: right;\">\n",
       "      <th></th>\n",
       "      <th>usm</th>\n",
       "      <th>water</th>\n",
       "      <th>accuracy</th>\n",
       "      <th>macro avg</th>\n",
       "      <th>weighted avg</th>\n",
       "    </tr>\n",
       "  </thead>\n",
       "  <tbody>\n",
       "    <tr>\n",
       "      <th>precision</th>\n",
       "      <td>1.0</td>\n",
       "      <td>1.0</td>\n",
       "      <td>1.0</td>\n",
       "      <td>1.0</td>\n",
       "      <td>1.0</td>\n",
       "    </tr>\n",
       "    <tr>\n",
       "      <th>recall</th>\n",
       "      <td>1.0</td>\n",
       "      <td>1.0</td>\n",
       "      <td>1.0</td>\n",
       "      <td>1.0</td>\n",
       "      <td>1.0</td>\n",
       "    </tr>\n",
       "    <tr>\n",
       "      <th>f1-score</th>\n",
       "      <td>1.0</td>\n",
       "      <td>1.0</td>\n",
       "      <td>1.0</td>\n",
       "      <td>1.0</td>\n",
       "      <td>1.0</td>\n",
       "    </tr>\n",
       "    <tr>\n",
       "      <th>support</th>\n",
       "      <td>817.0</td>\n",
       "      <td>912.0</td>\n",
       "      <td>1.0</td>\n",
       "      <td>1729.0</td>\n",
       "      <td>1729.0</td>\n",
       "    </tr>\n",
       "  </tbody>\n",
       "</table>\n",
       "</div>"
      ],
      "text/plain": [
       "             usm  water  accuracy  macro avg  weighted avg\n",
       "precision    1.0    1.0       1.0        1.0           1.0\n",
       "recall       1.0    1.0       1.0        1.0           1.0\n",
       "f1-score     1.0    1.0       1.0        1.0           1.0\n",
       "support    817.0  912.0       1.0     1729.0        1729.0"
      ]
     },
     "execution_count": 125,
     "metadata": {},
     "output_type": "execute_result"
    }
   ],
   "source": [
    "### Accuracy scores\n",
    "#scores = cross_val_score(clf, X_test, y_train.values, cv=5)\n",
    "#scores\n",
    "\n",
    "#print(\"%0.2f accuracy with a standard deviation of %0.2f\" % (scores.mean(), scores.std()))\n",
    "# classification = clf_classified.reshape((rows, cols))\n",
    "\n",
    "print(clf_classified)\n",
    "#build confusion matrix (x-axis: predicted pixels, y-axis: reference pixels; class 1,2,3,4,5)\n",
    "cm = confusion_matrix(y_test.values, clf_classified, labels = clf.classes_)\n",
    "disp = ConfusionMatrixDisplay(confusion_matrix=cm, display_labels = clf.classes_)\n",
    "disp.plot()\n",
    "plt.show()\n",
    "\n",
    "from sklearn.metrics import classification_report\n",
    "\n",
    "#calculate number of pixels that were classified correctly\n",
    "accuracy_score(y_test, clf_classified, normalize=False)\n",
    "pd.DataFrame(classification_report(y_test, clf_classified, digits=2, output_dict=True))"
   ]
  },
  {
   "cell_type": "code",
   "execution_count": 127,
   "id": "d2bc93dd-3b35-4812-8cd3-09e55c751197",
   "metadata": {},
   "outputs": [
    {
     "data": {
      "text/plain": [
       "array(['water', 'water', 'water', ..., 'usm', 'water', 'water'],\n",
       "      dtype=object)"
      ]
     },
     "execution_count": 127,
     "metadata": {},
     "output_type": "execute_result"
    }
   ],
   "source": [
    "### Save the model\n",
    "\n",
    "joblib.dump(clf, '/container_dir1/results/RFC_all_data.joblib')\n",
    "loaded_clf = joblib.load('/container_dir1/results/RFC_all_data.joblib')\n",
    "\n",
    "# loaded_clf.predict(X_test)\n",
    "loaded_clf.predict(X_test)"
   ]
  },
  {
   "cell_type": "code",
   "execution_count": 128,
   "id": "1f2091e6-0dc3-4dea-937b-4aa6c1d37bae",
   "metadata": {},
   "outputs": [
    {
     "data": {
      "text/plain": [
       "array(['water', 'water', 'water', ..., 'usm', 'water', 'water'],\n",
       "      dtype=object)"
      ]
     },
     "execution_count": 128,
     "metadata": {},
     "output_type": "execute_result"
    }
   ],
   "source": [
    "clf_classified"
   ]
  },
  {
   "cell_type": "code",
   "execution_count": 164,
   "id": "3b7cb665-9360-4ff8-8de3-043875546291",
   "metadata": {},
   "outputs": [
    {
     "ename": "TypeError",
     "evalue": "Image data of dtype <U5 cannot be converted to float",
     "output_type": "error",
     "traceback": [
      "\u001b[0;31m---------------------------------------------------------------------------\u001b[0m",
      "\u001b[0;31mTypeError\u001b[0m                                 Traceback (most recent call last)",
      "\u001b[0;32m<ipython-input-164-f14fdc5ea716>\u001b[0m in \u001b[0;36m<module>\u001b[0;34m\u001b[0m\n\u001b[1;32m      1\u001b[0m \u001b[0;31m# Check if masking worked\u001b[0m\u001b[0;34m\u001b[0m\u001b[0;34m\u001b[0m\u001b[0;34m\u001b[0m\u001b[0m\n\u001b[0;32m----> 2\u001b[0;31m \u001b[0mplt\u001b[0m\u001b[0;34m.\u001b[0m\u001b[0mimshow\u001b[0m\u001b[0;34m(\u001b[0m\u001b[0mclf_classified\u001b[0m\u001b[0;34m[\u001b[0m\u001b[0;36m1\u001b[0m\u001b[0;34m]\u001b[0m\u001b[0;34m)\u001b[0m\u001b[0;34m;\u001b[0m\u001b[0mplt\u001b[0m\u001b[0;34m.\u001b[0m\u001b[0mcolorbar\u001b[0m\u001b[0;34m(\u001b[0m\u001b[0;34m)\u001b[0m\u001b[0;34m\u001b[0m\u001b[0;34m\u001b[0m\u001b[0m\n\u001b[0m",
      "\u001b[0;32m/opt/conda/lib/python3.7/site-packages/matplotlib/_api/deprecation.py\u001b[0m in \u001b[0;36mwrapper\u001b[0;34m(*args, **kwargs)\u001b[0m\n\u001b[1;32m    454\u001b[0m                 \u001b[0;34m\"parameter will become keyword-only %(removal)s.\"\u001b[0m\u001b[0;34m,\u001b[0m\u001b[0;34m\u001b[0m\u001b[0;34m\u001b[0m\u001b[0m\n\u001b[1;32m    455\u001b[0m                 name=name, obj_type=f\"parameter of {func.__name__}()\")\n\u001b[0;32m--> 456\u001b[0;31m         \u001b[0;32mreturn\u001b[0m \u001b[0mfunc\u001b[0m\u001b[0;34m(\u001b[0m\u001b[0;34m*\u001b[0m\u001b[0margs\u001b[0m\u001b[0;34m,\u001b[0m \u001b[0;34m**\u001b[0m\u001b[0mkwargs\u001b[0m\u001b[0;34m)\u001b[0m\u001b[0;34m\u001b[0m\u001b[0;34m\u001b[0m\u001b[0m\n\u001b[0m\u001b[1;32m    457\u001b[0m \u001b[0;34m\u001b[0m\u001b[0m\n\u001b[1;32m    458\u001b[0m     \u001b[0;31m# Don't modify *func*'s signature, as boilerplate.py needs it.\u001b[0m\u001b[0;34m\u001b[0m\u001b[0;34m\u001b[0m\u001b[0;34m\u001b[0m\u001b[0m\n",
      "\u001b[0;32m/opt/conda/lib/python3.7/site-packages/matplotlib/pyplot.py\u001b[0m in \u001b[0;36mimshow\u001b[0;34m(X, cmap, norm, aspect, interpolation, alpha, vmin, vmax, origin, extent, interpolation_stage, filternorm, filterrad, resample, url, data, **kwargs)\u001b[0m\n\u001b[1;32m   2645\u001b[0m         \u001b[0mfilternorm\u001b[0m\u001b[0;34m=\u001b[0m\u001b[0mfilternorm\u001b[0m\u001b[0;34m,\u001b[0m \u001b[0mfilterrad\u001b[0m\u001b[0;34m=\u001b[0m\u001b[0mfilterrad\u001b[0m\u001b[0;34m,\u001b[0m \u001b[0mresample\u001b[0m\u001b[0;34m=\u001b[0m\u001b[0mresample\u001b[0m\u001b[0;34m,\u001b[0m\u001b[0;34m\u001b[0m\u001b[0;34m\u001b[0m\u001b[0m\n\u001b[1;32m   2646\u001b[0m         \u001b[0murl\u001b[0m\u001b[0;34m=\u001b[0m\u001b[0murl\u001b[0m\u001b[0;34m,\u001b[0m \u001b[0;34m**\u001b[0m\u001b[0;34m(\u001b[0m\u001b[0;34m{\u001b[0m\u001b[0;34m\"data\"\u001b[0m\u001b[0;34m:\u001b[0m \u001b[0mdata\u001b[0m\u001b[0;34m}\u001b[0m \u001b[0;32mif\u001b[0m \u001b[0mdata\u001b[0m \u001b[0;32mis\u001b[0m \u001b[0;32mnot\u001b[0m \u001b[0;32mNone\u001b[0m \u001b[0;32melse\u001b[0m \u001b[0;34m{\u001b[0m\u001b[0;34m}\u001b[0m\u001b[0;34m)\u001b[0m\u001b[0;34m,\u001b[0m\u001b[0;34m\u001b[0m\u001b[0;34m\u001b[0m\u001b[0m\n\u001b[0;32m-> 2647\u001b[0;31m         **kwargs)\n\u001b[0m\u001b[1;32m   2648\u001b[0m     \u001b[0msci\u001b[0m\u001b[0;34m(\u001b[0m\u001b[0m__ret\u001b[0m\u001b[0;34m)\u001b[0m\u001b[0;34m\u001b[0m\u001b[0;34m\u001b[0m\u001b[0m\n\u001b[1;32m   2649\u001b[0m     \u001b[0;32mreturn\u001b[0m \u001b[0m__ret\u001b[0m\u001b[0;34m\u001b[0m\u001b[0;34m\u001b[0m\u001b[0m\n",
      "\u001b[0;32m/opt/conda/lib/python3.7/site-packages/matplotlib/_api/deprecation.py\u001b[0m in \u001b[0;36mwrapper\u001b[0;34m(*args, **kwargs)\u001b[0m\n\u001b[1;32m    454\u001b[0m                 \u001b[0;34m\"parameter will become keyword-only %(removal)s.\"\u001b[0m\u001b[0;34m,\u001b[0m\u001b[0;34m\u001b[0m\u001b[0;34m\u001b[0m\u001b[0m\n\u001b[1;32m    455\u001b[0m                 name=name, obj_type=f\"parameter of {func.__name__}()\")\n\u001b[0;32m--> 456\u001b[0;31m         \u001b[0;32mreturn\u001b[0m \u001b[0mfunc\u001b[0m\u001b[0;34m(\u001b[0m\u001b[0;34m*\u001b[0m\u001b[0margs\u001b[0m\u001b[0;34m,\u001b[0m \u001b[0;34m**\u001b[0m\u001b[0mkwargs\u001b[0m\u001b[0;34m)\u001b[0m\u001b[0;34m\u001b[0m\u001b[0;34m\u001b[0m\u001b[0m\n\u001b[0m\u001b[1;32m    457\u001b[0m \u001b[0;34m\u001b[0m\u001b[0m\n\u001b[1;32m    458\u001b[0m     \u001b[0;31m# Don't modify *func*'s signature, as boilerplate.py needs it.\u001b[0m\u001b[0;34m\u001b[0m\u001b[0;34m\u001b[0m\u001b[0;34m\u001b[0m\u001b[0m\n",
      "\u001b[0;32m/opt/conda/lib/python3.7/site-packages/matplotlib/__init__.py\u001b[0m in \u001b[0;36minner\u001b[0;34m(ax, data, *args, **kwargs)\u001b[0m\n\u001b[1;32m   1410\u001b[0m     \u001b[0;32mdef\u001b[0m \u001b[0minner\u001b[0m\u001b[0;34m(\u001b[0m\u001b[0max\u001b[0m\u001b[0;34m,\u001b[0m \u001b[0;34m*\u001b[0m\u001b[0margs\u001b[0m\u001b[0;34m,\u001b[0m \u001b[0mdata\u001b[0m\u001b[0;34m=\u001b[0m\u001b[0;32mNone\u001b[0m\u001b[0;34m,\u001b[0m \u001b[0;34m**\u001b[0m\u001b[0mkwargs\u001b[0m\u001b[0;34m)\u001b[0m\u001b[0;34m:\u001b[0m\u001b[0;34m\u001b[0m\u001b[0;34m\u001b[0m\u001b[0m\n\u001b[1;32m   1411\u001b[0m         \u001b[0;32mif\u001b[0m \u001b[0mdata\u001b[0m \u001b[0;32mis\u001b[0m \u001b[0;32mNone\u001b[0m\u001b[0;34m:\u001b[0m\u001b[0;34m\u001b[0m\u001b[0;34m\u001b[0m\u001b[0m\n\u001b[0;32m-> 1412\u001b[0;31m             \u001b[0;32mreturn\u001b[0m \u001b[0mfunc\u001b[0m\u001b[0;34m(\u001b[0m\u001b[0max\u001b[0m\u001b[0;34m,\u001b[0m \u001b[0;34m*\u001b[0m\u001b[0mmap\u001b[0m\u001b[0;34m(\u001b[0m\u001b[0msanitize_sequence\u001b[0m\u001b[0;34m,\u001b[0m \u001b[0margs\u001b[0m\u001b[0;34m)\u001b[0m\u001b[0;34m,\u001b[0m \u001b[0;34m**\u001b[0m\u001b[0mkwargs\u001b[0m\u001b[0;34m)\u001b[0m\u001b[0;34m\u001b[0m\u001b[0;34m\u001b[0m\u001b[0m\n\u001b[0m\u001b[1;32m   1413\u001b[0m \u001b[0;34m\u001b[0m\u001b[0m\n\u001b[1;32m   1414\u001b[0m         \u001b[0mbound\u001b[0m \u001b[0;34m=\u001b[0m \u001b[0mnew_sig\u001b[0m\u001b[0;34m.\u001b[0m\u001b[0mbind\u001b[0m\u001b[0;34m(\u001b[0m\u001b[0max\u001b[0m\u001b[0;34m,\u001b[0m \u001b[0;34m*\u001b[0m\u001b[0margs\u001b[0m\u001b[0;34m,\u001b[0m \u001b[0;34m**\u001b[0m\u001b[0mkwargs\u001b[0m\u001b[0;34m)\u001b[0m\u001b[0;34m\u001b[0m\u001b[0;34m\u001b[0m\u001b[0m\n",
      "\u001b[0;32m/opt/conda/lib/python3.7/site-packages/matplotlib/axes/_axes.py\u001b[0m in \u001b[0;36mimshow\u001b[0;34m(self, X, cmap, norm, aspect, interpolation, alpha, vmin, vmax, origin, extent, interpolation_stage, filternorm, filterrad, resample, url, **kwargs)\u001b[0m\n\u001b[1;32m   5486\u001b[0m                               **kwargs)\n\u001b[1;32m   5487\u001b[0m \u001b[0;34m\u001b[0m\u001b[0m\n\u001b[0;32m-> 5488\u001b[0;31m         \u001b[0mim\u001b[0m\u001b[0;34m.\u001b[0m\u001b[0mset_data\u001b[0m\u001b[0;34m(\u001b[0m\u001b[0mX\u001b[0m\u001b[0;34m)\u001b[0m\u001b[0;34m\u001b[0m\u001b[0;34m\u001b[0m\u001b[0m\n\u001b[0m\u001b[1;32m   5489\u001b[0m         \u001b[0mim\u001b[0m\u001b[0;34m.\u001b[0m\u001b[0mset_alpha\u001b[0m\u001b[0;34m(\u001b[0m\u001b[0malpha\u001b[0m\u001b[0;34m)\u001b[0m\u001b[0;34m\u001b[0m\u001b[0;34m\u001b[0m\u001b[0m\n\u001b[1;32m   5490\u001b[0m         \u001b[0;32mif\u001b[0m \u001b[0mim\u001b[0m\u001b[0;34m.\u001b[0m\u001b[0mget_clip_path\u001b[0m\u001b[0;34m(\u001b[0m\u001b[0;34m)\u001b[0m \u001b[0;32mis\u001b[0m \u001b[0;32mNone\u001b[0m\u001b[0;34m:\u001b[0m\u001b[0;34m\u001b[0m\u001b[0;34m\u001b[0m\u001b[0m\n",
      "\u001b[0;32m/opt/conda/lib/python3.7/site-packages/matplotlib/image.py\u001b[0m in \u001b[0;36mset_data\u001b[0;34m(self, A)\u001b[0m\n\u001b[1;32m    705\u001b[0m                 not np.can_cast(self._A.dtype, float, \"same_kind\")):\n\u001b[1;32m    706\u001b[0m             raise TypeError(\"Image data of dtype {} cannot be converted to \"\n\u001b[0;32m--> 707\u001b[0;31m                             \"float\".format(self._A.dtype))\n\u001b[0m\u001b[1;32m    708\u001b[0m \u001b[0;34m\u001b[0m\u001b[0m\n\u001b[1;32m    709\u001b[0m         \u001b[0;32mif\u001b[0m \u001b[0mself\u001b[0m\u001b[0;34m.\u001b[0m\u001b[0m_A\u001b[0m\u001b[0;34m.\u001b[0m\u001b[0mndim\u001b[0m \u001b[0;34m==\u001b[0m \u001b[0;36m3\u001b[0m \u001b[0;32mand\u001b[0m \u001b[0mself\u001b[0m\u001b[0;34m.\u001b[0m\u001b[0m_A\u001b[0m\u001b[0;34m.\u001b[0m\u001b[0mshape\u001b[0m\u001b[0;34m[\u001b[0m\u001b[0;34m-\u001b[0m\u001b[0;36m1\u001b[0m\u001b[0;34m]\u001b[0m \u001b[0;34m==\u001b[0m \u001b[0;36m1\u001b[0m\u001b[0;34m:\u001b[0m\u001b[0;34m\u001b[0m\u001b[0;34m\u001b[0m\u001b[0m\n",
      "\u001b[0;31mTypeError\u001b[0m: Image data of dtype <U5 cannot be converted to float"
     ]
    },
    {
     "data": {
      "image/png": "[encoded data removed]",
      "text/plain": [
       "<Figure size 432x288 with 1 Axes>"
      ]
     },
     "metadata": {
      "needs_background": "light"
     },
     "output_type": "display_data"
    }
   ],
   "source": [
    "# Check if masking worked\n"
   ]
  },
  {
   "cell_type": "code",
   "execution_count": 138,
   "id": "88b664d6-0656-46d8-997c-f5b64d3aeafe",
   "metadata": {},
   "outputs": [
    {
     "data": {
      "text/plain": [
       "(15, 1091, 960)"
      ]
     },
     "execution_count": 138,
     "metadata": {},
     "output_type": "execute_result"
    }
   ],
   "source": [
    "out_image.shape"
   ]
  },
  {
   "cell_type": "code",
   "execution_count": 160,
   "id": "9767196c-5c63-4760-8f5d-7c875b990e8a",
   "metadata": {},
   "outputs": [
    {
     "data": {
      "text/plain": [
       "(1729,)"
      ]
     },
     "execution_count": 160,
     "metadata": {},
     "output_type": "execute_result"
    }
   ],
   "source": [
    "clf_classified.shape\n",
    "#???"
   ]
  },
  {
   "cell_type": "code",
   "execution_count": 156,
   "id": "ed45eb27-8530-4edb-ba2a-c53e770d1f8d",
   "metadata": {},
   "outputs": [],
   "source": [
    "### Apply to more original stack\n",
    "keys = ['B2', 'B3', 'B4', 'B8', 'B11', 'B12', 'NDWI', 'AWEI', 'NDVI', 'SAVI', 'MSAVI', 'NDMI', 'EVI', 'S0_VH', 'S0_VV']\n",
    "arr_flat = [out_image[i, :, :].flatten() for i in range(out_image.shape[0])]\n",
    "# returns a list instead of a flattened array?????"
   ]
  },
  {
   "cell_type": "code",
   "execution_count": 157,
   "id": "b724164b-6fbb-4631-8852-b7ec9078a8f1",
   "metadata": {},
   "outputs": [],
   "source": [
    "arr_flat = np.array(arr_flat)"
   ]
  },
  {
   "cell_type": "code",
   "execution_count": 158,
   "id": "23e2a168-4798-4681-a155-3ab25a64a798",
   "metadata": {},
   "outputs": [
    {
     "data": {
      "text/plain": [
       "(15, 1047360)"
      ]
     },
     "execution_count": 158,
     "metadata": {},
     "output_type": "execute_result"
    }
   ],
   "source": [
    "arr_flat.shape"
   ]
  },
  {
   "cell_type": "code",
   "execution_count": 162,
   "id": "0fa8e487-0c01-4484-970f-a3fe05be654a",
   "metadata": {},
   "outputs": [
    {
     "data": {
      "text/plain": [
       "1047360"
      ]
     },
     "execution_count": 162,
     "metadata": {},
     "output_type": "execute_result"
    }
   ],
   "source": [
    "raster_df = pd.DataFrame(arr_flat, {\n",
    "    \"B2\" : arr_flat[0],\n",
    "    \"B3\" : arr_flat[1],\n",
    "    \"B4\" : arr_flat[2],\n",
    "    \"B8\" : arr_flat[3],\n",
    "    \"B11\" : arr_flat[4],\n",
    "    \"B12\" : arr_flat[5],\n",
    "    \"NDWI\" : arr_flat[6],\n",
    "    \"AWEI\" : arr_flat[7],\n",
    "    \"NDVI\" : arr_flat[8],\n",
    "    \"SAVI\" : arr_flat[9],\n",
    "    \"MSAVI\" : arr_flat[10],\n",
    "    \"NDMI\" : arr_flat[11],\n",
    "    \"EVI\" : arr_flat[12],\n",
    "    \"S0_VH\" : arr_flat[13],\n",
    "    \"S0_VV\" : arr_flat[14]})\n",
    "cols_raster_df = raster_df.columns\n",
    "\n",
    "#show length of raster data frame to check number\n",
    "len(raster_df.columns)"
   ]
  },
  {
   "cell_type": "code",
   "execution_count": 161,
   "id": "5cc36fe6-6fcb-409a-8658-7c36426825e1",
   "metadata": {},
   "outputs": [
    {
     "data": {
      "text/plain": [
       "RangeIndex(start=0, stop=1047360, step=1)"
      ]
     },
     "execution_count": 161,
     "metadata": {},
     "output_type": "execute_result"
    }
   ],
   "source": [
    "#show if it worked and all the column-names are correct and in the correct order in the raster data frame\n",
    "raster_df\n",
    "raster_df.columns"
   ]
  },
  {
   "cell_type": "code",
   "execution_count": null,
   "id": "052501f3-37c7-4a53-915b-7169529e1d8e",
   "metadata": {},
   "outputs": [],
   "source": [
    "#classify the raster\n",
    "raster_pred = clf.predict(raster_df)\n",
    "#reshape from array to raster\n",
    "#take shape from original raster\n",
    "shape_out = (arr.shape[1], arr.shape[2])\n",
    "print(shape_out)\n",
    "#show shape from original raster: 2-dimensional (correct? multidimensional?)\n",
    "shape_out\n",
    "\n",
    "#final calssified raster is the classified raster but reshaped in the shape as the original --> multidimensional\n",
    "raster_out = raster_pred.reshape(shape_out)\n",
    "print(raster_out.shape)\n",
    "\n",
    "### Output path\n",
    "output = path + 'RF_Sep_Classification.tif'\n",
    "output\n",
    "#define output data type (same as original)\n",
    "meta[\"dtype\"] = 'float32'\n",
    "meta[\"count\"] = 1\n",
    "\n",
    "#test if it worked\n",
    "meta\n",
    "with rasterio.open(output, 'w', **meta) as dst:\n",
    "    dst.write(raster_out, 1)\n",
    "    \n",
    "raster_out"
   ]
  }
 ],
 "metadata": {
  "kernelspec": {
   "display_name": "Python 3",
   "language": "python",
   "name": "python3"
  },
  "language_info": {
   "codemirror_mode": {
    "name": "ipython",
    "version": 3
   },
   "file_extension": ".py",
   "mimetype": "text/x-python",
   "name": "python",
   "nbconvert_exporter": "python",
   "pygments_lexer": "ipython3",
   "version": "3.7.12"
  }
 },
 "nbformat": 4,
 "nbformat_minor": 5
}
